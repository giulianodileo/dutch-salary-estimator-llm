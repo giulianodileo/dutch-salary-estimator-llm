{
 "cells": [
  {
   "cell_type": "markdown",
   "id": "368655c0-d465-43b1-872a-94c75a454cb2",
   "metadata": {},
   "source": [
    "## Schema"
   ]
  },
  {
   "cell_type": "markdown",
   "id": "2329b243-e0b1-4753-9088-869eadac1aec",
   "metadata": {},
   "source": [
    "Here we decide how we will be the output, What we want to have. \n"
   ]
  },
  {
   "cell_type": "markdown",
   "id": "4907a8b7-2cc8-43c9-820a-ee154051ef81",
   "metadata": {},
   "source": []
  }
 ],
 "metadata": {
  "kernelspec": {
   "display_name": "Python 3 (ipykernel)",
   "language": "python",
   "name": "python3"
  },
  "language_info": {
   "codemirror_mode": {
    "name": "ipython",
    "version": 3
   },
   "file_extension": ".py",
   "mimetype": "text/x-python",
   "name": "python",
   "nbconvert_exporter": "python",
   "pygments_lexer": "ipython3",
   "version": "3.10.6"
  }
 },
 "nbformat": 4,
 "nbformat_minor": 5
}
