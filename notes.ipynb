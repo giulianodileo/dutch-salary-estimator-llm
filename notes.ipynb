{
 "cells": [
  {
   "cell_type": "code",
   "execution_count": null,
   "id": "940bf144",
   "metadata": {},
   "outputs": [],
   "source": []
  },
  {
   "cell_type": "markdown",
   "id": "347a7348",
   "metadata": {},
   "source": [
    "# Clean Salary Data"
   ]
  },
  {
   "cell_type": "markdown",
   "id": "75de835d",
   "metadata": {},
   "source": [
    "## Glassdoor salary cleaner"
   ]
  },
  {
   "cell_type": "code",
   "execution_count": 17,
   "id": "5fdb7b1e",
   "metadata": {},
   "outputs": [],
   "source": [
    "import json\n",
    "\n",
    "def round_to_decade(value: float) -> float:\n",
    "    \"\"\"Round a float to the closest decade as a float.\"\"\"\n",
    "    return float(round(value / 10) * 10)\n",
    "\n",
    "def clean_job_data(\n",
    "    json_file_path=\"raw_data/data_dict.json\",\n",
    "    output_file_path=\"raw_data/data_dict_clean.json\"\n",
    "):\n",
    "    \"\"\"\n",
    "    Cleans job data by:\n",
    "    1. Replacing null 'position' with 'AI Engineer'\n",
    "    2. Removing old 'salary' field\n",
    "    3. Renaming positions:\n",
    "       - 'Back End Developer/ Engineer' -> 'Backend Engineer'\n",
    "       - 'Front End Developer / Engineer' -> 'Frontend Engineer'\n",
    "    4. Restructuring data into:\n",
    "       {\n",
    "         \"position\": ...,\n",
    "         \"seniority\": ...,\n",
    "         \"compensation\": {\n",
    "            \"currency\": \"EUR\",\n",
    "            \"period\": \"monthly\",\n",
    "            \"min_amount\": ...,\n",
    "            \"avg_amount\": ...,\n",
    "            \"max_amount\": ...\n",
    "         },\n",
    "         \"source_url\": ...,\n",
    "         \"source_site\": ...\n",
    "       }\n",
    "    5. Converts yearly values to monthly by dividing by 12,\n",
    "       rounding each amount to the closest decade,\n",
    "       and changing period -> \"monthly\".\n",
    "    \"\"\"\n",
    "    with open(json_file_path, \"r\", encoding=\"utf-8\") as f:\n",
    "        data = json.load(f)\n",
    "\n",
    "    cleaned = []\n",
    "    for entry in data:\n",
    "        # --- Fix position ---\n",
    "        position = entry.get(\"position\")\n",
    "        if position is None:\n",
    "            position = \"AI Engineer\"\n",
    "        elif position == \"Back End Developer/ Engineer\":\n",
    "            position = \"Backend Engineer\"\n",
    "        elif position == \"Front End Developer / Engineer\":\n",
    "            position = \"Frontend Engineer\"\n",
    "\n",
    "        # --- Seniority ---\n",
    "        seniority = entry.get(\"seniority\")\n",
    "\n",
    "        # --- Compensation ---\n",
    "        salary_str = entry.get(\"salary\", \"\")\n",
    "        period = \"monthly\" if \"mnd\" in salary_str else \"yearly\"\n",
    "\n",
    "        min_amount = entry.get(\"min_amount\")\n",
    "        avg_amount = entry.get(\"avg_amount\")\n",
    "        max_amount = entry.get(\"max_amount\")\n",
    "\n",
    "        if period == \"yearly\":\n",
    "            # Convert to monthly & round to closest decade\n",
    "            min_amount = round_to_decade(min_amount / 12) if min_amount else None\n",
    "            avg_amount = round_to_decade(avg_amount / 12) if avg_amount else None\n",
    "            max_amount = round_to_decade(max_amount / 12) if max_amount else None\n",
    "            period = \"monthly\"  # update period\n",
    "\n",
    "        compensation = {\n",
    "            \"currency\": \"EUR\",\n",
    "            \"period\": period,\n",
    "            \"min_amount\": min_amount,\n",
    "            \"avg_amount\": avg_amount,\n",
    "            \"max_amount\": max_amount,\n",
    "        }\n",
    "\n",
    "        cleaned.append({\n",
    "            \"position\": position,\n",
    "            \"seniority\": seniority,\n",
    "            \"compensation\": compensation,\n",
    "            \"source_url\": entry.get(\"source_url\"),\n",
    "            \"source_site\": entry.get(\"source_site\")\n",
    "        })\n",
    "\n",
    "    # Save updated JSON\n",
    "    with open(output_file_path, \"w\", encoding=\"utf-8\") as f:\n",
    "        json.dump(cleaned, f, indent=4, ensure_ascii=False)\n",
    "\n",
    "    print(f\"Cleaned data saved to {output_file_path}\")\n",
    "    return cleaned\n"
   ]
  },
  {
   "cell_type": "code",
   "execution_count": 18,
   "id": "93b4798e",
   "metadata": {},
   "outputs": [
    {
     "name": "stdout",
     "output_type": "stream",
     "text": [
      "Cleaned data saved to raw_data/data_dict_clean.json\n"
     ]
    }
   ],
   "source": [
    "cleaned_data = clean_job_data()"
   ]
  },
  {
   "cell_type": "markdown",
   "id": "7444499a",
   "metadata": {},
   "source": [
    "## Payscale salary cleaner"
   ]
  },
  {
   "cell_type": "code",
   "execution_count": 13,
   "id": "42a38268",
   "metadata": {},
   "outputs": [],
   "source": [
    "import json\n",
    "\n",
    "def round_to_decade(value: float) -> float:\n",
    "    \"\"\"Round a float to the closest decade as a float.\"\"\"\n",
    "    return float(round(value / 10) * 10)\n",
    "\n",
    "def normalize_payscale_salaries(\n",
    "    json_file_path=\"raw_data/payscale_tech_salaries.json\",\n",
    "    output_file_path=\"raw_data/ps_normalised_salaries.json\"\n",
    "):\n",
    "    \"\"\"\n",
    "    Normalizes Payscale salaries by:\n",
    "    1. Renaming positions:\n",
    "       - 'Back End Developer/ Engineer' -> 'Backend Engineer'\n",
    "       - 'Front End Developer / Engineer' -> 'Frontend Engineer'\n",
    "    2. Converting yearly compensation into monthly:\n",
    "       - Divide by 12\n",
    "       - Round to closest decade\n",
    "       - Change period to 'monthly'\n",
    "    \"\"\"\n",
    "    with open(json_file_path, \"r\", encoding=\"utf-8\") as f:\n",
    "        data = json.load(f)\n",
    "\n",
    "    for entry in data:\n",
    "        # --- Rename positions ---\n",
    "        if entry.get(\"position\") == \"Back End Developer/ Engineer\":\n",
    "            entry[\"position\"] = \"Backend Engineer\"\n",
    "        elif entry.get(\"position\") == \"Front End Developer / Engineer\":\n",
    "            entry[\"position\"] = \"Frontend Engineer\"\n",
    "\n",
    "        # --- Compensation conversion ---\n",
    "        comp = entry.get(\"compensation\", {})\n",
    "        if comp.get(\"period\") == \"yearly\":\n",
    "            for key in [\"min_amount\", \"avg_amount\", \"max_amount\"]:\n",
    "                if comp.get(key) is not None:\n",
    "                    comp[key] = round_to_decade(comp[key] / 12)\n",
    "            comp[\"period\"] = \"monthly\"\n",
    "\n",
    "    with open(output_file_path, \"w\", encoding=\"utf-8\") as f:\n",
    "        json.dump(data, f, indent=4, ensure_ascii=False)\n",
    "\n",
    "    print(f\"Normalized data saved to {output_file_path}\")\n",
    "    return data\n"
   ]
  },
  {
   "cell_type": "code",
   "execution_count": 15,
   "id": "5bd6478c",
   "metadata": {},
   "outputs": [
    {
     "name": "stdout",
     "output_type": "stream",
     "text": [
      "Normalized data saved to raw_data/ps_normalised_salaries.json\n"
     ]
    }
   ],
   "source": [
    "ps_cleaned_data = normalize_payscale_salaries()"
   ]
  }
 ],
 "metadata": {
  "kernelspec": {
   "display_name": "dutch-salary-estimator-llm",
   "language": "python",
   "name": "python3"
  },
  "language_info": {
   "codemirror_mode": {
    "name": "ipython",
    "version": 3
   },
   "file_extension": ".py",
   "mimetype": "text/x-python",
   "name": "python",
   "nbconvert_exporter": "python",
   "pygments_lexer": "ipython3",
   "version": "3.10.6"
  }
 },
 "nbformat": 4,
 "nbformat_minor": 5
}
