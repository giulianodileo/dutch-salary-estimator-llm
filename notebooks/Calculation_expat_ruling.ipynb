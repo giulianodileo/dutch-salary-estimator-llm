{
  "cells": [
    {
      "cell_type": "markdown",
      "metadata": {
        "id": "TXmXdHN9YqOQ"
      },
      "source": [
        "# 1. Calculation methodology"
      ]
    },
    {
      "cell_type": "markdown",
      "metadata": {
        "id": "jmdgyGQXY3yY"
      },
      "source": [
        "## Salary brackets\n",
        "From 2024: For newcomers who became eligible from 1 January 2024 onward, the tax-exempt benefit now follows a laddered structure over the five-year period:\n",
        "\n",
        "**30% tax-free for the first 20 months**\n",
        "**20% tax-free for the next 20 months**\n",
        "**10% tax-free for the final 20 months**\n",
        "\n",
        "Applicants with a ruling in place before 2024 are grandfathered, meaning they continue to enjoy the full 30% tax-free allowance for up to five years under the old rules.But a reversal is already underway. Following widespread criticism, the government decided to reverse the 30-20-10 structure:\n",
        "\n",
        "From 1 January 2025 through 31 December 2026, all eligible expats (including new ones) will receive a **flat 30% tax-free allowance**, without scaling. Then, starting 1 January 2027, the allowance will be permanently **adjusted to a flat 27%**, with updated salary thresholds.\n",
        "\n",
        "The 2025 Tax Plan, including the amendments, still requires approval from the Dutch Parliament. Should the proposals be adopted, these changes may have implications for certain employees."
      ]
    },
    {
      "cell_type": "markdown",
      "metadata": {
        "id": "kwPBL0-uaAmT"
      },
      "source": [
        "## Maximum allowable salary for 30% ruling\n",
        "\n",
        "30% facility applies to amounts up to €233,000\n",
        "The tax-free allowance applies to salary amounts of up to €233,000 a year (amount for 2024).\n",
        "\n",
        "https://www.belastingdienst.nl/wps/wcm/connect/en/individuals/content/coming-to-work-in-the-netherlands-30-percent-facility\n"
      ]
    },
    {
      "cell_type": "markdown",
      "metadata": {
        "id": "I_kNzudfbMbN"
      },
      "source": [
        "## Expertise Requirements\n",
        "\n",
        "To qualify for the 30%-ruling, an incoming employee must possess specific expertise that is either not available or scarcely available in the Dutch labor market. This expertise requirement is primarily determined based on a salary norm.\n",
        "\n",
        "Your specific expertise is hardly found on the labour market in the Netherlands. You have a specific expertise if your annual salary, not including the tax-free allowance in the Netherlands, is more than the annual salary in the table.\n",
        "\n",
        "Table: specific expertise\n",
        "Year\tYour annual salary is more than\n",
        "**2025\t€46,660**\n",
        "2024\t€46,107\n",
        "2023\t€41,954\n",
        "\n",
        "You are younger than 30, and you have a Dutch academic master's degree\n",
        "Or you have obtained an equivalent title in another country. You have a specific expertise if your annual salary, not including the tax-free allowance in the Netherlands, is more than the annual salary in the table.\n",
        "Table: specific expertise for people younger than 30\n",
        "Year\tYour annual salary is more than\n",
        "**2025\t€35,468**\n",
        "2024\t€35,048\n",
        "2023\t€31,891\n",
        "\n",
        "https://www.belastingdienst.nl/wps/wcm/connect/en/individuals/content/coming-to-work-in-the-netherlands-30-percent-facility\n",
        "\n",
        "\n"
      ]
    },
    {
      "cell_type": "markdown",
      "metadata": {
        "id": "SR3LY9Lre65q"
      },
      "source": [
        "# 2.Data Schema"
      ]
    },
    {
      "cell_type": "markdown",
      "metadata": {
        "id": "9gHsH1d2fGYN"
      },
      "source": [
        "### Data Inputs\n",
        "\n",
        "Age: integer  \n",
        "Base_salary: Gross, expected to earn once relocated  \n",
        "Duration_years: Expected to remain in the Netherlands, if omitted  assumed 10 years  \n",
        "Start_Date: Date when expected to start the job\n",
        "Expertise: Boolean (if posseses specific expertise not available)  \n",
        "Master_dpl: Boolean (if possesses Dutch academic master degree)\n",
        "\n",
        "### Parameters\n",
        "Salary_cap: Maximum salary on which 30% ruling is applied  \n",
        "Salary_req_young: Salary requirements young professional\n",
        "Salary_expert: Salary for employee with specific expertise\n",
        "\n",
        "### Function\n",
        "\n",
        "Function will consume data inputs and parameters and will return a  \n",
        "dictionary of values for each subsequential year employee will work in  \n",
        "the Netherlands and the respective Gross Salary which will be taxed\n",
        "\n",
        "\n",
        "\n"
      ]
    },
    {
      "cell_type": "markdown",
      "metadata": {
        "id": "mOnzN66dfChq"
      },
      "source": [
        "\n",
        "\n",
        "---\n",
        "\n"
      ]
    },
    {
      "cell_type": "code",
      "execution_count": 12,
      "metadata": {
        "id": "270irvRFfB_P"
      },
      "outputs": [],
      "source": [
        "import pandas as pd\n",
        "import datetime\n",
        "\n",
        "from datetime import datetime, date, time, timedelta\n",
        "import matplotlib.pyplot as plt\n",
        "import seaborn as sns\n"
      ]
    },
    {
      "cell_type": "markdown",
      "metadata": {},
      "source": [
        "# 3.Code"
      ]
    },
    {
      "cell_type": "markdown",
      "metadata": {},
      "source": [
        "### Function calculating taxable income: return taxable income "
      ]
    },
    {
      "cell_type": "code",
      "execution_count": 27,
      "metadata": {
        "id": "eN5eiGnNkNXW"
      },
      "outputs": [],
      "source": [
        "def apply_ruling(base_salary: float, months_dur: int, year: int, year_seq: int):\n",
        "  # base_salary -> annual\n",
        "  # function derives gross salary net of 30% taxes\n",
        "  # months_dur -> months when 30% ruling will be applied\n",
        "  # year_seq: which year we deal with: 0 -> first, 1 -> intermeidate year, 2-> last, 3-> no 30% ruling\n",
        "\n",
        "    if year in (2025, 2026) and year_seq == 0:\n",
        "      # 30% ruling on months applied\n",
        "      gross_taxable = (base_salary - (base_salary * 0.3)) / 12 * months_dur\n",
        "    elif year in (2025, 2026) and year_seq == 1:\n",
        "      # in case 2025, 2025 not first year -> full year 30% ruling\n",
        "      gross_taxable = base_salary - (base_salary * 0.3)\n",
        "    elif year not in (2025, 2026) and year_seq == 1:\n",
        "      # in case 2026 or later and 27% ruling whole year\n",
        "      gross_taxable = base_salary - (base_salary * 0.27)\n",
        "    elif year not in (2025, 2026) and year_seq == 2:\n",
        "      # in case 2026 or later and 27% ruling part of the year\n",
        "      gross_taxable = ((base_salary - (base_salary * 0.27)) / 12 * months_dur) + (base_salary / 12 * (12 - months_dur))\n",
        "    else:\n",
        "      # no 30% ruling and year later than 2026\n",
        "      gross_taxable = base_salary\n",
        "\n",
        "    return gross_taxable"
      ]
    },
    {
      "cell_type": "markdown",
      "metadata": {},
      "source": [
        "### Function to adjust salary for high earners"
      ]
    },
    {
      "cell_type": "code",
      "execution_count": 14,
      "metadata": {},
      "outputs": [],
      "source": [
        "def adjust_highearner(my_dict, salary: int):\n",
        "# CONSUMES DICTIONARY WITH VALUES FOR HIGH EARNER, RETURNS MODIFIED DICT #\n",
        "# CALCULATES TAXABLE INCOME HIGH EARNER SALARY > 233k                    #\n",
        "##########################################################################\n",
        "\n",
        "    surplus = salary - 233000\n",
        "\n",
        "    for key in my_dict:\n",
        "        my_dict[key] = my_dict[key] + surplus\n",
        "        print(my_dict[key])\n",
        "\n",
        "    return None"
      ]
    },
    {
      "cell_type": "markdown",
      "metadata": {},
      "source": [
        "### Function calculates range of values for taxable income over many years based on user inputs"
      ]
    },
    {
      "cell_type": "code",
      "execution_count": 60,
      "metadata": {
        "id": "3b3s8Ehih9JV"
      },
      "outputs": [],
      "source": [
        "def expat_ruling_calc(age: int, salary: float, date_string: str, duration: int = 10,\n",
        "                      expertise: bool = False, master_dpl: bool = False):\n",
        "\n",
        "  # INITIATE KEY PARAMETERS\n",
        "  salary_cap = 233000\n",
        "  salary_req_young = 35468\n",
        "  salary_expert = 46660\n",
        "\n",
        "  # DETERMINE MONTHS REMAINING IN FIRST YEAR & LAST YEAR\n",
        "  # date_string = \"2024-12-25\"\n",
        "\n",
        "  start_date = datetime.strptime(date_string, \"%Y-%m-%d\")\n",
        "\n",
        "  # DETERMINE CURRENT YEAR\n",
        "  current_year = start_date.year\n",
        "\n",
        "  months_remaining_init = 12 - start_date.month + 1\n",
        "  months_remaining_final = 12 - months_remaining_init\n",
        "\n",
        "  # YEARS SEQUENCE\n",
        "  # CREATE A SEQUENCE OF YEARS EXPECTED TO BE EMPLOYED IN NL\n",
        "  # CREATE DICTIONARY TO KEEP VALUES IN\n",
        "\n",
        "  years_sequence = list(range(current_year, current_year + duration))\n",
        "  my_dict = {}\n",
        "  my_key = years_sequence\n",
        "\n",
        "  for key in my_key:\n",
        "    my_dict[key] = \"\"\n",
        "\n",
        "  # CHECK IF 30% RULING WILL APPLY\n",
        "\n",
        "  if age < 30 and expertise == True and master_dpl == True and salary >= salary_req_young:\n",
        "        Ruling_test = True\n",
        "  elif age >= 30 and expertise == True and salary >= salary_expert:\n",
        "        Ruling_test = True\n",
        "  else:\n",
        "        Ruling_test = False\n",
        "\n",
        "  # CALCULATION BASE\n",
        "  # base_salary -> salary used for calculating taxable income\n",
        "\n",
        "  base_salary = salary\n",
        "\n",
        "\n",
        "  if base_salary > salary_cap:\n",
        "        base_salary = salary_cap\n",
        "\n",
        "  keys_list = list(my_dict.keys())  # Get the tuple\n",
        "  keys = list(keys_list)  # Convert tuple to list: ['A', 'B', 'C']\n",
        "\n",
        "  # CHECKING IF THERE IS A BROKEN YEAR AND CALCULATING THESE PARTS #\n",
        "  ##################################################################\n",
        "\n",
        "  if Ruling_test == True:\n",
        "\n",
        "    year1 = apply_ruling(base_salary, months_remaining_init, int(keys_list[0]), 0)\n",
        "    my_dict[keys[0]] = year1\n",
        "\n",
        "  # if broken year ruling\n",
        "\n",
        "    if months_remaining_init == 12:\n",
        "        year5 = apply_ruling(base_salary, 12, int(keys_list[4]), 2)\n",
        "        my_dict[keys[4]] = year5\n",
        "    else:\n",
        "        year6 = apply_ruling(base_salary, months_remaining_final, int(keys_list[5]), 2)\n",
        "        my_dict[keys[5]] = year6\n",
        "\n",
        "    my_dict[keys[0]] = year1\n",
        "\n",
        "\n",
        "    # other years -not first and last years\n",
        "    # depends on full or broken year\n",
        "    if months_remaining_init == 12:\n",
        "        other_years_sequence = list(keys_list[1:5])\n",
        "    else:\n",
        "        other_years_sequence = list(keys_list[1:6])\n",
        "\n",
        "    print(other_years_sequence)\n",
        "\n",
        "    for key in other_years_sequence:\n",
        "      if key >= 2027:\n",
        "        # new 27% ruling\n",
        "        my_dict[key] = apply_ruling(base_salary, 12, int(key), 1)\n",
        "      else:\n",
        "        # apply 30% ruling\n",
        "        my_dict[key] = apply_ruling(base_salary, 12, int(key), 1)\n",
        "\n",
        "    # populating remainder of the dictionary - no ruling\n",
        "    if months_remaining_init == 12:\n",
        "        for key in keys_list[5:]:\n",
        "            my_dict[key] = float(base_salary)\n",
        "    else:\n",
        "        for key in keys_list[6:]:\n",
        "            my_dict[key] = float(base_salary)\n",
        "\n",
        " # check if the salary > 233K and adjust\n",
        "\n",
        "    res = {}\n",
        "    if salary > salary_cap:\n",
        "        res = adjust_highearner(my_dict, salary)\n",
        "        my_dict = res\n",
        "        return my_dict\n",
        "    else:\n",
        "        return my_dict\n",
        "\n",
        "  elif Ruling_test == True:\n",
        "  # ruling not applicable populate everything with gross salary\n",
        "    for key in keys_list:\n",
        "      my_dict[key] = float(base_salary)\n"
      ]
    },
    {
      "cell_type": "code",
      "execution_count": 62,
      "metadata": {},
      "outputs": [
        {
          "name": "stdout",
          "output_type": "stream",
          "text": [
            "[2026, 2027, 2028, 2029]\n"
          ]
        },
        {
          "data": {
            "text/plain": [
              "{2025: 70000.0,\n",
              " 2026: 70000.0,\n",
              " 2027: 73000.0,\n",
              " 2028: 73000.0,\n",
              " 2029: 73000.0,\n",
              " 2030: 100000.0,\n",
              " 2031: 100000.0,\n",
              " 2032: 100000.0,\n",
              " 2033: 100000.0,\n",
              " 2034: 100000.0}"
            ]
          },
          "execution_count": 62,
          "metadata": {},
          "output_type": "execute_result"
        }
      ],
      "source": [
        "my_dict = expat_ruling_calc(35, 100000, \"2025-01-01\", 10, True, True)\n",
        "my_dict"
      ]
    },
    {
      "cell_type": "markdown",
      "metadata": {},
      "source": [
        "### Functions to calculate tax and derive two deductables from tax"
      ]
    },
    {
      "cell_type": "code",
      "execution_count": 64,
      "metadata": {},
      "outputs": [],
      "source": [
        "def calc_tax(gross_salary: float) -> float:\n",
        "\n",
        "    # --- 1) Guardrail: input should be non-negative\n",
        "    if gross_salary < 0:\n",
        "        raise ValueError(\"gross_salary must be non-negative\")\n",
        "\n",
        "    # --- 2) Define the 2025 Box 1 brackets as (upper_limit, rate)\n",
        "    # Bracket 1: 0        .. 38,441  -> 35.82%\n",
        "    # Bracket 2: 38,441   .. 76,817  -> 37.48%\n",
        "    # Bracket 3: 76,817   .. +inf    -> 49.50%\n",
        "    # We implement these as cumulative upper bounds. The last one is infinity.\n",
        "    brackets: List[Tuple[float, float]] = [\n",
        "        (38_441.00, 0.3582),\n",
        "        (76_817.00, 0.3748),\n",
        "        (float(\"inf\"), 0.4950),\n",
        "    ]\n",
        "\n",
        "    # assume taxable income is gross salary\n",
        "    taxable_income = gross_salary\n",
        "\n",
        "    # Walk the brackets and accumulate tax per slice\n",
        "    tax = 0.0\n",
        "    lower_limit = 0.0\n",
        "\n",
        "    for upper_limit, rate in brackets:\n",
        "        # Income that falls inside THIS bracket:\n",
        "        #   from the current lower_limit up to the bracket's upper_limit,\n",
        "        #   but never exceeding taxable_income.\n",
        "        slice_amount = max(0.0, min(taxable_income, upper_limit) - lower_limit)\n",
        "        if slice_amount <= 0:\n",
        "            # No taxable income left for this or further brackets.\n",
        "            break\n",
        "        # Tax for this slice = slice_amount * rate\n",
        "        tax += slice_amount * rate\n",
        "        # Move the lower bound up to this bracket's upper limit\n",
        "        lower_limit = upper_limit\n",
        "        # If we've already taxed the entire taxable_income, stop early\n",
        "        if taxable_income <= upper_limit:\n",
        "            break\n",
        "\n",
        "    # Net income = full gross - tax\n",
        "    net_income = gross_salary - tax\n",
        "\n",
        "    # Return with cents precision\n",
        "    return round(tax, 2)\n"
      ]
    },
    {
      "cell_type": "code",
      "execution_count": 65,
      "metadata": {},
      "outputs": [],
      "source": [
        "def bereken_arbeidskorting(salaris):\n",
        "    \"\"\"\n",
        "    Berekent de arbeidskorting voor Nederland 2025 op basis van het brutosalaris.\n",
        "    De arbeidskorting heeft 4 fases:\n",
        "    - Fase 1 (€0 - €11.491): 0% korting\n",
        "    - Fase 2 (€11.491 - €24.821): Opbouw van 31,15%\n",
        "    - Fase 3 (€24.821 - €39.958): Plateau van €4.152\n",
        "    - Fase 4 (€39.958 - €124.934): Afbouw van 6%\n",
        "    - Boven €124.934: Geen arbeidskorting\n",
        "    Args:\n",
        "        salaris (float): Het bruto jaarsalaris in euro's\n",
        "    Returns:\n",
        "        float: De arbeidskorting in euro's\n",
        "    \"\"\"\n",
        "\n",
        "    # Grenzen en tarieven arbeidskorting 2025\n",
        "    GRENS_1 = 11491    # Ondergrens voor arbeidskorting\n",
        "    GRENS_2 = 24821    # Einde opbouwfase\n",
        "    GRENS_3 = 39958    # Einde plateau\n",
        "    GRENS_4 = 124934   # Bovengrens arbeidskorting\n",
        "\n",
        "    OPBOUW_TARIEF = 0.3115    # 31,15% opbouw in fase 2\n",
        "    MAX_KORTING = 4152        # Maximum arbeidskorting (plateau)\n",
        "    AFBOUW_TARIEF = 0.06      # 6% afbouw in fase 4\n",
        "\n",
        "    # Input validatie\n",
        "    if salaris < 0:\n",
        "        raise ValueError(\"Salaris kan niet negatief zijn\")\n",
        "\n",
        "    # Fase 1: €0 - €11.491 (geen korting)\n",
        "    if salaris <= GRENS_1:\n",
        "        return 0.0\n",
        "\n",
        "    # Fase 2: €11.491 - €24.821 (opbouw 31,15%)\n",
        "    elif salaris <= GRENS_2:\n",
        "        opbouw_bedrag = salaris - GRENS_1\n",
        "        korting = opbouw_bedrag * OPBOUW_TARIEF\n",
        "        return round(korting, 2)\n",
        "\n",
        "    # Fase 3: €24.821 - €39.958 (plateau €4.152)\n",
        "    elif salaris <= GRENS_3:\n",
        "        return MAX_KORTING\n",
        "\n",
        "    # Fase 4: €39.958 - €124.934 (afbouw 6%)\n",
        "    elif salaris <= GRENS_4:\n",
        "        afbouw_bedrag = salaris - GRENS_3\n",
        "        afbouw = afbouw_bedrag * AFBOUW_TARIEF\n",
        "        korting = MAX_KORTING - afbouw\n",
        "        return round(max(korting, 0), 2)  # Minimum 0\n",
        "\n",
        "    # Boven €124.934: geen arbeidskorting meer\n",
        "    else:\n",
        "        return 0.0\n"
      ]
    },
    {
      "cell_type": "code",
      "execution_count": 66,
      "metadata": {},
      "outputs": [],
      "source": [
        "def bereken_algemene_heffingskorting(salaris):\n",
        "    \"\"\"\n",
        "    Berekent de algemene heffingskorting voor Nederland 2025 op basis van het brutosalaris.\n",
        "    De algemene heffingskorting heeft 3 fases:\n",
        "    - Fase 1 (€0 - €24.812): Volledige korting van €3.362\n",
        "    - Fase 2 (€24.812 - €76.421): Afbouw van 6,007% per euro boven €24.812\n",
        "    - Fase 3 (boven €76.421): Geen algemene heffingskorting meer\n",
        "\n",
        "    Args:\n",
        "        salaris (float): Het bruto jaarsalaris in euro's\n",
        "    Returns:\n",
        "        float: De algemene heffingskorting in euro's\n",
        "    \"\"\"\n",
        "\n",
        "    # Grenzen en tarieven algemene heffingskorting 2025\n",
        "    MAXIMUM_KORTING = 3362      # Maximum algemene heffingskorting\n",
        "    AFBOUW_ONDERGRENS = 24812   # Vanaf dit bedrag begint afbouw\n",
        "    AFBOUW_BOVENGRENS = 76421   # Boven dit bedrag is er geen korting meer\n",
        "    AFBOUW_TARIEF = 0.06007     # 6,007% afbouw per euro boven de ondergrens\n",
        "\n",
        "    # Input validatie\n",
        "    if salaris < 0:\n",
        "        raise ValueError(\"Salaris kan niet negatief zijn\")\n",
        "\n",
        "    # Fase 1: €0 - €24.812 (volledige korting)\n",
        "    if salaris <= AFBOUW_ONDERGRENS:\n",
        "        return MAXIMUM_KORTING\n",
        "\n",
        "    # Fase 2: €24.812 - €76.421 (afbouw 6,007%)\n",
        "    elif salaris <= AFBOUW_BOVENGRENS:\n",
        "        afbouw_bedrag = salaris - AFBOUW_ONDERGRENS\n",
        "        afbouw = afbouw_bedrag * AFBOUW_TARIEF\n",
        "        korting = MAXIMUM_KORTING - afbouw\n",
        "        return round(max(korting, 0), 2)  # Minimum 0\n",
        "\n",
        "    # Fase 3: Boven €76.421 (geen korting meer)\n",
        "    else:\n",
        "        return 0.0\n"
      ]
    },
    {
      "cell_type": "markdown",
      "metadata": {},
      "source": [
        "### Addition of the fixed costs to the analysis"
      ]
    },
    {
      "cell_type": "code",
      "execution_count": 67,
      "metadata": {},
      "outputs": [],
      "source": [
        "fixed_costs = {\n",
        "    \"housing\": 1200,\n",
        "    \"utilities\": 300,\n",
        "    \"groceries\": 400,\n",
        "    \"transportation\": 150,\n",
        "    \"health_insurance\": 157,\n",
        "}"
      ]
    },
    {
      "cell_type": "code",
      "execution_count": 78,
      "metadata": {},
      "outputs": [
        {
          "name": "stdout",
          "output_type": "stream",
          "text": [
            "[2026, 2027, 2028, 2029, 2030]\n"
          ]
        },
        {
          "data": {
            "text/plain": [
              "{2025: 21000.0,\n",
              " 2026: 84000.0,\n",
              " 2027: 87600.0,\n",
              " 2028: 87600.0,\n",
              " 2029: 87600.0,\n",
              " 2030: 87600.0,\n",
              " 2031: 120000.0}"
            ]
          },
          "execution_count": 78,
          "metadata": {},
          "output_type": "execute_result"
        }
      ],
      "source": [
        "my_dict = expat_ruling_calc(35, 120000, \"2025-10-01\", 7, True, True)\n",
        "my_dict"
      ]
    },
    {
      "cell_type": "code",
      "execution_count": 79,
      "metadata": {},
      "outputs": [
        {
          "data": {
            "text/html": [
              "<div>\n",
              "<style scoped>\n",
              "    .dataframe tbody tr th:only-of-type {\n",
              "        vertical-align: middle;\n",
              "    }\n",
              "\n",
              "    .dataframe tbody tr th {\n",
              "        vertical-align: top;\n",
              "    }\n",
              "\n",
              "    .dataframe thead th {\n",
              "        text-align: right;\n",
              "    }\n",
              "</style>\n",
              "<table border=\"1\" class=\"dataframe\">\n",
              "  <thead>\n",
              "    <tr style=\"text-align: right;\">\n",
              "      <th></th>\n",
              "      <th>Year</th>\n",
              "      <th>Taxable Income</th>\n",
              "      <th>Fixed Costs</th>\n",
              "      <th>Tax</th>\n",
              "      <th>Arbeidskorting</th>\n",
              "      <th>Algemene Heffingskorting</th>\n",
              "      <th>Netto Disposable</th>\n",
              "      <th>Net Tax</th>\n",
              "    </tr>\n",
              "  </thead>\n",
              "  <tbody>\n",
              "    <tr>\n",
              "      <th>0</th>\n",
              "      <td>2025</td>\n",
              "      <td>21000.0</td>\n",
              "      <td>2207</td>\n",
              "      <td>-7522.0</td>\n",
              "      <td>2962.0</td>\n",
              "      <td>3362.0</td>\n",
              "      <td>17595.0</td>\n",
              "      <td>-13846.0</td>\n",
              "    </tr>\n",
              "    <tr>\n",
              "      <th>1</th>\n",
              "      <td>2026</td>\n",
              "      <td>84000.0</td>\n",
              "      <td>2207</td>\n",
              "      <td>-31708.0</td>\n",
              "      <td>1509.0</td>\n",
              "      <td>0.0</td>\n",
              "      <td>51594.0</td>\n",
              "      <td>-33217.0</td>\n",
              "    </tr>\n",
              "    <tr>\n",
              "      <th>2</th>\n",
              "      <td>2027</td>\n",
              "      <td>87600.0</td>\n",
              "      <td>2207</td>\n",
              "      <td>-33490.0</td>\n",
              "      <td>1293.0</td>\n",
              "      <td>0.0</td>\n",
              "      <td>53196.0</td>\n",
              "      <td>-34783.0</td>\n",
              "    </tr>\n",
              "    <tr>\n",
              "      <th>3</th>\n",
              "      <td>2028</td>\n",
              "      <td>87600.0</td>\n",
              "      <td>2207</td>\n",
              "      <td>-33490.0</td>\n",
              "      <td>1293.0</td>\n",
              "      <td>0.0</td>\n",
              "      <td>53196.0</td>\n",
              "      <td>-34783.0</td>\n",
              "    </tr>\n",
              "    <tr>\n",
              "      <th>4</th>\n",
              "      <td>2029</td>\n",
              "      <td>87600.0</td>\n",
              "      <td>2207</td>\n",
              "      <td>-33490.0</td>\n",
              "      <td>1293.0</td>\n",
              "      <td>0.0</td>\n",
              "      <td>53196.0</td>\n",
              "      <td>-34783.0</td>\n",
              "    </tr>\n",
              "    <tr>\n",
              "      <th>5</th>\n",
              "      <td>2030</td>\n",
              "      <td>87600.0</td>\n",
              "      <td>2207</td>\n",
              "      <td>-33490.0</td>\n",
              "      <td>1293.0</td>\n",
              "      <td>0.0</td>\n",
              "      <td>53196.0</td>\n",
              "      <td>-34783.0</td>\n",
              "    </tr>\n",
              "    <tr>\n",
              "      <th>6</th>\n",
              "      <td>2031</td>\n",
              "      <td>120000.0</td>\n",
              "      <td>2207</td>\n",
              "      <td>-49528.0</td>\n",
              "      <td>0.0</td>\n",
              "      <td>0.0</td>\n",
              "      <td>68265.0</td>\n",
              "      <td>-49528.0</td>\n",
              "    </tr>\n",
              "  </tbody>\n",
              "</table>\n",
              "</div>"
            ],
            "text/plain": [
              "   Year  Taxable Income  Fixed Costs      Tax  Arbeidskorting  \\\n",
              "0  2025         21000.0         2207  -7522.0          2962.0   \n",
              "1  2026         84000.0         2207 -31708.0          1509.0   \n",
              "2  2027         87600.0         2207 -33490.0          1293.0   \n",
              "3  2028         87600.0         2207 -33490.0          1293.0   \n",
              "4  2029         87600.0         2207 -33490.0          1293.0   \n",
              "5  2030         87600.0         2207 -33490.0          1293.0   \n",
              "6  2031        120000.0         2207 -49528.0             0.0   \n",
              "\n",
              "   Algemene Heffingskorting  Netto Disposable  Net Tax  \n",
              "0                    3362.0           17595.0 -13846.0  \n",
              "1                       0.0           51594.0 -33217.0  \n",
              "2                       0.0           53196.0 -34783.0  \n",
              "3                       0.0           53196.0 -34783.0  \n",
              "4                       0.0           53196.0 -34783.0  \n",
              "5                       0.0           53196.0 -34783.0  \n",
              "6                       0.0           68265.0 -49528.0  "
            ]
          },
          "execution_count": 79,
          "metadata": {},
          "output_type": "execute_result"
        }
      ],
      "source": [
        "# CONVERTING TO PANDA DATAFRAME AND ADDING OTHER PARAMETERS\n",
        "df = pd.DataFrame(list(my_dict.items()), columns=[\"Year\", \"Taxable Income\"])\n",
        "\n",
        "# ADDING FIXED COSTS FROM DICTIONARY\n",
        "fixed_costs_total = sum(fixed_costs.values()) if fixed_costs else 0\n",
        "df[\"Fixed Costs\"] = fixed_costs_total\n",
        "\n",
        "# CALCULATING TAX\n",
        "df[\"Tax\"] = round(-df[\"Taxable Income\"].apply(calc_tax), 0)\n",
        "\n",
        "# CALCULATING DEDUCTABLES\n",
        "df[\"Arbeidskorting\"] = round(df[\"Taxable Income\"].apply(bereken_arbeidskorting),0)\n",
        "df[\"Algemene Heffingskorting\"] = round(df[\"Taxable Income\"].apply(bereken_algemene_heffingskorting),0)\n",
        "\n",
        "# CALCULATING NETTO INCOME AFTER TAX & FIXED EXPENSES\n",
        "df[\"Netto Disposable\"] = df[\"Taxable Income\"] + (df[\"Tax\"] + df[\"Arbeidskorting\"] + df[\"Algemene Heffingskorting\"]) - df[\"Fixed Costs\"]\n",
        "\n",
        "# CALCULATING NET TAX\n",
        "df[\"Net Tax\"] = df[\"Tax\"] - (df[\"Arbeidskorting\"] + df[\"Algemene Heffingskorting\"])\n",
        "\n",
        "\n",
        "df"
      ]
    },
    {
      "cell_type": "markdown",
      "metadata": {},
      "source": [
        "### Graphs"
      ]
    },
    {
      "cell_type": "code",
      "execution_count": 77,
      "metadata": {},
      "outputs": [
        {
          "data": {
            "image/png": "[encoded data removed]",
            "text/plain": [
              "<Figure size 1000x600 with 1 Axes>"
            ]
          },
          "metadata": {},
          "output_type": "display_data"
        }
      ],
      "source": [
        "# Prepare data\n",
        "plot_df = df[['Year', 'Netto Disposable', 'Fixed Costs', 'Net Tax']].copy()\n",
        "plot_df['Net Tax'] = plot_df['Net Tax'].abs()\n",
        "plot_df['Year'] = plot_df['Year'].astype(str)\n",
        "\n",
        "# Set style\n",
        "sns.set_theme(style=\"whitegrid\")\n",
        "\n",
        "# Use Blues sequential palette\n",
        "colors = sns.color_palette(\"Blues\", n_colors=3)  # 3 shades for 3 categories\n",
        "\n",
        "# Plot stacked bars\n",
        "fig, ax = plt.subplots(figsize=(10,6))\n",
        "\n",
        "bottom = None\n",
        "categories = ['Netto Disposable', 'Fixed Costs','Net Tax']\n",
        "for i, cat in enumerate(categories):\n",
        "    ax.bar(\n",
        "        plot_df['Year'],\n",
        "        plot_df[cat],\n",
        "        label=cat,\n",
        "        bottom=bottom,\n",
        "        color=colors[i]\n",
        "    )\n",
        "\n",
        "    # Annotate inside each segment\n",
        "    for x, y, b in zip(plot_df['Year'], plot_df[cat], bottom if bottom is not None else [0]*len(plot_df)):\n",
        "        if y > 0:\n",
        "            ax.text(\n",
        "                x, b + y/2, f\"{y:,.0f}\",\n",
        "                ha='center', va='center',\n",
        "                fontsize=9, color=\"black\",\n",
        "            )\n",
        "\n",
        "    bottom = plot_df[categories[:i+1]].sum(axis=1)\n",
        "\n",
        "# Titles & labels\n",
        "ax.set_title(\"Income Composition by Year\", fontsize=16)\n",
        "ax.set_ylabel(\"Amount (€)\", fontsize=12, weight='bold')\n",
        "ax.set_xlabel(\"Year\", fontsize=12,weight='bold')\n",
        "\n",
        "# Legend outside\n",
        "ax.legend(\n",
        "    title=\"Category\",\n",
        "    bbox_to_anchor=(1.02, 1),\n",
        "    loc='upper left',\n",
        "    borderaxespad=0,\n",
        "    frameon=False\n",
        ")\n",
        "\n",
        "sns.despine()\n",
        "plt.tight_layout()\n",
        "plt.show()\n"
      ]
    },
    {
      "cell_type": "code",
      "execution_count": null,
      "metadata": {},
      "outputs": [],
      "source": []
    }
  ],
  "metadata": {
    "colab": {
      "private_outputs": true,
      "provenance": []
    },
    "kernelspec": {
      "display_name": "dutch-salary-estimator-llm",
      "language": "python",
      "name": "python3"
    },
    "language_info": {
      "codemirror_mode": {
        "name": "ipython",
        "version": 3
      },
      "file_extension": ".py",
      "mimetype": "text/x-python",
      "name": "python",
      "nbconvert_exporter": "python",
      "pygments_lexer": "ipython3",
      "version": "3.10.6"
    }
  },
  "nbformat": 4,
  "nbformat_minor": 0
}
