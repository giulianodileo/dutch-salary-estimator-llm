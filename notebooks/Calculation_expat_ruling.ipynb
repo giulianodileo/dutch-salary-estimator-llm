{
  "nbformat": 4,
  "nbformat_minor": 0,
  "metadata": {
    "colab": {
      "private_outputs": true,
      "provenance": []
    },
    "kernelspec": {
      "name": "python3",
      "display_name": "Python 3"
    },
    "language_info": {
      "name": "python"
    }
  },
  "cells": [
    {
      "cell_type": "markdown",
      "source": [
        "# 1. Calculation methodology"
      ],
      "metadata": {
        "id": "TXmXdHN9YqOQ"
      }
    },
    {
      "cell_type": "markdown",
      "source": [
        "## Salary brackets\n",
        "From 2024: For newcomers who became eligible from 1 January 2024 onward, the tax-exempt benefit now follows a laddered structure over the five-year period:\n",
        "\n",
        "**30% tax-free for the first 20 months**\n",
        "**20% tax-free for the next 20 months**\n",
        "**10% tax-free for the final 20 months**\n",
        "\n",
        "Applicants with a ruling in place before 2024 are grandfathered, meaning they continue to enjoy the full 30% tax-free allowance for up to five years under the old rules.But a reversal is already underway. Following widespread criticism, the government decided to reverse the 30-20-10 structure:\n",
        "\n",
        "From 1 January 2025 through 31 December 2026, all eligible expats (including new ones) will receive a **flat 30% tax-free allowance**, without scaling. Then, starting 1 January 2027, the allowance will be permanently **adjusted to a flat 27%**, with updated salary thresholds.\n",
        "\n",
        "The 2025 Tax Plan, including the amendments, still requires approval from the Dutch Parliament. Should the proposals be adopted, these changes may have implications for certain employees."
      ],
      "metadata": {
        "id": "jmdgyGQXY3yY"
      }
    },
    {
      "cell_type": "markdown",
      "source": [
        "## Maximum allowable salary for 30% ruling\n",
        "\n",
        "30% facility applies to amounts up to €233,000\n",
        "The tax-free allowance applies to salary amounts of up to €233,000 a year (amount for 2024).\n",
        "\n",
        "https://www.belastingdienst.nl/wps/wcm/connect/en/individuals/content/coming-to-work-in-the-netherlands-30-percent-facility\n"
      ],
      "metadata": {
        "id": "kwPBL0-uaAmT"
      }
    },
    {
      "cell_type": "markdown",
      "source": [
        "## Expertise Requirements\n",
        "\n",
        "To qualify for the 30%-ruling, an incoming employee must possess specific expertise that is either not available or scarcely available in the Dutch labor market. This expertise requirement is primarily determined based on a salary norm.\n",
        "\n",
        "Your specific expertise is hardly found on the labour market in the Netherlands. You have a specific expertise if your annual salary, not including the tax-free allowance in the Netherlands, is more than the annual salary in the table.\n",
        "\n",
        "Table: specific expertise\n",
        "Year\tYour annual salary is more than\n",
        "**2025\t€46,660**\n",
        "2024\t€46,107\n",
        "2023\t€41,954\n",
        "\n",
        "You are younger than 30, and you have a Dutch academic master's degree\n",
        "Or you have obtained an equivalent title in another country. You have a specific expertise if your annual salary, not including the tax-free allowance in the Netherlands, is more than the annual salary in the table.\n",
        "Table: specific expertise for people younger than 30\n",
        "Year\tYour annual salary is more than\n",
        "**2025\t€35,468**\n",
        "2024\t€35,048\n",
        "2023\t€31,891\n",
        "\n",
        "https://www.belastingdienst.nl/wps/wcm/connect/en/individuals/content/coming-to-work-in-the-netherlands-30-percent-facility\n",
        "\n",
        "\n"
      ],
      "metadata": {
        "id": "I_kNzudfbMbN"
      }
    },
    {
      "cell_type": "markdown",
      "source": [
        "# 2.Data Schema"
      ],
      "metadata": {
        "id": "SR3LY9Lre65q"
      }
    },
    {
      "cell_type": "markdown",
      "source": [
        "### Data Inputs\n",
        "\n",
        "Age: integer  \n",
        "Base_salary: Gross, expected to earn once relocated  \n",
        "Duration_years: Expected to remain in the Netherlands, if omitted  assumed 10 years  \n",
        "Start_Date: Date when expected to start the job\n",
        "Expertise: Boolean (if posseses specific expertise not available)  \n",
        "Master_dpl: Boolean (if possesses Dutch academic master degree)\n",
        "\n",
        "### Parameters\n",
        "Salary_cap: Maximum salary on which 30% ruling is applied  \n",
        "Salary_req_young: Salary requirements young professional\n",
        "Salary_expert: Salary for employee with specific expertise\n",
        "\n",
        "### Function\n",
        "\n",
        "Function will consume data inputs and parameters and will return a  \n",
        "dictionary of values for each subsequential year employee will work in  \n",
        "the Netherlands and the respective Gross Salary which will be taxed\n",
        "\n",
        "\n",
        "\n"
      ],
      "metadata": {
        "id": "9gHsH1d2fGYN"
      }
    },
    {
      "cell_type": "markdown",
      "source": [
        "\n",
        "\n",
        "---\n",
        "\n"
      ],
      "metadata": {
        "id": "mOnzN66dfChq"
      }
    },
    {
      "cell_type": "code",
      "source": [
        "import pandas as pd\n",
        "import datetime\n",
        "\n",
        "from datetime import datetime, date, time, timedelta\n",
        "import matplotlib.pyplot as plt\n"
      ],
      "metadata": {
        "id": "270irvRFfB_P"
      },
      "execution_count": null,
      "outputs": []
    },
    {
      "cell_type": "code",
      "source": [
        "def apply_ruling(base_salary: float, months_dur: int, year: int, year_seq: int):\n",
        "  # base_salary -> annual\n",
        "  # function derives gross salary net of 30% taxes\n",
        "  # months_dur -> months when 30% ruling will be applied\n",
        "  # year_seq: which year we deal with: 0 -> first, 1 -> intermeidate year, 2-> last, 3-> no 30% ruling\n",
        "\n",
        "    if year in (2025, 2026) and year_seq == 0 and months_dur != 12:\n",
        "      # 30% ruling on months applied\n",
        "      gross_taxable = (base_salary - (base_salary * 0.3)) / 12 * months_dur\n",
        "    elif year in (2025, 2026) and year_seq == 1:\n",
        "      # in case 2025, 2025 not first year -> full year 30% ruling\n",
        "      gross_taxable = base_salary - (base_salary * 0.3)\n",
        "    elif year not in (2025, 2026) and year_seq == 1:\n",
        "      # in case 2026 or later and 27% ruling whole year\n",
        "      gross_taxable = base_salary - (base_salary * 0.27)\n",
        "    elif year not in (2025, 2026) and year_seq == 2:\n",
        "      # in case 2026 or later and 30% ruling part of the year\n",
        "      gross_taxable = ((base_salary - (base_salary * 0.3)) / 12 * months_dur) + (base_salary / 12 * (12 - months_dur))\n",
        "    else:\n",
        "      # no 30% ruling and year later than 2026\n",
        "      gross_taxable = base_salary\n",
        "\n",
        "    return gross_taxable"
      ],
      "metadata": {
        "id": "eN5eiGnNkNXW"
      },
      "execution_count": null,
      "outputs": []
    },
    {
      "cell_type": "code",
      "source": [
        "# apply_ruling(55000, 3, 2025, 0)"
      ],
      "metadata": {
        "id": "3SVmFxrokOTK"
      },
      "execution_count": null,
      "outputs": []
    },
    {
      "cell_type": "code",
      "source": [
        "def expat_ruling_calc(age: int, base_salary: float, date_string: str, duration: int = 10,\n",
        "                      expertise: bool = False, master_dpl: bool = False):\n",
        "\n",
        "  # INITIATE KEY PARAMETERS\n",
        "  salary_cap = 233000\n",
        "  salary_req_young = 35468\n",
        "  salary_expert = 46660\n",
        "\n",
        "  # DETERMINE MONTHS REMAINING IN FIRST YEAR & LAST YEAR\n",
        "  # date_string = \"2024-12-25\"\n",
        "\n",
        "  start_date = datetime.strptime(date_string, \"%Y-%m-%d\")\n",
        "\n",
        "  # DETERMINE CURRENT YEAR\n",
        "  current_year = start_date.year\n",
        "\n",
        "  months_remaining_init = 12 - start_date.month + 1\n",
        "  months_remaining_final = 12 - months_remaining_init\n",
        "\n",
        "  # YEARS SEQUENCE\n",
        "  # CREATE A SEQUENCE OF YEARS EXPECTED TO BE EMPLOYED IN NL\n",
        "  # CREATE DICTIONARY TO KEEP VALUES IN\n",
        "\n",
        "  years_sequence = list(range(current_year, current_year + duration))\n",
        "  my_dict = {}\n",
        "  my_key = years_sequence\n",
        "\n",
        "  for key in my_key:\n",
        "    my_dict[key] = \"\"\n",
        "\n",
        "  # CHECK IF 30% RULING WILL APPLY\n",
        "\n",
        "  if age < 30 and expertise == True and master_dpl == True and base_salary >= salary_req_young:\n",
        "        Ruling_test = True\n",
        "  elif age >= 30 and expertise == True and base_salary >= salary_expert:\n",
        "        Ruling_test = True\n",
        "  else:\n",
        "        Ruling_test = False\n",
        "\n",
        "  # CALCULATION BASE\n",
        "\n",
        "  if base_salary > salary_cap:\n",
        "    base_salary = salary_cap\n",
        "  else:\n",
        "    base_salary = base_salary\n",
        "\n",
        "  keys_list = list(my_dict.keys())  # Get the tuple\n",
        "  keys = list(keys_list)  # Convert tuple to list: ['A', 'B', 'C']\n",
        "\n",
        "  # CHECKING IF THERE IS A BROKEN YEAR AND CALCULATING THESE PARTS #\n",
        "  ##################################################################\n",
        "\n",
        "  if Ruling_test == True:\n",
        "    # months_remaining_init != 12 and Ruling_test == True:\n",
        "    # if start date not January\n",
        "\n",
        "    year1 = apply_ruling(base_salary, months_remaining_init, int(keys_list[0]), 0)\n",
        "    year5 = apply_ruling(base_salary, months_remaining_final, int(keys_list[4]), 2)\n",
        "    my_dict[keys[0]] = year1\n",
        "    my_dict[keys[4]] = year5\n",
        "\n",
        "    # other years -not first and last years\n",
        "    other_years_sequence = list(keys_list[1:4])\n",
        "\n",
        "    for key in other_years_sequence:\n",
        "      if key >= 2027:\n",
        "        # new 27% ruling\n",
        "        my_dict[key] = apply_ruling(base_salary, 12, int(key), 1)\n",
        "      else:\n",
        "        # apply 30% ruling\n",
        "        my_dict[key] = apply_ruling(base_salary, 12, int(key), 1)\n",
        "\n",
        "    # populating remainder of the dictionary - no ruling\n",
        "    for key in keys_list[5:]:\n",
        "      my_dict[key] = float(base_salary)\n",
        "\n",
        "    return my_dict\n",
        "\n",
        "  else:\n",
        "    # not applicable - not fulfilling conditions\n",
        "    # populating remainder of the dictionary - no ruling\n",
        "    for key in keys_list:\n",
        "      my_dict[key] = float(base_salary)\n",
        "\n",
        "    return my_dict\n",
        "\n",
        ""
      ],
      "metadata": {
        "id": "3b3s8Ehih9JV"
      },
      "execution_count": null,
      "outputs": []
    },
    {
      "cell_type": "code",
      "source": [
        "import matplotlib.pyplot as plt\n",
        "\n",
        "def draw(my_dict):\n",
        "  keys = list(my_dict.keys())\n",
        "  values = list(my_dict.values())\n",
        "  plt.tight_layout()\n",
        "  plt.plot(keys, values)   # you could also use plt.plot(keys, values) for a line plot\n",
        "  plt.xlabel(\"Years\")\n",
        "  plt.ylabel(\"Taxable Salary\")\n",
        "  plt.title(\"Taxable salary with 30% ruling dervied\")\n",
        "  plt.show()"
      ],
      "metadata": {
        "id": "bNg8pLFQ9rFJ"
      },
      "execution_count": null,
      "outputs": []
    },
    {
      "cell_type": "code",
      "source": [
        "my_dict = expat_ruling_calc(35, 100000, \"2025-10-01\", 8, True, False)\n",
        "draw(my_dict)"
      ],
      "metadata": {
        "id": "s1Ha2FDevJhL"
      },
      "execution_count": null,
      "outputs": []
    },
    {
      "cell_type": "code",
      "source": [],
      "metadata": {
        "id": "QeGO9ig49zMp"
      },
      "execution_count": null,
      "outputs": []
    }
  ]
}