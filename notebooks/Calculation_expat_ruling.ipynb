{
<<<<<<< HEAD
 "cells": [
  {
   "cell_type": "markdown",
   "metadata": {
    "id": "TXmXdHN9YqOQ"
   },
   "source": [
    "# 1. Calculation methodology"
   ]
=======
  "cells": [
    {
      "cell_type": "markdown",
      "metadata": {
        "id": "TXmXdHN9YqOQ"
      },
      "source": [
        "# 1. Calculation methodology"
      ]
    },
    {
      "cell_type": "markdown",
      "metadata": {
        "id": "jmdgyGQXY3yY"
      },
      "source": [
        "## Salary brackets\n",
        "From 2024: For newcomers who became eligible from 1 January 2024 onward, the tax-exempt benefit now follows a laddered structure over the five-year period:\n",
        "\n",
        "**30% tax-free for the first 20 months**\n",
        "**20% tax-free for the next 20 months**\n",
        "**10% tax-free for the final 20 months**\n",
        "\n",
        "Applicants with a ruling in place before 2024 are grandfathered, meaning they continue to enjoy the full 30% tax-free allowance for up to five years under the old rules.But a reversal is already underway. Following widespread criticism, the government decided to reverse the 30-20-10 structure:\n",
        "\n",
        "From 1 January 2025 through 31 December 2026, all eligible expats (including new ones) will receive a **flat 30% tax-free allowance**, without scaling. Then, starting 1 January 2027, the allowance will be permanently **adjusted to a flat 27%**, with updated salary thresholds.\n",
        "\n",
        "The 2025 Tax Plan, including the amendments, still requires approval from the Dutch Parliament. Should the proposals be adopted, these changes may have implications for certain employees."
      ]
    },
    {
      "cell_type": "markdown",
      "metadata": {
        "id": "kwPBL0-uaAmT"
      },
      "source": [
        "## Maximum allowable salary for 30% ruling\n",
        "\n",
        "30% facility applies to amounts up to €233,000\n",
        "The tax-free allowance applies to salary amounts of up to €233,000 a year (amount for 2024).\n",
        "\n",
        "https://www.belastingdienst.nl/wps/wcm/connect/en/individuals/content/coming-to-work-in-the-netherlands-30-percent-facility\n"
      ]
    },
    {
      "cell_type": "markdown",
      "metadata": {
        "id": "I_kNzudfbMbN"
      },
      "source": [
        "## Expertise Requirements\n",
        "\n",
        "To qualify for the 30%-ruling, an incoming employee must possess specific expertise that is either not available or scarcely available in the Dutch labor market. This expertise requirement is primarily determined based on a salary norm.\n",
        "\n",
        "Your specific expertise is hardly found on the labour market in the Netherlands. You have a specific expertise if your annual salary, not including the tax-free allowance in the Netherlands, is more than the annual salary in the table.\n",
        "\n",
        "Table: specific expertise\n",
        "Year\tYour annual salary is more than\n",
        "**2025\t€46,660**\n",
        "2024\t€46,107\n",
        "2023\t€41,954\n",
        "\n",
        "You are younger than 30, and you have a Dutch academic master's degree\n",
        "Or you have obtained an equivalent title in another country. You have a specific expertise if your annual salary, not including the tax-free allowance in the Netherlands, is more than the annual salary in the table.\n",
        "Table: specific expertise for people younger than 30\n",
        "Year\tYour annual salary is more than\n",
        "**2025\t€35,468**\n",
        "2024\t€35,048\n",
        "2023\t€31,891\n",
        "\n",
        "https://www.belastingdienst.nl/wps/wcm/connect/en/individuals/content/coming-to-work-in-the-netherlands-30-percent-facility\n",
        "\n",
        "\n"
      ]
    },
    {
      "cell_type": "markdown",
      "metadata": {
        "id": "SR3LY9Lre65q"
      },
      "source": [
        "# 2.Data Schema"
      ]
    },
    {
      "cell_type": "markdown",
      "metadata": {
        "id": "9gHsH1d2fGYN"
      },
      "source": [
        "### Data Inputs\n",
        "\n",
        "Age: integer  \n",
        "Base_salary: Gross, expected to earn once relocated  \n",
        "Duration_years: Expected to remain in the Netherlands, if omitted  assumed 10 years  \n",
        "Start_Date: Date when expected to start the job\n",
        "Expertise: Boolean (if posseses specific expertise not available)  \n",
        "Master_dpl: Boolean (if possesses Dutch academic master degree)\n",
        "\n",
        "### Parameters\n",
        "Salary_cap: Maximum salary on which 30% ruling is applied  \n",
        "Salary_req_young: Salary requirements young professional\n",
        "Salary_expert: Salary for employee with specific expertise\n",
        "\n",
        "### Function\n",
        "\n",
        "Function will consume data inputs and parameters and will return a  \n",
        "dictionary of values for each subsequential year employee will work in  \n",
        "the Netherlands and the respective Gross Salary which will be taxed\n",
        "\n",
        "\n",
        "\n"
      ]
    },
    {
      "cell_type": "markdown",
      "metadata": {
        "id": "mOnzN66dfChq"
      },
      "source": [
        "\n",
        "\n",
        "---\n",
        "\n"
      ]
    },
    {
      "cell_type": "code",
      "execution_count": 79,
      "metadata": {
        "id": "270irvRFfB_P"
      },
      "outputs": [],
      "source": [
        "import pandas as pd\n",
        "import datetime\n",
        "\n",
        "from datetime import datetime, date, time, timedelta\n",
        "import matplotlib.pyplot as plt\n",
        "import seaborn as sns\n"
      ]
    },
    {
      "cell_type": "markdown",
      "metadata": {},
      "source": [
        "# 3.Code"
      ]
    },
    {
      "cell_type": "markdown",
      "metadata": {},
      "source": [
        "### Function calculating taxable income: return taxable income "
      ]
    },
    {
      "cell_type": "code",
      "execution_count": 80,
      "metadata": {
        "id": "eN5eiGnNkNXW"
      },
      "outputs": [],
      "source": [
        "def apply_ruling(base_salary: float, months_dur: int, year: int, year_seq: int):\n",
        "  # base_salary -> annual\n",
        "  # function derives gross salary net of 30% taxes\n",
        "  # months_dur -> months when 30% ruling will be applied\n",
        "  # year_seq: which year we deal with: 0 -> first, 1 -> intermeidate year, 2-> last, 3-> no 30% ruling\n",
        "\n",
        "    if year in (2025, 2026) and year_seq == 0:\n",
        "      # 30% ruling on months applied\n",
        "      gross_taxable = (base_salary - (base_salary * 0.3)) / 12 * months_dur\n",
        "    elif year in (2025, 2026) and year_seq == 1:\n",
        "      # in case 2025, 2025 not first year -> full year 30% ruling\n",
        "      gross_taxable = base_salary - (base_salary * 0.3)\n",
        "    elif year not in (2025, 2026) and year_seq == 1:\n",
        "      # in case 2026 or later and 27% ruling whole year\n",
        "      gross_taxable = base_salary - (base_salary * 0.27)\n",
        "    elif year not in (2025, 2026) and year_seq == 2:\n",
        "      # in case 2026 or later and 27% ruling part of the year\n",
        "      gross_taxable = ((base_salary - (base_salary * 0.27)) / 12 * months_dur) + (base_salary / 12 * (12 - months_dur))\n",
        "    else:\n",
        "      # no 30% ruling and year later than 2026\n",
        "      gross_taxable = base_salary\n",
        "\n",
        "    return gross_taxable"
      ]
    },
    {
      "cell_type": "markdown",
      "metadata": {},
      "source": [
        "### Function to adjust salary for high earners"
      ]
    },
    {
      "cell_type": "code",
      "execution_count": 81,
      "metadata": {},
      "outputs": [],
      "source": [
        "def adjust_highearner(my_dict, salary: int):\n",
        "# CONSUMES DICTIONARY WITH VALUES FOR HIGH EARNER, RETURNS MODIFIED DICT #\n",
        "# CALCULATES TAXABLE INCOME HIGH EARNER SALARY > 233k                    #\n",
        "##########################################################################\n",
        "\n",
        "    surplus = salary - 233000\n",
        "\n",
        "    for key in my_dict:\n",
        "        my_dict[key] = my_dict[key] + surplus\n",
        "        print(my_dict[key])\n",
        "\n",
        "    return my_dict"
      ]
    },
    {
      "cell_type": "markdown",
      "metadata": {},
      "source": [
        "### Function calculates range of values for taxable income over many years based on user inputs"
      ]
    },
    {
      "cell_type": "code",
      "execution_count": 82,
      "metadata": {
        "id": "3b3s8Ehih9JV"
      },
      "outputs": [],
      "source": [
        "def expat_ruling_calc(age: int, salary: float, date_string: str, duration: int = 10,\n",
        "                      expertise: bool = False, master_dpl: bool = False):\n",
        "\n",
        "  # INITIATE KEY PARAMETERS\n",
        "  salary_cap = 233000\n",
        "  salary_req_young = 35468\n",
        "  salary_expert = 46660\n",
        "\n",
        "  # DETERMINE MONTHS REMAINING IN FIRST YEAR & LAST YEAR\n",
        "  # date_string = \"2024-12-25\"\n",
        "\n",
        "  start_date = datetime.strptime(date_string, \"%Y-%m-%d\")\n",
        "\n",
        "\n",
        "  # DETERMINE CURRENT YEAR\n",
        "  current_year = start_date.year\n",
        "\n",
        "  months_remaining_init = 12 - start_date.month + 1\n",
        "  months_remaining_final = 12 - months_remaining_init\n",
        "\n",
        "  # YEARS SEQUENCE\n",
        "  # CREATE A SEQUENCE OF YEARS EXPECTED TO BE EMPLOYED IN NL\n",
        "  # CREATE DICTIONARY TO KEEP VALUES IN\n",
        "\n",
        "  years_sequence = list(range(current_year, current_year + duration))\n",
        "  my_dict = {}\n",
        "  my_key = years_sequence\n",
        "\n",
        "  for key in my_key:\n",
        "    my_dict[key] = \"\"\n",
        "\n",
        "  # CHECK IF 30% RULING WILL APPLY\n",
        "\n",
        "  if age < 30 and expertise == True and master_dpl == True and salary >= salary_req_young:\n",
        "        Ruling_test = True\n",
        "  elif age >= 30 and expertise == True and salary >= salary_expert:\n",
        "        Ruling_test = True\n",
        "  else:\n",
        "        Ruling_test = False\n",
        "\n",
        "  # CALCULATION BASE\n",
        "  # base_salary -> salary used for calculating taxable income\n",
        "\n",
        "  base_salary = salary\n",
        "\n",
        "\n",
        "  if base_salary > salary_cap:\n",
        "        base_salary = salary_cap\n",
        "\n",
        "  keys_list = list(my_dict.keys())  # Get the tuple\n",
        "  keys = list(keys_list)  # Convert tuple to list: ['A', 'B', 'C']\n",
        "\n",
        "  # CHECKING IF THERE IS A BROKEN YEAR AND CALCULATING THESE PARTS #\n",
        "  ##################################################################\n",
        "\n",
        "  if Ruling_test == True:\n",
        "\n",
        "    year1 = apply_ruling(base_salary, months_remaining_init, int(keys_list[0]), 0)\n",
        "    my_dict[keys[0]] = year1\n",
        "\n",
        "  # if broken year ruling\n",
        "\n",
        "    if months_remaining_init == 12:\n",
        "        year5 = apply_ruling(base_salary, 12, int(keys_list[4]), 2)\n",
        "        my_dict[keys[4]] = year5\n",
        "    else:\n",
        "        year6 = apply_ruling(base_salary, months_remaining_final, int(keys_list[5]), 2)\n",
        "        my_dict[keys[5]] = year6\n",
        "\n",
        "    my_dict[keys[0]] = year1\n",
        "\n",
        "\n",
        "    # other years -not first and last years\n",
        "    # depends on full or broken year\n",
        "    if months_remaining_init == 12:\n",
        "        other_years_sequence = list(keys_list[1:5])\n",
        "    else:\n",
        "        other_years_sequence = list(keys_list[1:6])\n",
        "\n",
        "    print(other_years_sequence)\n",
        "\n",
        "    for key in other_years_sequence:\n",
        "      if key >= 2027:\n",
        "        # new 27% ruling\n",
        "        my_dict[key] = apply_ruling(base_salary, 12, int(key), 1)\n",
        "      else:\n",
        "        # apply 30% ruling\n",
        "        my_dict[key] = apply_ruling(base_salary, 12, int(key), 1)\n",
        "\n",
        "    # populating remainder of the dictionary - no ruling\n",
        "    if months_remaining_init == 12:\n",
        "        for key in keys_list[5:]:\n",
        "            my_dict[key] = float(base_salary)\n",
        "    else:\n",
        "        for key in keys_list[6:]:\n",
        "            my_dict[key] = float(base_salary)\n",
        "\n",
        " # check if the salary > 233K and adjust#\n",
        " ########################################\n",
        "    res = {}\n",
        "    if salary > salary_cap:\n",
        "        res = adjust_highearner(my_dict, salary)\n",
        "        my_dict = res\n",
        "        return my_dict\n",
        "    else:\n",
        "        return my_dict\n",
        "\n",
        "  elif Ruling_test == False:\n",
        "\n",
        "  # ruling not applicable populate everything with gross salary#\n",
        "  ##############################################################\n",
        "    for key in keys_list:\n",
        "      my_dict[key] = float(base_salary)\n",
        "    return my_dict"
      ]
    },
    {
      "cell_type": "code",
      "execution_count": 84,
      "metadata": {},
      "outputs": [
        {
          "name": "stdout",
          "output_type": "stream",
          "text": [
            "[2026, 2027, 2028, 2029]\n"
          ]
        },
        {
          "data": {
            "text/plain": [
              "{2025: 70000.0,\n",
              " 2026: 70000.0,\n",
              " 2027: 73000.0,\n",
              " 2028: 73000.0,\n",
              " 2029: 73000.0,\n",
              " 2030: 100000.0,\n",
              " 2031: 100000.0,\n",
              " 2032: 100000.0,\n",
              " 2033: 100000.0,\n",
              " 2034: 100000.0}"
            ]
          },
          "execution_count": 84,
          "metadata": {},
          "output_type": "execute_result"
        }
      ],
      "source": [
        "my_dict = expat_ruling_calc(35, 100000, \"2025-01-01\", 10, True, True)\n",
        "my_dict"
      ]
    },
    {
      "cell_type": "markdown",
      "metadata": {},
      "source": [
        "### Functions to calculate tax and derive two deductables from tax"
      ]
    },
    {
      "cell_type": "code",
      "execution_count": 85,
      "metadata": {},
      "outputs": [],
      "source": [
        "def calc_tax(gross_salary: float) -> float:\n",
        "\n",
        "    # --- 1) Guardrail: input should be non-negative\n",
        "    if gross_salary < 0:\n",
        "        raise ValueError(\"gross_salary must be non-negative\")\n",
        "\n",
        "    # --- 2) Define the 2025 Box 1 brackets as (upper_limit, rate)\n",
        "    # Bracket 1: 0        .. 38,441  -> 35.82%\n",
        "    # Bracket 2: 38,441   .. 76,817  -> 37.48%\n",
        "    # Bracket 3: 76,817   .. +inf    -> 49.50%\n",
        "    # We implement these as cumulative upper bounds. The last one is infinity.\n",
        "    brackets: List[Tuple[float, float]] = [\n",
        "        (38_441.00, 0.3582),\n",
        "        (76_817.00, 0.3748),\n",
        "        (float(\"inf\"), 0.4950),\n",
        "    ]\n",
        "\n",
        "    # assume taxable income is gross salary\n",
        "    taxable_income = gross_salary\n",
        "\n",
        "    # Walk the brackets and accumulate tax per slice\n",
        "    tax = 0.0\n",
        "    lower_limit = 0.0\n",
        "\n",
        "    for upper_limit, rate in brackets:\n",
        "        # Income that falls inside THIS bracket:\n",
        "        #   from the current lower_limit up to the bracket's upper_limit,\n",
        "        #   but never exceeding taxable_income.\n",
        "        slice_amount = max(0.0, min(taxable_income, upper_limit) - lower_limit)\n",
        "        if slice_amount <= 0:\n",
        "            # No taxable income left for this or further brackets.\n",
        "            break\n",
        "        # Tax for this slice = slice_amount * rate\n",
        "        tax += slice_amount * rate\n",
        "        # Move the lower bound up to this bracket's upper limit\n",
        "        lower_limit = upper_limit\n",
        "        # If we've already taxed the entire taxable_income, stop early\n",
        "        if taxable_income <= upper_limit:\n",
        "            break\n",
        "\n",
        "    # Net income = full gross - tax\n",
        "    net_income = gross_salary - tax\n",
        "\n",
        "    # Return with cents precision\n",
        "    return round(tax, 2)\n"
      ]
    },
    {
      "cell_type": "code",
      "execution_count": 86,
      "metadata": {},
      "outputs": [],
      "source": [
        "def bereken_arbeidskorting(salaris):\n",
        "    \"\"\"\n",
        "    Berekent de arbeidskorting voor Nederland 2025 op basis van het brutosalaris.\n",
        "    De arbeidskorting heeft 4 fases:\n",
        "    - Fase 1 (€0 - €11.491): 0% korting\n",
        "    - Fase 2 (€11.491 - €24.821): Opbouw van 31,15%\n",
        "    - Fase 3 (€24.821 - €39.958): Plateau van €4.152\n",
        "    - Fase 4 (€39.958 - €124.934): Afbouw van 6%\n",
        "    - Boven €124.934: Geen arbeidskorting\n",
        "    Args:\n",
        "        salaris (float): Het bruto jaarsalaris in euro's\n",
        "    Returns:\n",
        "        float: De arbeidskorting in euro's\n",
        "    \"\"\"\n",
        "\n",
        "    # Grenzen en tarieven arbeidskorting 2025\n",
        "    GRENS_1 = 11491    # Ondergrens voor arbeidskorting\n",
        "    GRENS_2 = 24821    # Einde opbouwfase\n",
        "    GRENS_3 = 39958    # Einde plateau\n",
        "    GRENS_4 = 124934   # Bovengrens arbeidskorting\n",
        "\n",
        "    OPBOUW_TARIEF = 0.3115    # 31,15% opbouw in fase 2\n",
        "    MAX_KORTING = 4152        # Maximum arbeidskorting (plateau)\n",
        "    AFBOUW_TARIEF = 0.06      # 6% afbouw in fase 4\n",
        "\n",
        "    # Input validatie\n",
        "    if salaris < 0:\n",
        "        raise ValueError(\"Salaris kan niet negatief zijn\")\n",
        "\n",
        "    # Fase 1: €0 - €11.491 (geen korting)\n",
        "    if salaris <= GRENS_1:\n",
        "        return 0.0\n",
        "\n",
        "    # Fase 2: €11.491 - €24.821 (opbouw 31,15%)\n",
        "    elif salaris <= GRENS_2:\n",
        "        opbouw_bedrag = salaris - GRENS_1\n",
        "        korting = opbouw_bedrag * OPBOUW_TARIEF\n",
        "        return round(korting, 2)\n",
        "\n",
        "    # Fase 3: €24.821 - €39.958 (plateau €4.152)\n",
        "    elif salaris <= GRENS_3:\n",
        "        return MAX_KORTING\n",
        "\n",
        "    # Fase 4: €39.958 - €124.934 (afbouw 6%)\n",
        "    elif salaris <= GRENS_4:\n",
        "        afbouw_bedrag = salaris - GRENS_3\n",
        "        afbouw = afbouw_bedrag * AFBOUW_TARIEF\n",
        "        korting = MAX_KORTING - afbouw\n",
        "        return round(max(korting, 0), 2)  # Minimum 0\n",
        "\n",
        "    # Boven €124.934: geen arbeidskorting meer\n",
        "    else:\n",
        "        return 0.0\n"
      ]
    },
    {
      "cell_type": "code",
      "execution_count": 87,
      "metadata": {},
      "outputs": [],
      "source": [
        "def bereken_algemene_heffingskorting(salaris):\n",
        "    \"\"\"\n",
        "    Berekent de algemene heffingskorting voor Nederland 2025 op basis van het brutosalaris.\n",
        "    De algemene heffingskorting heeft 3 fases:\n",
        "    - Fase 1 (€0 - €24.812): Volledige korting van €3.362\n",
        "    - Fase 2 (€24.812 - €76.421): Afbouw van 6,007% per euro boven €24.812\n",
        "    - Fase 3 (boven €76.421): Geen algemene heffingskorting meer\n",
        "\n",
        "    Args:\n",
        "        salaris (float): Het bruto jaarsalaris in euro's\n",
        "    Returns:\n",
        "        float: De algemene heffingskorting in euro's\n",
        "    \"\"\"\n",
        "\n",
        "    # Grenzen en tarieven algemene heffingskorting 2025\n",
        "    MAXIMUM_KORTING = 3362      # Maximum algemene heffingskorting\n",
        "    AFBOUW_ONDERGRENS = 24812   # Vanaf dit bedrag begint afbouw\n",
        "    AFBOUW_BOVENGRENS = 76421   # Boven dit bedrag is er geen korting meer\n",
        "    AFBOUW_TARIEF = 0.06007     # 6,007% afbouw per euro boven de ondergrens\n",
        "\n",
        "    # Input validatie\n",
        "    if salaris < 0:\n",
        "        raise ValueError(\"Salaris kan niet negatief zijn\")\n",
        "\n",
        "    # Fase 1: €0 - €24.812 (volledige korting)\n",
        "    if salaris <= AFBOUW_ONDERGRENS:\n",
        "        return MAXIMUM_KORTING\n",
        "\n",
        "    # Fase 2: €24.812 - €76.421 (afbouw 6,007%)\n",
        "    elif salaris <= AFBOUW_BOVENGRENS:\n",
        "        afbouw_bedrag = salaris - AFBOUW_ONDERGRENS\n",
        "        afbouw = afbouw_bedrag * AFBOUW_TARIEF\n",
        "        korting = MAXIMUM_KORTING - afbouw\n",
        "        return round(max(korting, 0), 2)  # Minimum 0\n",
        "\n",
        "    # Fase 3: Boven €76.421 (geen korting meer)\n",
        "    else:\n",
        "        return 0.0\n"
      ]
    },
    {
      "cell_type": "markdown",
      "metadata": {},
      "source": [
        "### Addition of the fixed costs to the analysis"
      ]
    },
    {
      "cell_type": "code",
      "execution_count": 88,
      "metadata": {},
      "outputs": [],
      "source": [
        "fixed_costs = {\n",
        "    \"housing\": 1200,\n",
        "    \"utilities\": 300,\n",
        "    \"groceries\": 400,\n",
        "    \"transportation\": 150,\n",
        "    \"health_insurance\": 157,\n",
        "}"
      ]
    },
    {
      "cell_type": "code",
      "execution_count": 93,
      "metadata": {},
      "outputs": [
        {
          "name": "stdout",
          "output_type": "stream",
          "text": [
            "[2026, 2027, 2028, 2029]\n"
          ]
        }
      ],
      "source": [
        "my_dict = expat_ruling_calc(35, 60000, \"2025-01-01\", 7, True, True)\n",
        "my_dict\n",
        "fixed_costs = 1668"
      ]
    },
    {
      "cell_type": "code",
      "execution_count": 94,
      "metadata": {},
      "outputs": [
        {
          "data": {
            "text/html": [
              "<div>\n",
              "<style scoped>\n",
              "    .dataframe tbody tr th:only-of-type {\n",
              "        vertical-align: middle;\n",
              "    }\n",
              "\n",
              "    .dataframe tbody tr th {\n",
              "        vertical-align: top;\n",
              "    }\n",
              "\n",
              "    .dataframe thead th {\n",
              "        text-align: right;\n",
              "    }\n",
              "</style>\n",
              "<table border=\"1\" class=\"dataframe\">\n",
              "  <thead>\n",
              "    <tr style=\"text-align: right;\">\n",
              "      <th></th>\n",
              "      <th>Year</th>\n",
              "      <th>Taxable Income</th>\n",
              "      <th>Fixed Costs</th>\n",
              "      <th>Tax</th>\n",
              "      <th>Arbeidskorting</th>\n",
              "      <th>Algemene Heffingskorting</th>\n",
              "      <th>Net Tax</th>\n",
              "      <th>Netto Disposable</th>\n",
              "    </tr>\n",
              "  </thead>\n",
              "  <tbody>\n",
              "    <tr>\n",
              "      <th>0</th>\n",
              "      <td>2025</td>\n",
              "      <td>42000.0</td>\n",
              "      <td>1668</td>\n",
              "      <td>-15103.0</td>\n",
              "      <td>4029.0</td>\n",
              "      <td>2330.0</td>\n",
              "      <td>-8744.0</td>\n",
              "      <td>31588.0</td>\n",
              "    </tr>\n",
              "    <tr>\n",
              "      <th>1</th>\n",
              "      <td>2026</td>\n",
              "      <td>42000.0</td>\n",
              "      <td>1668</td>\n",
              "      <td>-15103.0</td>\n",
              "      <td>4029.0</td>\n",
              "      <td>2330.0</td>\n",
              "      <td>-8744.0</td>\n",
              "      <td>31588.0</td>\n",
              "    </tr>\n",
              "    <tr>\n",
              "      <th>2</th>\n",
              "      <td>2027</td>\n",
              "      <td>43800.0</td>\n",
              "      <td>1668</td>\n",
              "      <td>-15778.0</td>\n",
              "      <td>3921.0</td>\n",
              "      <td>2221.0</td>\n",
              "      <td>-9636.0</td>\n",
              "      <td>32496.0</td>\n",
              "    </tr>\n",
              "    <tr>\n",
              "      <th>3</th>\n",
              "      <td>2028</td>\n",
              "      <td>43800.0</td>\n",
              "      <td>1668</td>\n",
              "      <td>-15778.0</td>\n",
              "      <td>3921.0</td>\n",
              "      <td>2221.0</td>\n",
              "      <td>-9636.0</td>\n",
              "      <td>32496.0</td>\n",
              "    </tr>\n",
              "    <tr>\n",
              "      <th>4</th>\n",
              "      <td>2029</td>\n",
              "      <td>43800.0</td>\n",
              "      <td>1668</td>\n",
              "      <td>-15778.0</td>\n",
              "      <td>3921.0</td>\n",
              "      <td>2221.0</td>\n",
              "      <td>-9636.0</td>\n",
              "      <td>32496.0</td>\n",
              "    </tr>\n",
              "    <tr>\n",
              "      <th>5</th>\n",
              "      <td>2030</td>\n",
              "      <td>60000.0</td>\n",
              "      <td>1668</td>\n",
              "      <td>-21850.0</td>\n",
              "      <td>2949.0</td>\n",
              "      <td>1248.0</td>\n",
              "      <td>-17653.0</td>\n",
              "      <td>40679.0</td>\n",
              "    </tr>\n",
              "    <tr>\n",
              "      <th>6</th>\n",
              "      <td>2031</td>\n",
              "      <td>60000.0</td>\n",
              "      <td>1668</td>\n",
              "      <td>-21850.0</td>\n",
              "      <td>2949.0</td>\n",
              "      <td>1248.0</td>\n",
              "      <td>-17653.0</td>\n",
              "      <td>40679.0</td>\n",
              "    </tr>\n",
              "  </tbody>\n",
              "</table>\n",
              "</div>"
            ],
            "text/plain": [
              "   Year  Taxable Income  Fixed Costs      Tax  Arbeidskorting  \\\n",
              "0  2025         42000.0         1668 -15103.0          4029.0   \n",
              "1  2026         42000.0         1668 -15103.0          4029.0   \n",
              "2  2027         43800.0         1668 -15778.0          3921.0   \n",
              "3  2028         43800.0         1668 -15778.0          3921.0   \n",
              "4  2029         43800.0         1668 -15778.0          3921.0   \n",
              "5  2030         60000.0         1668 -21850.0          2949.0   \n",
              "6  2031         60000.0         1668 -21850.0          2949.0   \n",
              "\n",
              "   Algemene Heffingskorting  Net Tax  Netto Disposable  \n",
              "0                    2330.0  -8744.0           31588.0  \n",
              "1                    2330.0  -8744.0           31588.0  \n",
              "2                    2221.0  -9636.0           32496.0  \n",
              "3                    2221.0  -9636.0           32496.0  \n",
              "4                    2221.0  -9636.0           32496.0  \n",
              "5                    1248.0 -17653.0           40679.0  \n",
              "6                    1248.0 -17653.0           40679.0  "
            ]
          },
          "execution_count": 94,
          "metadata": {},
          "output_type": "execute_result"
        }
      ],
      "source": [
        "# CONVERTING TO PANDA DATAFRAME AND ADDING OTHER PARAMETERS\n",
        "df = pd.DataFrame(list(my_dict.items()), columns=[\"Year\", \"Taxable Income\"])\n",
        "\n",
        "# ADDING FIXED COSTS FROM DICTIONARY\n",
        "df[\"Fixed Costs\"] = fixed_costs\n",
        "\n",
        "# CALCULATING TAX\n",
        "df[\"Tax\"] = round(-df[\"Taxable Income\"].apply(calc_tax), 0)\n",
        "\n",
        "# CALCULATING DEDUCTABLES\n",
        "df[\"Arbeidskorting\"] = round(df[\"Taxable Income\"].apply(bereken_arbeidskorting),0)\n",
        "df[\"Algemene Heffingskorting\"] = round(df[\"Taxable Income\"].apply(bereken_algemene_heffingskorting),0)\n",
        "\n",
        "# CALCULATING NET TAX\n",
        "df[\"Net Tax\"] = - (abs(df[\"Tax\"]) - (df[\"Arbeidskorting\"] + df[\"Algemene Heffingskorting\"]))\n",
        "\n",
        "# CALCULATING NETTO INCOME AFTER TAX & FIXED EXPENSES\n",
        "df[\"Netto Disposable\"] = df[\"Taxable Income\"] + df[\"Net Tax\"] - df[\"Fixed Costs\"]\n",
        "df.loc[df[\"Netto Disposable\"] < 0, \"Netto Disposable\"] = 0\n",
        "\n",
        "df"
      ]
    },
    {
      "cell_type": "code",
      "execution_count": 95,
      "metadata": {},
      "outputs": [
        {
          "data": {
            "text/plain": [
              "15103.48"
            ]
          },
          "execution_count": 95,
          "metadata": {},
          "output_type": "execute_result"
        }
      ],
      "source": [
        "calc_tax(42000)"
      ]
    },
    {
      "cell_type": "markdown",
      "metadata": {},
      "source": [
        "### Graphs"
      ]
    },
    {
      "cell_type": "code",
      "execution_count": 78,
      "metadata": {},
      "outputs": [
        {
          "data": {
            "image/png": "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",
            "text/plain": [
              "<Figure size 1000x600 with 1 Axes>"
            ]
          },
          "metadata": {},
          "output_type": "display_data"
        }
      ],
      "source": [
        "\n",
        "# Prepare data\n",
        "plot_df = df[['Year', 'Netto Disposable', 'Fixed Costs', 'Net Tax']].copy()\n",
        "plot_df['Net Tax'] = plot_df['Net Tax'].abs()\n",
        "plot_df['Year'] = plot_df['Year'].astype(str)\n",
        "\n",
        "# Set style\n",
        "sns.set_theme(style=\"whitegrid\")\n",
        "\n",
        "# Use Blues sequential palette\n",
        "colors = sns.color_palette(\"Blues\", n_colors=3)  # 3 shades for 3 categories\n",
        "\n",
        "# Plot stacked bars\n",
        "fig, ax = plt.subplots(figsize=(10,6))\n",
        "\n",
        "bottom = None\n",
        "categories = ['Netto Disposable', 'Fixed Costs','Net Tax']\n",
        "for i, cat in enumerate(categories):\n",
        "    ax.bar(\n",
        "        plot_df['Year'],\n",
        "        plot_df[cat],\n",
        "        label=cat,\n",
        "        bottom=bottom,\n",
        "        color=colors[i]\n",
        "    )\n",
        "\n",
        "    # Annotate inside each segment\n",
        "    for x, y, b in zip(plot_df['Year'], plot_df[cat], bottom if bottom is not None else [0]*len(plot_df)):\n",
        "        if y > 0:\n",
        "            ax.text(\n",
        "                x, b + y/2, f\"{y:,.0f}\",\n",
        "                ha='center', va='center',\n",
        "                fontsize=9, color=\"black\",\n",
        "            )\n",
        "\n",
        "\n",
        "    bottom = plot_df[categories[:i+1]].sum(axis=1)\n",
        "\n",
        "# Titles & labels\n",
        "ax.set_title(\"Income Composition by Year\", fontsize=16)\n",
        "ax.set_ylabel(\"Amount (€)\", fontsize=12, weight='bold')\n",
        "ax.set_xlabel(\"Year\", fontsize=12,weight='bold')\n",
        "\n",
        "# Legend outside\n",
        "ax.legend(\n",
        "    title=\"Category\",\n",
        "    bbox_to_anchor=(1.02, 1),\n",
        "    loc='upper left',\n",
        "    borderaxespad=0,\n",
        "    frameon=False\n",
        ")\n",
        "\n",
        "sns.despine()\n",
        "plt.tight_layout()\n",
        "plt.show()\n"
      ]
    },
    {
      "cell_type": "code",
      "execution_count": null,
      "metadata": {},
      "outputs": [],
      "source": []
    }
  ],
  "metadata": {
    "colab": {
      "private_outputs": true,
      "provenance": []
    },
    "kernelspec": {
      "display_name": "dutch-salary-estimator-llm",
      "language": "python",
      "name": "python3"
    },
    "language_info": {
      "codemirror_mode": {
        "name": "ipython",
        "version": 3
      },
      "file_extension": ".py",
      "mimetype": "text/x-python",
      "name": "python",
      "nbconvert_exporter": "python",
      "pygments_lexer": "ipython3",
      "version": "3.10.6"
    }
>>>>>>> a543f12f13fa8a819edbcbee2caba34f1f85ebb1
  },
  {
   "cell_type": "markdown",
   "metadata": {
    "id": "jmdgyGQXY3yY"
   },
   "source": [
    "## Salary brackets\n",
    "From 2024: For newcomers who became eligible from 1 January 2024 onward, the tax-exempt benefit now follows a laddered structure over the five-year period:\n",
    "\n",
    "**30% tax-free for the first 20 months**\n",
    "**20% tax-free for the next 20 months**\n",
    "**10% tax-free for the final 20 months**\n",
    "\n",
    "Applicants with a ruling in place before 2024 are grandfathered, meaning they continue to enjoy the full 30% tax-free allowance for up to five years under the old rules.But a reversal is already underway. Following widespread criticism, the government decided to reverse the 30-20-10 structure:\n",
    "\n",
    "From 1 January 2025 through 31 December 2026, all eligible expats (including new ones) will receive a **flat 30% tax-free allowance**, without scaling. Then, starting 1 January 2027, the allowance will be permanently **adjusted to a flat 27%**, with updated salary thresholds.\n",
    "\n",
    "The 2025 Tax Plan, including the amendments, still requires approval from the Dutch Parliament. Should the proposals be adopted, these changes may have implications for certain employees."
   ]
  },
  {
   "cell_type": "markdown",
   "metadata": {
    "id": "kwPBL0-uaAmT"
   },
   "source": [
    "## Maximum allowable salary for 30% ruling\n",
    "\n",
    "30% facility applies to amounts up to €233,000\n",
    "The tax-free allowance applies to salary amounts of up to €233,000 a year (amount for 2024).\n",
    "\n",
    "https://www.belastingdienst.nl/wps/wcm/connect/en/individuals/content/coming-to-work-in-the-netherlands-30-percent-facility\n"
   ]
  },
  {
   "cell_type": "markdown",
   "metadata": {
    "id": "I_kNzudfbMbN"
   },
   "source": [
    "## Expertise Requirements\n",
    "\n",
    "To qualify for the 30%-ruling, an incoming employee must possess specific expertise that is either not available or scarcely available in the Dutch labor market. This expertise requirement is primarily determined based on a salary norm.\n",
    "\n",
    "Your specific expertise is hardly found on the labour market in the Netherlands. You have a specific expertise if your annual salary, not including the tax-free allowance in the Netherlands, is more than the annual salary in the table.\n",
    "\n",
    "Table: specific expertise\n",
    "Year\tYour annual salary is more than\n",
    "**2025\t€46,660**\n",
    "2024\t€46,107\n",
    "2023\t€41,954\n",
    "\n",
    "You are younger than 30, and you have a Dutch academic master's degree\n",
    "Or you have obtained an equivalent title in another country. You have a specific expertise if your annual salary, not including the tax-free allowance in the Netherlands, is more than the annual salary in the table.\n",
    "Table: specific expertise for people younger than 30\n",
    "Year\tYour annual salary is more than\n",
    "**2025\t€35,468**\n",
    "2024\t€35,048\n",
    "2023\t€31,891\n",
    "\n",
    "https://www.belastingdienst.nl/wps/wcm/connect/en/individuals/content/coming-to-work-in-the-netherlands-30-percent-facility\n",
    "\n",
    "\n"
   ]
  },
  {
   "cell_type": "markdown",
   "metadata": {
    "id": "SR3LY9Lre65q"
   },
   "source": [
    "# 2.Data Schema"
   ]
  },
  {
   "cell_type": "markdown",
   "metadata": {
    "id": "9gHsH1d2fGYN"
   },
   "source": [
    "### Data Inputs\n",
    "\n",
    "Age: integer  \n",
    "Base_salary: Gross, expected to earn once relocated  \n",
    "Duration_years: Expected to remain in the Netherlands, if omitted  assumed 10 years  \n",
    "Start_Date: Date when expected to start the job\n",
    "Expertise: Boolean (if posseses specific expertise not available)  \n",
    "Master_dpl: Boolean (if possesses Dutch academic master degree)\n",
    "\n",
    "### Parameters\n",
    "Salary_cap: Maximum salary on which 30% ruling is applied  \n",
    "Salary_req_young: Salary requirements young professional\n",
    "Salary_expert: Salary for employee with specific expertise\n",
    "\n",
    "### Function\n",
    "\n",
    "Function will consume data inputs and parameters and will return a  \n",
    "dictionary of values for each subsequential year employee will work in  \n",
    "the Netherlands and the respective Gross Salary which will be taxed\n",
    "\n",
    "\n",
    "\n"
   ]
  },
  {
   "cell_type": "markdown",
   "metadata": {
    "id": "mOnzN66dfChq"
   },
   "source": [
    "\n",
    "\n",
    "---\n",
    "\n"
   ]
  },
  {
   "cell_type": "code",
   "execution_count": 20,
   "metadata": {
    "id": "270irvRFfB_P"
   },
   "outputs": [],
   "source": [
    "import pandas as pd\n",
    "import datetime\n",
    "\n",
    "from datetime import datetime, date, time, timedelta\n",
    "import matplotlib.pyplot as plt\n",
    "import seaborn as sns\n"
   ]
  },
  {
   "cell_type": "code",
   "execution_count": 21,
   "metadata": {
    "id": "eN5eiGnNkNXW"
   },
   "outputs": [],
   "source": [
    "def apply_ruling(base_salary: float, months_dur: int, year: int, year_seq: int):\n",
    "  # base_salary -> annual\n",
    "  # function derives gross salary net of 30% taxes\n",
    "  # months_dur -> months when 30% ruling will be applied\n",
    "  # year_seq: which year we deal with: 0 -> first, 1 -> intermeidate year, 2-> last, 3-> no 30% ruling\n",
    "\n",
    "    if year in (2025, 2026) and year_seq == 0 and months_dur != 12:\n",
    "      # 30% ruling on months applied\n",
    "      gross_taxable = (base_salary - (base_salary * 0.3)) / 12 * months_dur\n",
    "    elif year in (2025, 2026) and year_seq == 1:\n",
    "      # in case 2025, 2025 not first year -> full year 30% ruling\n",
    "      gross_taxable = base_salary - (base_salary * 0.3)\n",
    "    elif year not in (2025, 2026) and year_seq == 1:\n",
    "      # in case 2026 or later and 27% ruling whole year\n",
    "      gross_taxable = base_salary - (base_salary * 0.27)\n",
    "    elif year not in (2025, 2026) and year_seq == 2:\n",
    "      # in case 2026 or later and 30% ruling part of the year\n",
    "      gross_taxable = ((base_salary - (base_salary * 0.3)) / 12 * months_dur) + (base_salary / 12 * (12 - months_dur))\n",
    "    else:\n",
    "      # no 30% ruling and year later than 2026\n",
    "      gross_taxable = base_salary\n",
    "\n",
    "    return gross_taxable"
   ]
  },
  {
   "cell_type": "code",
   "execution_count": 22,
   "metadata": {
    "id": "3SVmFxrokOTK"
   },
   "outputs": [],
   "source": [
    "# apply_ruling(55000, 3, 2025, 0)"
   ]
  },
  {
   "cell_type": "code",
   "execution_count": 23,
   "metadata": {
    "id": "3b3s8Ehih9JV"
   },
   "outputs": [],
   "source": [
    "def expat_ruling_calc(age: int, base_salary: float, date_string: str, duration: int = 10,\n",
    "                      expertise: bool = False, master_dpl: bool = False):\n",
    "\n",
    "  # INITIATE KEY PARAMETERS\n",
    "  salary_cap = 233000\n",
    "  salary_req_young = 35468\n",
    "  salary_expert = 46660\n",
    "\n",
    "  # DETERMINE MONTHS REMAINING IN FIRST YEAR & LAST YEAR\n",
    "  # date_string = \"2024-12-25\"\n",
    "\n",
    "  start_date = datetime.strptime(date_string, \"%Y-%m-%d\")\n",
    "\n",
    "  # DETERMINE CURRENT YEAR\n",
    "  current_year = start_date.year\n",
    "\n",
    "  months_remaining_init = 12 - start_date.month + 1\n",
    "  months_remaining_final = 12 - months_remaining_init\n",
    "\n",
    "  # YEARS SEQUENCE\n",
    "  # CREATE A SEQUENCE OF YEARS EXPECTED TO BE EMPLOYED IN NL\n",
    "  # CREATE DICTIONARY TO KEEP VALUES IN\n",
    "\n",
    "  years_sequence = list(range(current_year, current_year + duration))\n",
    "  my_dict = {}\n",
    "  my_key = years_sequence\n",
    "\n",
    "  for key in my_key:\n",
    "    my_dict[key] = \"\"\n",
    "\n",
    "  # CHECK IF 30% RULING WILL APPLY\n",
    "\n",
    "  if age < 30 and expertise == True and master_dpl == True and base_salary >= salary_req_young:\n",
    "        Ruling_test = True\n",
    "  elif age >= 30 and expertise == True and base_salary >= salary_expert:\n",
    "        Ruling_test = True\n",
    "  else:\n",
    "        Ruling_test = False\n",
    "\n",
    "  # CALCULATION BASE\n",
    "\n",
    "  if base_salary > salary_cap:\n",
    "    base_salary = salary_cap\n",
    "  else:\n",
    "    base_salary = base_salary\n",
    "\n",
    "  keys_list = list(my_dict.keys())  # Get the tuple\n",
    "  keys = list(keys_list)  # Convert tuple to list: ['A', 'B', 'C']\n",
    "\n",
    "  # CHECKING IF THERE IS A BROKEN YEAR AND CALCULATING THESE PARTS #\n",
    "  ##################################################################\n",
    "\n",
    "  if Ruling_test == True:\n",
    "    # months_remaining_init != 12 and Ruling_test == True:\n",
    "    # if start date not January\n",
    "\n",
    "    year1 = apply_ruling(base_salary, months_remaining_init, int(keys_list[0]), 0)\n",
    "    year5 = apply_ruling(base_salary, months_remaining_final, int(keys_list[4]), 2)\n",
    "    my_dict[keys[0]] = year1\n",
    "    my_dict[keys[4]] = year5\n",
    "\n",
    "    # other years -not first and last years\n",
    "    other_years_sequence = list(keys_list[1:4])\n",
    "\n",
    "    for key in other_years_sequence:\n",
    "      if key >= 2027:\n",
    "        # new 27% ruling\n",
    "        my_dict[key] = apply_ruling(base_salary, 12, int(key), 1)\n",
    "      else:\n",
    "        # apply 30% ruling\n",
    "        my_dict[key] = apply_ruling(base_salary, 12, int(key), 1)\n",
    "\n",
    "    # populating remainder of the dictionary - no ruling\n",
    "    for key in keys_list[5:]:\n",
    "      my_dict[key] = float(base_salary)\n",
    "\n",
    "    return my_dict\n",
    "\n",
    "  else:\n",
    "    # not applicable - not fulfilling conditions\n",
    "    # populating remainder of the dictionary - no ruling\n",
    "    for key in keys_list:\n",
    "      my_dict[key] = float(base_salary)\n",
    "\n",
    "    return my_dict\n"
   ]
  },
  {
   "cell_type": "code",
   "execution_count": 77,
   "metadata": {
    "id": "s1Ha2FDevJhL"
   },
   "outputs": [],
   "source": [
    "my_dict = expat_ruling_calc(25, 37000, \"2025-10-01\", 8, True, True)\n"
   ]
  },
  {
   "cell_type": "code",
   "execution_count": 78,
   "metadata": {},
   "outputs": [
    {
     "data": {
      "image/png": "iVBORw0KGgoAAAANSUhEUgAAAs8AAAG5CAYAAABx4dn2AAAAOnRFWHRTb2Z0d2FyZQBNYXRwbG90bGliIHZlcnNpb24zLjEwLjUsIGh0dHBzOi8vbWF0cGxvdGxpYi5vcmcvWftoOwAAAAlwSFlzAAAPYQAAD2EBqD+naQAAjp1JREFUeJzs3XlYVOX/PvB72AQBURZBcitt1AABrRTDTHNfUsCt3FJLSy1Ty4WPlZqBuGWYuaS5RbnjromWZrmnpuC+a4hsCsO+zPn94Y/zdQKdx2FgzuD9ui6uK2aeOef93DPYe848c45KkiQJRERERESkl4WpCyAiIiIiMhdsnomIiIiIBLF5JiIiIiISxOaZiIiIiEgQm2ciIiIiIkFsnomIiIiIBLF5JiIiIiISxOaZiIiIiEgQm2ciIiIiIkFsnomoQpo4cSIaNGhg6jKMokGDBpg4caKpyzCKTZs2oUGDBjh69KjQ+AEDBqBNmzZlXBURkTgrUxdARBXf0aNHMXDgQJ3bKleujOeffx7du3dH//79YWlpaaLqSmfv3r04f/48PvroI5PW8TRvFPbt24eaNWuWYTXKN2DAAMTGxuLUqVOmLoWIzAybZyIqN127dsXrr78OSZKQmJiI6OhohIWF4cqVK/jqq6+Muq+vvvoKU6dONeo2S7J3715ER0ebvHmeOXOmzu9///031q5diz59+qBp06Y69zk7O5dnaUREFQqbZyIqNy+99BK6d+8u//7OO++gU6dOWL9+PUaPHg1XV9cSH5eRkQEHB4en2pe1tXWpajU3j+YKAIWFhVi7di38/PyK3UdERIbjmmciMhkHBwf4+/tDkiTcvn0bANCmTRsMGDAA586dw9ChQ9G0aVO89dZb8mOOHz+OwYMHo2nTpmjcuDGCgoKwfv36Ytt+3JrnxMREfPnll3jjjTfg7e2NwMBAfP7550hJSSk2NiMjA9988w06deoEHx8fNGvWDG+//TZ27NgB4OFH/9HR0QAeLpso+tm0aZNB+7t8+TKGDh0KPz8/vPrqqxg3blyJ4wyl1WqxcOFC9OvXD6+99hq8vb3xxhtv4Msvv8T9+/d1xs6cORMNGjTA5s2bdW6/cOECGjdujAEDBkCr1QIA7t27hxkzZqB79+545ZVX4OPjg86dO2PJkiUoLCwssZbCwkLMnz8frVu3hre3N7p16ybnKuLGjRv47LPPEBgYCG9vb7Rp0wYRERHIysp6ulAeUfSa0Wg0+PLLLxEQEAAfHx/07dsX//zzT7HxkiRh3bp16NWrF/z9/eHv749u3brh22+/1RmXmpqKqVOnolWrVvD29karVq0wderUYpkXrQc/fPgwvvvuO7Ru3RqNGzdGr169cPr0aQDAsWPH8Pbbb8PPzw+BgYFYsGBBiXM5e/YsRo4ciWbNmsHb2xsdOnTAwoULUVBQYHA+RPQQjzwTkclIkoSbN28CAKpVqybfHh8fj0GDBqFjx45o37693BD99ttvGDVqFFxdXTF48GA4ODhgx44dmDx5Mu7cuYMxY8Y8cX/x8fHo06cP8vPz0bNnT9SuXRs3b97EL7/8gqNHj2Ljxo1wdHQEAKSnp+Odd97B5cuX0aFDB7z99tvQarU4d+4cfv/9d3Tp0gUffPABtFotTpw4obNsokmTJk+9v9u3b6Nfv37Iy8tDv379UKNGDfz+++947733jJZ3fn4+li1bhvbt2+PNN9+EnZ0dzp49i40bN+LkyZPYuHEjbGxsAABjxozBiRMnMHXqVPj5+aFu3brIzs7GmDFjYGdnh9mzZ8PC4uHxl4sXL2LPnj1o164dateujfz8fBw8eBBz5szBnTt3MG3atGK1zJ49G1lZWXj77bcBPGwcx44di9zcXAQHBz9xHrGxsRg0aBCqVKmCPn36wN3dHRcuXMDq1atx6tQprF69ulSfPAwdOhTOzs4YOXIkHjx4gOXLl2PYsGHYt2+fzicgn332GbZt2wZfX1988MEHcHR0xLVr1/Drr79i9OjRAACNRoO3334bN2/eREhICF566SWcP38ev/zyC44cOYL169cX+1Rl9uzZ0Gq1GDhwIPLz8/Hjjz9iyJAhmDlzJv73v/+hd+/e6NatG3bt2oXIyEjUrFlT59OF/fv3Y9SoUahTpw6GDBkCJycnnD59GpGRkTh//jwiIyMNzoaIAEhERGXsyJEjklqtlubPny+lpKRIKSkp0vnz56X//e9/klqtlnr37i2Pbd26taRWq6V169bpbKOgoEB64403pKZNm0oJCQny7bm5uVKfPn2khg0bStevX5dvnzBhgqRWq3W28cEHH0jNmzeX7t69q3P7mTNnpEaNGkmRkZHybV9++aWkVqulNWvWFJtPYWHhE/djyP7Gjh0rqdVq6fDhw/JtWq1WGjFihKRWq6UJEyaUuI/H2bhxo6RWq6WNGzfqbC87O7vY2HXr1klqtVrasWOHzu23bt2SmjZtKgUFBUm5ubnSpEmTJLVaLe3bt09nXHZ2tqTVaott99NPP5UaNmwo3bt3r1hdb7zxhpSeni7fnp6eLr3xxhvSK6+8olNj//79pdatW+tst1u3blKHDh0kjUajc/uePXuKzflx+vfvL/n5+encVvRcfvnllzq379y5U1Kr1dIvv/wi37Zjxw5JrVZLn376qc7rQZJ0Xx9z586V1Gq19NNPP+mM+emnnyS1Wi1988038m1F2fTo0UPKzc2Vb9+7d6+kVqull156STpz5ox8e25urvTaa6/p/P3k5ORILVq0kN555x0pPz9fZ5/Lly+X1Gq1dOTIET3pENGTcNkGEZWb+fPnIyAgAAEBAejevTs2btyINm3aFPvouWrVqsWOPsbFxSE+Ph4hISFwd3eXb7exscF7770HrVaLffv2PXbfGo0G+/fvR5s2bWBjY4PU1FT557nnnkPt2rXx119/AXi4vGHnzp2oV68e+vTpU2xbRUdcn+Rp9/fbb7/B29sbzZs3l7ehUqmMeuRZpVLB1tYWwMNlE+np6UhNTZX3eebMGZ3xtWrVwrRp0xAXF4dBgwZh48aNJZ46ztbWFiqVCgCQl5eHBw8eIDU1FYGBgdBqtYiNjS1Wy9tvvy0fdQcAR0dH9O3bF2lpaU88jd3Fixdx8eJFdO3aFXl5eTq5Nm3aFJUrV5ZzNdS7776r83tRPkWfkgDAtm3bAAATJkwo9np49PeYmBg4OzsXex316dMHzs7O2Lt3b7H9v/322/InAADw8ssvAwAaN24MHx8f+XYbGxv4+Pjgxo0b8m1//fUXkpOTERwcLD+/RT+vv/66PIaIDMdlG0RUbvr06YOOHTtCpVLBzs4OdevWRdWqVYuNq1WrVrFT1925cwcAUL9+/WLjX3zxRQCQ102X5Pr169BqtdiwYQM2bNhQ4phatWoBAO7fv4+0tDS0bNlSaF6l3V9KSgqysrLwwgsvFBtT0nxLY+fOnVi+fDnOnz+P/Px8nfvS0tKKje/cuTN+++03bNu2DWq1GuPHjy82pqCgAEuWLMGWLVtw8+ZNSJKkc396enqxx5Q013r16gH4v+e6JFevXgXw8I3Y/PnzSxyTnJz82MeLKHpeihQtKXrw4IF8282bN+Hm5vbYL7kWuXPnDry9vWFlpfu/WysrK9StWxfnzp3Tu38nJycAKPH0gk5OTjp1FeUTGhr62JpKmw/Rs47NMxGVmzp16qBFixZ6x9nZ2Rl930UN3VtvvYWgoKASx1SqVMls9ydiz549GDNmDBo3bozQ0FDUqFEDlSpVQmFhId57771iTS/wsPE9efIkgIdffkxJSUGNGjV0xsyYMQOrV69G586d8cEHH8DZ2RnW1taIi4uT1+8a25AhQx775qZKlSql2vbjzjleUj5l4XGfbIicC72oxvHjx6NRo0YljqlevbrhxRERm2ciMg9FR92uXLlS7L6i2/57xO5RtWvXhkqlQn5+vt4Gvlq1anBycsKFCxf01lW0XKE0+3N2dkblypVx7dq1YveVNF9DbdmyBZUqVcKqVat03qAUHa0syf/+9z8kJCTg888/x8yZM/HZZ59h5cqVOo3cli1b8Morr+Cbb77Reeyjyxz+q6S5FtXxpAu41KlTB8DDBlPkjVhZqVu3Lvbt24fk5OQnHn2uVasWrl+/joKCAp2jzwUFBbhx48YTX7OG1gU8fANqynyIKjKueSYis+Dl5QVPT09s2rQJSUlJ8u1FZ5BQqVR48803H/v4atWqoVWrVoiJiZFP+/UoSZKQmpoK4GFj1qVLF1y5cqXE0+A9egSycuXKAHQ/0n/a/VlaWqJ169aIjY3FkSNHdMYsXbr0sXN6WpaWllCpVDpHgiVJwsKFC0sc/8svv2DPnj348MMP0b9/f0yYMAHHjx8vNt7CwqLYUdmsrCysWLHisbX88ssv0Gg08u8ajQZr1qxBlSpV8Oqrrz72cS+99BLUajXWrFlT4jKdgoKCYs9FWejWrRsAYNasWcWOrD+aRdu2bZGamlrsdbRu3Tqkpqaibdu2Rq0rMDAQLi4u+OGHH0rMIScnBxkZGUbdJ9GzhkeeicgsWFpa4vPPP8eoUaPQs2dP9O7dG/b29ti1axdOnz6NDz74QD7q9jhTpkzBO++8g/79+6N79+546aWXoNVqcfv2bezbtw89evSQrxT4ySef4MiRI5g8eTL++usvNG3aFJIk4fz58ygoKMCsWbMAAL6+vvjpp5/k8/haW1ujcePGqFWr1lPv748//sAHH3yA/v37w8PDA7///rvcYBtDhw4d8Ouvv2LQoEHo0aMHCgoKsHfvXmRnZxcbe+nSJcyYMQOvvPIKRowYAQDo168f/vrrL3z//fdo3ry5/EW2Dh06YO3atfjkk0/QokULJCcnY+PGjSWuZy9SrVo19OrVS/5i6KZNmxAfH4/p06c/cdmOSqXCzJkzMWjQILz11lsICQlB/fr1kZOTg5s3byImJgZjx47Ve7q70urUqRP27NmDzZs34+bNm2jTpg2qVKmCGzdu4M8//8T27dsBAO+99x52796NadOm4dy5c2jUqBHOnz+PDRs24PnnnzfqF0KBh2/mIiIiMHLkSHTs2BEhISGoU6cO0tPTce3aNcTExOC7775Ds2bNjLpfomcJm2ciMhtt2rTBihUrsHDhQixbtgz5+fmoV68epk+fjl69eul9fI0aNbBx40b88MMP+O2337B161ZUqlQJNWrUQOvWrdGpUyd5rJOTE9auXYtFixYhJiYGe/fuhb29PerVq4f+/fvL47p27Yrz589jx44d2L17N7RaLcLDw1GrVq2n2l/t2rURFRWFiIgI/PTTT7CxsUHLli0xc+ZMo3383qVLF2RmZmLFihWIiIiAk5MTWrdujXHjxuk0Uzk5ORg7dixsbW0xe/ZsnSUaYWFh6N69Oz777DNs3rwZTk5OmDRpEuzt7bF7927s27cPNWrUQJ8+feDj41PszBVFPv30U5w4cQI///wzkpOT8fzzz2P27NnyEd0nadSoEaKjo7F48WL89ttvWLNmDezt7fHcc88hKCgIAQEBpc5KxJw5c/Dyyy9jw4YNWLBgASwsLFCzZk107NhRHuPo6IhffvkFkZGR+O2337Bp0ya4uLigb9+++Oijj576ypkiWrZsiQ0bNmDJkiXYunUr7t+/jypVqqB27dp49913S7x4EBGJU0nl9Q0IIqJy9Nlnn2HHjh0lns2AiIjIUFzzTEQVUmJiIpydnU1dBhERVTBctkFEFcrJkydx8OBBnDhxAm+99ZapyyEiogqGzTMRVSjr1q3D77//jo4dO2LChAmmLoeIiCoYrnkmIiIiIhLENc9ERERERILYPBMRERERCWLzTEREREQkiM0zEREREZEgNs9ERERERILYPBMRERERCWLzTEREREQkiM0zEREREZEgNs9ERERERILYPBMRERERCWLzTEREREQkiM0zEREREZEgNs9ERERERILYPBMRERERCbIydQGka9y4cbh+/Tqef/55zJkzx9TlEBEREdEj2DwrzPXr1xEXF2fqMoiIiIioBFy2QWYrPj7e1CWYBeYkhjnpx4zEMCcxzEkMc1Ies2uelyxZggYNGuDrr7+Wb8vNzcXUqVPRrFkz+Pv746OPPkJycrLO4+Lj4zFs2DD4+voiICAAERERKCgo0Blz9OhRBAUFwdvbG+3atcOmTZuK7T8qKgpt2rSBj48PevXqhTNnzpTNRImIiIhIccyqeT5z5gzWrFmDBg0a6NweFhaG33//HfPmzcPq1auRmJiIUaNGyfcXFhZi+PDhyM/Px5o1azBjxgxER0cjMjJSHnP79m0MHz4czZo1w5YtWzBo0CBMnjwZBw8elMfs3LkT4eHhGDlyJKKjo9GwYUMMHToUKSkpZT95IiIiIjI5s2meMzMz8dlnn2H69OlwcnKSb9doNNi4cSMmTpyIgIAAeHt7IywsDKdOncLp06cBAH/++SeuXLmCWbNmoVGjRmjVqhVGjx6NqKgo5OXlAQDWrFmDmjVrYuLEiahXrx769++PDh06YMWKFfK+li9fjt69eyMkJAT169fH1KlTYWtri40bN5ZnFPT/ubu7m7oEs8CcxDAn/ZiRGOYkhjmJYU7KYzbN87Rp09CqVSu0aNFC5/bY2Fjk5+fr3F6vXj14enrKzfPp06ehVqvh6uoqjwkMDERGRgauXLkijwkICNDZdmBgoLyNvLw8xMXF6ezHwsICLVq0wKlTp4w5VRKUkZFh6hLMAnMSw5z0Y0ZimJMY5iSGOSmPWZxtY8eOHTh37hw2bNhQ7L7k5GRYW1ujSpUqOre7uLggKSlJHvNo4wxA/l3fmIyMDOTk5CAtLQ2FhYVwcXEptp9r166VboIlyMvLQ3x8POzt7eHg4IB79+7J93l6eiI1NRU5OTkAACcnJ1hZWcnLR6ysrFC9enUkJibK67pdXFxQUFCAtLQ0AICtrS2cnZ11vojg7u6OjIwMZGZmAgAcHR1ha2srZ2RhYQEPDw8kJyfLR+yrVasGALh//z4AwMbGBq6urkhISIBWqwUAuLm5IScnBxqNBgCMNqeCggJYWVlVqDmVxfOk0WhgY2NToeZUFs9TUlISMjMzK9ScjP08FdVQkeZUFs+TRqNB5cqVK9ScyuJ5un//PjIzMyvUnMrieSr6t6kizamsnqdyIylcfHy8FBAQIJ0/f16+rX///tL06dMlSZKkrVu3Sl5eXsUeFxISIs2cOVOSJEmaPHmyNGTIEJ37s7KyJLVaLe3fv1+SJElq3769tGjRIp0x+/fvl9RqtZSdnS0lJCRIarVaOnnypM6YiIgIqWfPnqWf6P8XFBQkqdVqKSgoyGjbrKj+/fdfU5dgFpiTGOakHzMSw5zEMCcxzEl5FH/kOS4uDikpKQgODpZvKywsxPHjxxEVFYVly5YhPz8f6enpOkefU1JS4ObmBuDhEeT/nhWj6Gwcj4757xk6kpOT4eDgAFtbW1hYWMDS0rLYlwNTUlKKHbGm8uHo6GjqEswCcxLDnPRjRmKYkxjmJIY5KY/i1zw3b94c27Ztw+bNm+Ufb29vdOvWTf5va2trHD58WH7MtWvXEB8fDz8/PwCAn58fLl26pNP4Hjp0CA4ODqhfv7485siRIzr7PnTokLwNGxsbeHl56exHq9Xi8OHD8Pf3L6PZ05PY2tqaugSzwJzEMCf9mJEY5iSGOYlhTsqj+ObZwcEBarVa56dy5cqoWrUq1Go1HB0dERISghkzZuDIkSOIjY1FaGgo/P395cY3MDAQ9evXx/jx43HhwgUcPHgQ8+bNQ79+/eS1oH379sXt27cxc+ZMXL16FVFRUdi1axfeffdduZbBgwdj3bp1iI6OxtWrVzFlyhRkZ2frHBWn8lO0hoqejDmJYU76MSMxzEkMcxLDnJRH8cs2RISGhsLCwgIff/wx8vLyEBgYiC+//FK+39LSEosWLcKUKVPQp08f2NnZISgoCB9//LE8platWli8eDHCw8OxatUqeHh4YPr06WjZsqU8pnPnzkhNTUVkZCSSkpLQqFEjLF26lMs2iIiIiJ4RKkmSJFMXQf8nODgYcXFx8PLyKvEKh/R/EhIS4OHhYeoyFI85iWFO+jEjMcxJDHMSw5yUR/HLNogeh/+YiGFOYpiTfsxIDHMSw5zEMCflYfNMZuu/Z0ehkjEnMcxJP2YkhjmJYU5imJPysHkms1V0gnV6MuYkhjnpx4zEMCcxzEkMc1IeNs9ERERERILYPJPZKrqkJz0ZcxLDnPRjRmKYkxjmJIY5KQ+bZyIiIiIiQWyeyWzdv3/f1CWYBeYkhjnpx4zEMCcxzEkMc1IeNs9ERERERILYPJPZKrq0Oj0ZcxLDnPRjRmKYkxjmJIY5KQ+bZzJbvCy6GOYkhjnpx4zEMCcxzEkMc1IeNs9kthISEkxdgllgTmKYk37MSAxzEsOcxDAn5WHzTGZLq9WaugSzwJzEMCf9mJEY5iSGOYlhTsrD5pmIiMiIHB0dTV2CWWBOYpiT8rB5JrPl5uZm6hLMAnMSw5z0Y0b6ZWdnY+bMmcjOzjZ1KYrGnMQwJ2Vi80xmKycnx9QlmAXmJIY56ceMniw7Oxvdu3fH9OnT0b17dzY8j8GcxDAn5bIydQFEhtJoNPw4SwBzEsOc9GNGj1fU6MTExAAAYmJi0L17d0RHRyMhIQEajcbEFZqeo6MjPDw8EBQUxJye4Ek5bdmyBXZ2diaukNg8ExERlcJ/G+ciMTExCAoKwtq1a/Hhhx8Wu/9Z0q5dO6xdu1anISzCnP6PvpzYQCsDm2cyW/b29qYuwSwwJzHMST9mVFxWVhbCw8Mf2/DFxMRg7ty5WLVqFX788cdyrk45hgwZgrlz5zInPURyCgsLw6RJk1C5cuVyro6KqCRJkkxdBP2f4OBgxMXFwcvLC5s2bTJ1OYpWWFgIS0tLU5eheMxJDHPSjxmVLCsrCz169Cix4WnXrh2PFP5/jztCDzCnRzEn5eMXBsls3bt3z9QlmAXmJIY56ceMijt//jzef/99rF27Fu3atdO5j42OLjs7O2zZsoU56cGclI/NMxERkQEOHz6MwMBArFu3Dn///bdOw8NGp2T/bQyZU8mYk7KxeSYiInpK27dvx5tvvomcnBxs27YNbdu2lRueyZMns9F5AuYkhjkpF9c8KwzXPBMRKduPP/6IYcOGoVq1atixYwdeffVVnfuzsrL4ZS4BzEkMc1IeHnkms5WammrqEswCcxLDnPR71jOSJAlhYWEYOnQoatWqhb/++qtY4wzwYjKimJMY5qQ8PFUdmS3+gyKGOYlhTvo9yxkVFhbik08+wXfffQdfX1/s2rULNWrUKHHss5zT02BOYpiT8rB5JiIieoLc3FwMGDAA69evxxtvvIHNmzfDycnJ1GURkYlw2QaZLf7PSwxzEsOc9HsWM0pLS0OnTp2wfv169OzZE7t379abw7OYkyGYkxjmpDxsnslsWVnxgxMRzEkMc9LvWcvo7t27aNWqFX7//XeMHDkSa9asQaVKlfQ+7lnLyVDMSQxzUh42z2S2UlJSTF2CWWBOYpiTfs9SRpcuXUKLFi3wzz//4Ouvv8b8+fOFr674LOVUGsxJDHNSHrNonn/++Wd069YNTZo0QZMmTdCnTx8cOHBAvn/AgAFo0KCBzs8XX3yhs434+HgMGzYMvr6+CAgIQEREBAoKCnTGHD16FEFBQfD29ka7du1KPFVcVFQU2rRpAx8fH/Tq1Qtnzpwpm0kTEZFJHD9+HK+99hpu3bqFpUuXIjQ0FCqVytRlEZFCmMVnAR4eHvj0009Rp04dSJKEzZs3Y+TIkYiOjsaLL74IAOjduzc+/vhj+TGPnky8sLAQw4cPh6urK9asWYPExERMmDAB1tbWGDt2LADg9u3bGD58OPr27YvZs2fj8OHDmDx5Mtzc3NCyZUsAwM6dOxEeHo6pU6fC19cXK1euxNChQ7F79264uLiUYyIE8KMsUcxJDHPS71nI6Ndff0VISAgKCwuxefNmdOvW7am38SzkZAzMSQxzUh6zOPLcpk0btGrVCnXr1sXzzz+PMWPGoHLlyjh9+rQ8xtbWFm5ubvKPg4ODfN+ff/6JK1euYNasWWjUqBFatWqF0aNHIyoqCnl5eQCANWvWoGbNmpg4cSLq1auH/v37o0OHDlixYoW8neXLl6N3794ICQlB/fr1MXXqVNja2mLjxo3lFQU9onr16qYuwSwwJzHMSb+KntFPP/2Erl27wsbGBvv27TOocQYqfk7GwpzEMCflMYvm+VGFhYXYsWMHsrKy4O/vL9++bds2NGvWDF27dsWcOXOQnZ0t33f69Gmo1Wq4urrKtwUGBiIjIwNXrlyRxwQEBOjsKzAwUG7Q8/LyEBcXhxYtWsj3W1hYoEWLFjh16lRZTJX0SExMNHUJZoE5iWFO+lXkjGbPno0BAwagRo0a+Ouvv3T+rX9aFTknY2JOYpiT8pjNZwEXL15E3759kZubi8qVK2PBggWoX78+AKBr167w9PRE9erVcfHiRcyePRvXr1/Hd999BwBITk7WaZwByL8nJSU9cUxGRgZycnKQlpaGwsLCYsszXFxccO3aNaPPNy8vD/Hx8bC3t4eDgwPu3bsn3+fp6YnU1FT5xOlOTk6wsrKSv1RgZWWF6tWrIzExUV7X7eLigoKCAqSlpQF4eKTe2dkZ8fHx8nbd3d2RkZGBzMxMAICjoyNsbW3ljCwsLODh4YHk5GT5iH21atUAAPfv3wcA2NjYwNXVFQkJCdBqtQAANzc35OTkQKPRAIDR5lRQUIDMzMwKNaeyeJ40Gg0cHR0r1JzK4nm6f/8+CgoKKtScjP08abVapKWlVag5ubm5YcyYMViwYAEaNGiAzZs3o169evIYQ+ak0WhQrVq1Z/rvSWRORX9zFWlOZfE8paeny9utKHMqq+ep3EhmIjc3V7px44Z09uxZafbs2VKzZs2ky5cvlzj20KFDklqtlm7evClJkiRNnjxZGjJkiM6YrKwsSa1WS/v375ckSZLat28vLVq0SGfM/v37JbVaLWVnZ0sJCQmSWq2WTp48qTMmIiJC6tmzp7GmKQUFBUlqtVoKCgoy2jYrqn///dfUJZgF5iSGOelX0TLKzc2V+vXrJwGQAgMDpdTUVKNst6LlVFaYkxjmpDxms2zDxsYGderUgbe3N8aNG4eGDRti1apVJY719fUFANy8eRPAwyPIycnJOmOKfndzc3viGAcHB9ja2qJatWqwtLQsdsqYlJSUYkesqXzwS5pimJMY5qRfRcpIo9GgW7duiIqKQvfu3bFnzx75CFhpVaScyhJzEsOclMdsmuf/0mq18iH//zp//jyA/2uM/fz8cOnSJZ3G99ChQ3BwcJCXfvj5+eHIkSM62zl06BD8/PwAPGzevby8cPjwYZ0aDh8+rLP2msrPf081SCVjTmKYk34VJaPExES0adMGe/bswbBhw7BhwwadMzSVVkXJqawxJzHMSXnMonmeM2cOjh8/jjt37uDixYuYM2cOjh07hm7duuHWrVtYsGABYmNjcefOHezbtw8TJkzAK6+8goYNGwJ4+MW/+vXrY/z48bhw4QIOHjyIefPmoV+/frCxsQEA9O3bF7dv38bMmTNx9epVREVFYdeuXXj33XflOgYPHox169YhOjoaV69exZQpU5CdnY3g4GBTxPLMK1p3RU/GnMQwJ/0qQkbXrl3Da6+9hhMnTuCLL77AokWLjH4qsIqQU3lgTmKYk/KYxRcGU1JSMGHCBCQmJsLR0RENGjTAsmXL8Nprr+Hu3bs4fPgwVq1ahaysLNSoUQPt27fHiBEj5MdbWlpi0aJFmDJlCvr06QM7OzsEBQXpnBe6Vq1aWLx4McLDw7Fq1Sp4eHhg+vTp8jmeAaBz585ITU1FZGQkkpKS0KhRIyxdupTLNoiIzMCpU6fQqVMnJCYmYuHChfjggw9MXRIRmSGVJEmSqYug/xMcHIy4uDh4eXmVeIVD+j+pqalwdnY2dRmKx5zEMCf9zDmj3377DT169EBeXh5+/vnnMv3E0JxzKk/MSQxzUh6zWLZBVBL+YyKGOYlhTvqZa0Zr165Fx44dYWFhgT179pT5Ujtzzam8MScxzEl52DyT2Xr03JL0eMxJDHPSzxwzioyMxNtvvw03NzccPHgQr7/+epnv0xxzMgXmJIY5KQ+bZyIiqnAkScKkSZMwevRoqNVqHDp0CD4+PqYui4gqALP4wiAREZGo/Px8DBs2DCtWrECzZs2wfft2frGbiIyGzTOZLXd3d1OXYBaYkxjmpJ85ZJSZmYnevXtj586d6Ny5M9atWwd7e/tyrcEcclIC5iSGOSkPl22Q2crIyDB1CWaBOYlhTvopPaOUlBS8+eab2LlzJ959911s3ry53BtnQPk5KQVzEsOclIfNM5mtzMxMU5dgFpiTGOakn5IzunnzJl577TUcPXoUkyZNwo8//ghra2uT1KLknJSEOYlhTsrDZRtERGTWzp49i44dO+Lu3bv49ttvdS6ARURkbGyeyWw5OjqaugSzwJzEMCf9lJjRH3/8gbfeegtZWVn45Zdf0KdPH1OXpMiclIg5iWFOysNlG2S2bG1tTV2CWWBOYpiTfkrLKDo6Gu3bt4dWq8Xu3bsV0TgDystJqZiTGOakPGyeyWwlJSWZugSzwJzEMCf9lJTRokWL0LNnT1StWhUHDhxAmzZtTF2STEk5KRlzEsOclIfNMxERmQ1JkjBlyhR8+OGHeOGFF3Do0CH4+/ubuiwieoZwzTOZLQsLvvcTwZzEMCf9TJ1RYWEhRowYgSVLlqBp06bYuXMnqlevbtKaSmLqnMwFcxLDnJSHzTOZLQ8PD1OXYBaYkxjmpJ8pM8rOzsY777yDzZs3o127dti4caNiv0jF15IY5iSGOSkP386Q2UpOTjZ1CWaBOYlhTvqZKqP79++jffv22Lx5M9555x1s375dsY0zwNeSKOYkhjkpj1GOPKempuLo0aOIj49HdnY2Ro0aZYzNEj1RXl6eqUswC8xJDHPSzxQZ3blzB506dUJsbCzGjh2LWbNmKf5jbL6WxDAnMcxJeUrVPBcUFGD27Nn4+eefkZ+fL9/+aPOclpaGtm3bIicnB7t27ULNmjVLs0siInpGnD9/Hh06dMDt27cxe/ZsjBs3ztQlERGVbtnG6NGjsXLlSuTn56N+/fqwtLQsNsbJyQldu3ZFfn4+du3aVZrdEemoVq2aqUswC8xJDHPSrzwzOnz4MAIDA3H37l2sXr3arBpnvpbEMCcxzEl5DG6ed+zYgX379sHFxQUbN27Etm3bULVq1RLHduzYEQBw9OhRQ3dHRETPiO3bt+PNN99Ebm4utm3bhv79+5u6JCIimcHN86ZNm6BSqfDZZ5/hpZdeeuLYxo0bQ6VS4erVq4bujqiY+/fvm7oEs8CcxDAn/cojox9//BE9evSAvb09fv/9d/ngiznha0kMcxLDnJTH4Ob53LlzAIAOHTroHWtnZwdHR0ekpKQYujsiIqrAJEnC119/jaFDh6JWrVr466+/8Morr5i6LCKiYgz+wqBGo4Gjo6PwNde1Wi1UKpWhuyMqxsbGxtQlmAXmJIY56VdWGRUWFuKTTz7Bd999B19fX+zatQs1atQok32VB76WxDAnMcxJeQw+8uzk5ASNRoPc3Fy9YxMTE5GRkQEXFxdDd0dUjKurq6lLMAvMSQxz0q8sMsrNzcXbb7+N7777Dq1bt8aBAwfMunEG+FoSxZzEMCflMbh5LlrnfOTIEb1jN27cCADw9/c3dHdExSQkJJi6BLPAnMQwJ/2MnVFaWho6duyI9evXo1evXti1axecnJyMug9T4GtJDHMSw5yUx+DmuVu3bpAkCd9++y0yMzMfO+6PP/7A999/D5VKhR49ehi6O6JitFqtqUswC8xJDHPSz5gZ3b17F61atcL+/fsxatQo/PLLL6hUqZLRtm9KfC2JYU5imJPyGLzmuVu3bli3bh1OnDiBPn36oG/fvvKFUv766y/8+++/+O233/DHH39Aq9WidevWaNmypdEKJyIi83Tp0iV06NABN27cwNdff41JkybxOzFEZDZUkiRJhj44LS0No0aNwvHjxx/7D58kSWjRogXmz58Pe3t7gwt9VgQHByMuLg5eXl7YtGmTqctRtPz8fFhbW5u6DMVjTmKYk37GyOj48ePo3Lkz7t+/jx9++AGDBw82UnXKwdeSGOYkhjkpT6kuz+3k5ISVK1di69at2LhxI/755x/5GuxWVlbw8fFBnz598NZbb8HColQXMyQqJicnh/+gCGBOYpiTfqXN6Ndff0VISAi0Wi02b96Mrl27GrE65eBrSQxzEsOclKdUzTMAWFhYoEePHujRowe0Wi0ePHgArVaLqlWrwsqq1Jsneqyi0yXSkzEnMcxJv9Jk9NNPP2Hw4MGoUqUKtm/fjoCAACNXpxx8LYlhTmKYk/IY9XCwhYUFnJ2d4erqatTG+eeff0a3bt3QpEkTNGnSBH369MGBAwfk+3NzczF16lQ0a9YM/v7++Oijj5CcnKyzjfj4eAwbNgy+vr4ICAhAREQECgoKdMYcPXoUQUFB8Pb2Rrt27UpcNhEVFYU2bdrAx8cHvXr1wpkzZ4w2TyKiimj27NkYMGAAatSogT///LNCN85EVPGZxVoKDw8PfPrpp9i0aRM2btyI5s2bY+TIkbh8+TIAICwsDL///jvmzZuH1atXIzExEaNGjZIfX1hYiOHDhyM/Px9r1qzBjBkzEB0djcjISHnM7du3MXz4cDRr1gxbtmzBoEGDMHnyZBw8eFAes3PnToSHh2PkyJGIjo5Gw4YNMXToUF450US4hl4McxLDnPR72oy0Wi3GjRuHzz77DF5eXjh06BAaNWpURtUpB19LYpiTGOakPKX6wmCRe/fu4eLFi0hPTy92NPe/jHW6uldffRWfffYZOnbsiICAAMyePRsdO3YEAFy9ehWdO3fG2rVr4efnhwMHDuCDDz7AwYMH5ZON//LLL5g9ezYOHz4MGxsbzJo1CwcOHMD27dvlfYwZMwbp6elYtmwZAKBXr17w8fHBF198AeDh/xhatWqFAQMGYNiwYUaZF78wKK6wsBCWlpamLkPxmJMY5qTf02SUl5eHIUOGICoqCoGBgdi6dSuqVatWxhUqA19LYpiTGOakPKVaW3Hu3Dl8/fXXOHnypNB4Y5zrubCwELt370ZWVhb8/f0RGxuL/Px8tGjRQh5Tr149eHp64vTp0/Dz88Pp06ehVqt1rtITGBiIKVOm4MqVK3jppZdw+vTpYh8lBgYGIiwsDMDD/xHExcVh+PDh8v0WFhZo0aIFTp06Vao5kWHu3bsHT09PU5eheMxJDHPSTzQjjUaDnj17Ys+ePejRowd+/vln2NnZlUOFysDXkhjmJIY5KY/BzfO5c+fQr18/5OTkQJIk2NjYoFq1amX27ujixYvo27cvcnNzUblyZSxYsAD169fH+fPnYW1tjSpVquiMd3FxQVJSEgAgOTm52OUti37XNyYjIwM5OTlIS0tDYWFhsUuMu7i44Nq1a0adK/CwWY+Pj4e9vT0cHBxw7949+T5PT0+kpqYiJycHwMOznlhZWcnLR6ysrFC9enUkJibKnwS4uLigoKAAaWlpAABbW1s4OzsjPj5e3q67uzsyMjLki944OjrC1tZWzsjCwgIeHh5ITk6Wz6pSdCTp/v37AAAbGxu4uroiISFBPrG7m5sbcnJyoNFoAMBocyooKEBmZmaFmlNZPE8ajQbZ2dkVak5l8TxpNBrEx8dXqDkZ+3nSarVIS0t74pwsLCzQvn17/PPPP+jfvz8WLlwIAPJ2lDansnieNBoN8vPzK9ScyuJ5Kvqbq0hzKovnKSsrS35cRZlTWT1P5UYy0Pvvvy81aNBAateunXT48GGpsLDQ0E0Jyc3NlW7cuCGdPXtWmj17ttSsWTPp8uXL0tatWyUvL69i40NCQqSZM2dKkiRJkydPloYMGaJzf1ZWlqRWq6X9+/dLkiRJ7du3lxYtWqQzZv/+/ZJarZays7OlhIQESa1WSydPntQZExERIfXs2dNo8wwKCpLUarUUFBRktG1WVP/++6+pSzALzEkMc9JPX0ZXr16V6tevLwGQpkyZImm12nKqTFn4WhLDnMQwJ+Ux+MjzyZMnoVKpMG/ePLz00ktGbOdLZmNjgzp16gAAvL29cfbsWaxatQqdOnVCfn4+0tPTdY4+p6SkwM3NDcDDI8j/PStG0dk4Hh3z3zN0JCcnw8HBAba2trCwsIClpWWxLwempKQUO2JN5YMfY4lhTmKYk35PyujUqVPo1KkTkpKSsHDhQnzwwQflWJmy8LUkhjmJYU7KY/DZNiRJgp2dXbk0ziXRarXIy8uDt7c3rK2tcfjwYfm+a9euIT4+Hn5+fgAAPz8/XLp0SafxPXToEBwcHFC/fn15zJEjR3T2cejQIXkbNjY28PLy0tmPVqvF4cOH4e/vX0azpCdJTU01dQlmgTmJYU76PS6j3377Da1atcKDBw+wYcOGZ7pxBvhaEsWcxDAn5TG4ea5Tpw4KCgpQWFhozHpKNGfOHBw/fhx37tzBxYsXMWfOHBw7dgzdunWDo6MjQkJCMGPGDBw5cgSxsbEIDQ2Fv7+/3PgGBgaifv36GD9+PC5cuICDBw9i3rx56NevH2xsbAAAffv2xe3btzFz5kxcvXoVUVFR2LVrF9599125jsGDB2PdunWIjo7G1atXMWXKFGRnZyM4OLjMM6DiitZq0ZMxJzHMSb+SMlq7di06duwICwsL7NmzB0FBQSaoTFn4WhLDnMQwJ+UxeNlGUFAQwsLCsG/fPrRv396YNRWTkpKCCRMmIDExEY6OjmjQoAGWLVuG1157DQAQGhoKCwsLfPzxx8jLy0NgYCC+/PJL+fGWlpZYtGgRpkyZgj59+sDOzg5BQUH4+OOP5TG1atXC4sWLER4ejlWrVsHDwwPTp09Hy5Yt5TGdO3dGamoqIiMjkZSUhEaNGmHp0qVctkFEz4T/XuUsMjISn3zyCWrUqIHdu3fDx8fHRJUREZUfg8/zXFhYiGHDhiEuLg4LFy7k0gUj4XmexWVmZvLk8QKYkxjm9GTZ2dkICwtDaGgobG1tERoaihkzZqBhw4bYvXu3/J0U4mtJFHMSw5yUx+Ajz5aWlli4cCFmzpyJd955By+//DK8vb31PsGPXvmPqDSMeQn4iow5iWFOj5ednY3u3bsjJiYGR48exYYNG/D333+jefPm2L59e7FTeD7r+FoSw5zEMCflKdUzcvjwYfz++++QJAknTpzAiRMn9D6GzTMZS0pKCr+FLIA5iWFOJXu0cQaAmJgY9OzZE+vXr0elSpVga2tr4gqVh68lMcxJDHNSHoOb5xMnTmDkyJHyFwZr164NFxcXXkKSiKiC+G/jXCQmJga9evXCli1bTFQZEZHpGNw8L1iwAAUFBfD29sY333yDWrVqGbMuIr34UZYY5iSGOT08JdaZM2dw5swZhISEYNGiRcUa5yIxMTEICwvDpEmTULly5XKuVNn4WhLDnMQwJ+Ux+BmJi4uDSqXC7Nmz2TiTSVSvXt3UJZgF5iTmWcqpoKAAFy9elBvlM2fO4J9//sG///4rj9m+fTvWrl2Lo0ePlthAt2vXDqGhobCzsyvP0s3Cs/RaKg3mJIY5KY/BzbNWq4W9vT3q1q1rxHKIxCUmJvIfFQHMSUxFzSkxMVGnST5z5gzi4uKQl5cnjym6CFTbtm3RuHFj+adatWrYsmVLsaUb7dq1w5YtW9g4P0ZFfS0ZG3MSw5yUx+DmuV69evI/wEUXGiEqTwUFBaYuwSwwJzHmnlNeXh7Onz9frFFOSEjQGVezZs1iTbJarYa1tXWJ27Wzs9NpoNk462fur6XywpzEMCflMbh57tOnD0JDQ7Flyxb06tXLmDUREdFjSJKEhIQE/PPPPzpN8vnz53X+J2tnZwdvb2906dJFbpJ9fHwMOq1cUQNddJ5nNs5E9CwzuHkODg7G8ePHERYWhsqVK6NLly7GrItIL55bVgxzEqPEnHJychAXF1fsaHJycrLOuDp16qBz5846R5Pr169v1LMf2dnZYeLEiWycBSjxtaREzEkMc1Ieg5vnSZMmAQCsra3x6aefYs6cOXovkqJSqRAWFmboLol0FBQUoFKlSqYuQ/GYkxhT5iRJEu7cuVPsaPLFixeh1Wrlcfb29vDx8UFISIjO0WQnJyeT1E0l49+cGOYkhjkpj8HNc3R0NFQqFYqu7h0fH4/4+PgSxxaNY/NMxpSWlsZLlgpgTmLKK6fMzEzExcUVa5QfPHigM65evXro3r07fH195Ub5+eefh4WFRZnX+Dh8LYlhTmKYkxjmpDwGN889evSASqUyZi1ERBWGVqvFzZs35dPAFTXJV65ckQ86AECVKlV0llv4+vrC29sbDg4OJqyeiIgex+DmecaMGcasg+ip8bLAYqpUqWLqEsxCaXJKT09HbGysTpN89uxZaDQaeYyFhQVefPFF9OzZU6dRrl27ttkciODfnBjmJIY5iWFOysPL1pDZcnZ2NnUJipednY2IiAieIUEP0ZwKCwtx7dq1YkeTr1+/rjOuWrVqaNq0qc4RZS8vL7O/Eh//5sQwJzHMSQxzUh42z2S24uPj4enpaeoyFCs7O1s+N+/Ro0d5bt7HeFxO9+/fx9mzZ3Ua5djYWGRlZcmPtbS0RMOGDfH222/rNMrPPfec2RxNfhr8mxPDnMQwJzHMSXmM0jwnJyfj119/RWxsLFJSUgA8PLWKt7c3OnToAFdXV2PshogEPdoQAkBMTAy6d++OzZs3IyUlRacBfFZVrlwZLi4u6NGjR7Gc1q1bhz59+uhcVc/NzQ0tWrTQaZIbNWrEj1SJiJ4xpWqeCwsL8e2332L58uXyyfmLvgijUqmwefNmzJgxA0OGDMHHH39s1HOOEj3rHjx4gJs3b+LWrVu4efMmbt68CScnJ4waNQq9e/fWafyAh41hjx49sHbtWgwdOrTY/c+Sdu3aYe3atTqNc5GYmBj07t0bGzZswK+//gonJyc0btwY7u7uFfJoMhERPZ1SNc/jx4/Hzp07IUkSbGxs4O3tDQ8PDwBAQkICYmNjkZeXhyVLliA+Ph6zZs0yStFEAODu7m7qEsqMVqvFvXv35Ka46OfRRjk9Pb3Y4y5evIg5c+Y8tjGOiYnB3LlzsXLlSixYsKCsp6FYI0eOxNy5c5+Y06xZszBp0iSzX6dsTBX5b86YmJMY5iSGOSmPSnr0nElPYe/evRg1ahQAYPDgwfjwww+LfVtdo9Fg4cKF+PHHH6FSqfDdd9/hzTffLH3VFVhwcDDi4uLg5eWFTZs2mbocRUtLSzPbi0Pk5eXh9u3bJTbFN2/exO3bt5GXl1fscdbW1qhduzbq1KmDOnXq6Px3nTp1UKtWLRQWFuos2XhUu3btuPb5//vv0pZHMaeSmfPfXHliTmKYkxjmpDwGH3nesGEDVCoVhg8fjk8++aTEMY6Ojhg/fjxsbGywaNEirF+/ns0zGU1mZqZi/0FJT08vsSkuuu3u3bso6X1rlSpVUKdOHbRr106nKS5qlD08PIQukrFly5ZijSEbQl12dnbM6Skp+W9OSZiTGOYkhjkpj8HN89mzZ2FhYYGhQ4fqHTt06FAsWbIEZ8+eNXR3RIohSRISExOfuKTiv1eLK+Lu7o46dergtddeK/HocdWqVY1S438bQzaEJWNORET0tAxuntPS0uDg4ABHR0e9Yx0dHeHo6Ii0tDRDd0dUTFm9E8/Pz8edO3eeeOQ4Nze32OOsrKxQq1Yt+Pn5PXZJRXmemaGoMQwLC+N5np+AOYkT+feemJMo5iSGOSmPwc2zk5MTHjx4gIyMDL2XkdVoNNBoNKhWrZqhuyPSkZ2djRkzZhjU7GRkZDy2Kb558ybi4+Oh1WqLPc7BwQF16tRBmzZtSlxSUaNGDcWdUcbOzg4TJ05kQ6gHcxLD0/KJYU5imJMY5qQ8BjfPPj4+OHDgAFasWCF/cfBxVqxYAa1WC29vb0N3RyR70sU/JElCcnLyY5dT3Lx5E6mpqSVu183NDXXq1EGzZs1KXFJRrVo1szxVWVpaGuzt7U1dhuIxJ/2SkpJ4sQYBzEkMcxLDnJTH4OY5ODgY+/fvx/fff4+CggK8//77xf7Hk5GRgR9++AFLliyBSqVCz549S10wPdsed/GP9evXY+zYsfjll1+QnZ1d7HGWlpaoWbMmvL29S1xSUbt2bR51JCIiIr0Mbp7bt2+PTp06YdeuXVi8eDFWrFgBHx8fVK9eHQBw7949xMbGIjc3F5IkoXPnzmjXrp3RCqdnz+NOLRYTE4NevXph3bp1cHd3R0pKSrHG2NPTE1ZWz+bV6EXOzkHMSQQzEsOcxDAnMcxJeUrVTcycORMeHh5YvXo1cnJycPz4cflj7aLTcFlZWWHAgAEYO3Zs6aulZ1ZWVhbCw8OfeFGLOXPmYPLkybyoxX8UXbiInow56ceMxDAnMcxJDHNSHoMvkvKoe/fuYc+ePYiNjUVKSgoAwMXFBd7e3mjfvj2vjvMUeJGUx+NFLQyTnJwMV1dXU5eheMxJP2YkhjmJYU5imJPyGOVzbHd3dwwYMMAYmyJ6LDs7O2zYsAE9e/bkRS2eQklXKqTimJN+zEgMcxLDnMQwJ+Uxi4U0ixcvRkhICPz9/REQEIARI0bg2rVrOmMGDBiABg0a6Px88cUXOmPi4+MxbNgw+Pr6IiAgABERESgoKNAZc/ToUQQFBcHb2xvt2rUr8ehvVFQU2rRpAx8fH/Tq1Qtnzpwx/qSpmH///Rd9+/bF+vXr5fXzbJyJiIioPBncPGdkZGDfvn04cuSI3rGHDx/Gvn37kJmZadC+jh07hn79+mHdunVYvnw5CgoKMHToUGRlZemM6927N/7880/5Z/z48fJ9hYWFGD58OPLz87FmzRrMmDED0dHRiIyMlMfcvn0bw4cPR7NmzbBlyxYMGjQIkydPxsGDB+UxO3fuRHh4OEaOHIno6Gg0bNgQQ4cOlZerUNmZM2cOdu3ahQsXLmDLli2YPHkyG2cBPL+6GOakHzMSw5zEMCcxzEl5DG6et23bhlGjRuGPP/7QO3b37t0YNWoUdu7cadC+li1bhuDgYLz44oto2LAhZsyYgfj4eMTFxemMs7W1hZubm/zz6MVb/vzzT1y5cgWzZs1Co0aN0KpVK4wePRpRUVHyRyJr1qxBzZo1MXHiRNSrVw/9+/dHhw4dsGLFCnk7y5cvR+/evRESEoL69etj6tSpsLW1xcaNGw2aG4lJSUnB4sWL0bhxY7z66qu8qAURERGZhMHN8969ewEAXbt21Ts2JCQEkiRhz549hu5Oh0ajAVD88szbtm1Ds2bN0LVrV8yZM0fnfL+nT5+GWq3WWXQfGBiIjIwMXLlyRR4TEBCgs83AwECcPn0awMN1R3FxcWjRooV8v4WFBVq0aIFTp04ZZW5UssjISGRlZWHSpEnyGV14uXcx9+/fN3UJZoE56ceMxDAnMcxJDHNSHoO/MHj9+nVYWVmhUaNGesd6e3vDysoK169fN3R3Mq1Wi7CwMDRp0gRqtVq+vWvXrvD09ET16tVx8eJFzJ49G9evX8d3330HoORvqxb9npSU9MQxGRkZyMnJQVpaGgoLC+Hi4qIzxsXFpdga7NLKy8tDfHw87O3t4eDggHv37sn3eXp6IjU1FTk5OQAevomwsrKSl45YWVmhevXqSExMlNd0u7i4oKCgQG44bW1t4ezsjPj4eHm77u7uyMjIkJfXODo6wtbWVs7HwsICHh4eSE5Olo/WF32cVPTHbWNjA1dXVyQkJMiXuHZzc0NOTo78pudp55SRkYFvv/0W9evXR6tWreSaCwoKkJmZaZZzKs/nSaPRyG8kK8qcyuJ50mg0iI+Pr1BzMvbzpNVqkZaWVqHmVBbPk0ajQX5+foWaU1k8T0V/cxVpTmXxPGVlZcmPqyhzKqvnqdxIBvLx8ZGaN28uPL5Zs2aSr6+vobuTffHFF1Lr1q2lu3fvPnHcoUOHJLVaLd28eVOSJEmaPHmyNGTIEJ0xWVlZklqtlvbv3y9JkiS1b99eWrRokc6Y/fv3S2q1WsrOzpYSEhIktVotnTx5UmdMRESE1LNnz9JOTZIkSQoKCpLUarUUFBRklO1VBLNmzZIASD/88IPO7UlJSSaqyLwwJzHMST9mJIY5iWFOYpiT8hi8bMPOzg4ajQaFhYV6xxYUFCAjIwPW1taG7g4AMG3aNOzfvx8rV67Ue9JwX19fAMDNmzcBPDyCnJycrDOm6Hc3N7cnjnFwcICtrS2qVasGS0vLYl8OTElJ4TkYy0hOTg7mzJkDT0/PYqdDZOZimJMY5qQfMxLDnMQwJzHMSXkMbp7r1KmDwsJCHD58WO/Yw4cPo6CgALVq1TJoX5IkYdq0aYiJicHKlSuFtnP+/HkA/9cY+/n54dKlSzqN76FDh+Dg4ID69evLY/579pBDhw7Bz88PwMOPEry8vHTmrNVqcfjwYfj7+xs0N3qylStXIiEhAZ9++ikqVaqkc19CQoKJqjIvzEkMc9KPGYlhTmKYkxjmpDwGN8+vv/46JEnCzJkzkZGR8dhxmZmZmDlzJlQqFVq1amXQvqZOnYqtW7dizpw5sLe3R1JSEpKSkuS1Ordu3cKCBQsQGxuLO3fuYN++fZgwYQJeeeUVNGzYEMDDL/7Vr18f48ePx4ULF3Dw4EHMmzcP/fr1g42NDQCgb9++uH37NmbOnImrV68iKioKu3btwrvvvivXMnjwYKxbtw7R0dG4evUqpkyZguzsbAQHBxs0N3q8goICREREwNnZGe+//36x+4vWQtGTMScxzEk/ZiSGOYlhTmKYk/IY/IXB/v37Y/Xq1bh8+TJ69uyJcePGoWXLlrC1tQXw8OP2P/74A3PnzsWNGzdQpUoVDBw40KB9/fLLLwBQ7GP78PBwBAcHw9raGocPH8aqVauQlZWFGjVqoH379hgxYoQ81tLSEosWLcKUKVPQp08f2NnZISgoCB9//LE8platWli8eDHCw8OxatUqeHh4YPr06WjZsqU8pnPnzkhNTUVkZCSSkpLQqFEjLF26lB+rlIG1a9fi+vXrmDp1qs5pB4mIiIhMRSVJkmTog//880+MHDkSubm5UKlUsLS0RNWqVQEADx48QGFhISRJQqVKlbBw4UKdU7xRyYKDgxEXFwcvL68Sr274rNBqtfD19cWNGzdw8+ZNODs7FxuTn59f6nX0zwLmJIY56ceMxDAnMcxJDHNSnlJdnjswMBC//PILmjRpAkmSUFBQgOTkZCQnJ6OgoACSJOGVV17B2rVr2TjTU9m+fTtiY2PxwQcflNg4A5CX7dCTMScxzEk/ZiSGOYlhTmKYk/IYvGyjyEsvvYSff/4ZN2/exKlTp5CUlASVSgVXV1c0adIEtWvXNkad9AyRJAlhYWGwsbHB2LFjHztOo9HA0dGxHCszT8xJDHPSjxmJYU5imJMY5qQ8pW6ei9SpUwd16tQx1uboGbZ//34cPXoUw4cPR40aNUxdDhEREZGsVMs2iMpCWFgYLCwsMH78+CeOs7e3L6eKzBtzEsOc9GNGYpiTGOYkhjkpD5tnUpTjx49j79696Nu3L1544YUnjuUZOMQwJzHMST9mJIY5iWFOYpiT8pRq2YYkSYiOjsaOHTtw8eJF+Qwbj6NSqXDu3LnS7JIquPDwcADAxIkT9Y69d+9e+V7L3kwxJzHMST9mJIY5iWFOYpiT8hjcPOfl5WHYsGE4evQoSnG2OyLZuXPnEB0djbfeegs+Pj6mLoeIiIioGIOb5yVLlsiXsm7fvj3atGkDd3d3WFpaGq04erZEREQAACZNmmTiSoiIiIhKZnDzvHPnTqhUKowcORKjRo0yZk30DLpx4waioqLQunVrNG/eXOgx/BhLDHMSw5z0Y0ZimJMY5iSGOSmPwV8YvHPnDlQqFQYPHmzMeugZNXv2bBQWFj7VUefU1NQyrKjiYE5imJN+zEgMcxLDnMQwJ+Ux+Mizvb09tFotT6FCpXbv3j0sW7YML7/8Mtq2bSv8OF51SQxzEsOc9GNGYpiTGOYkhjkpj8FHnn18fKDRaPDgwQMjlkPPonnz5iEnJwehoaFQqVSmLoeIiIjosQxungcPHgxJkrBixQojlkPPmgcPHmDBggVo1KgRunfv/lSPdXJyKqOqKhbmJIY56ceMxDAnMcxJDHNSHoOb54CAAHz66af44YcfsGDBAmRnZxuzLnpGfP/999BoNJg4cSIsLJ7u5WhlZbSry1dozEkMc9KPGYlhTmKYkxjmpDwqycCTNA8cOBAAcOHCBWg0GtjY2KB+/fpPXAOtUqmwcuVKwyp9RgQHByMuLg5eXl7YtGmTqcspU1lZWahTpw7s7e1x+fJlWFtbP9Xj4+Pj+S1kAcxJDHPSjxmJYU5imJMY5qQ8Br+dOXbsmM7vubm5iIuLe+JjuJ6VHrV06VIkJydjypQpT904ExEREZmCwc0zz+1MpZGXl4fZs2ejevXqGDJkiEHb4EdZYpiTGOakHzMSw5zEMCcxzEl52DyTSURFReH27dsIDw+HnZ2dQduoXr26kauqmJiTGOakHzMSw5zEMCcxzEl5DP7CIJGhCgsLERERAScnJ3z44YcGbycxMdGIVVVczEkMc9KPGYlhTmKYkxjmpDxsnqncRUdH4+LFixg5cmSpTsFTUFBgxKoqLuYkhjnpx4zEMCcxzEkMc1IeNs9UriRJQlhYGOzs7DB69GhTl0NERET0VITXPBedmq40eKo62rNnD06dOoWPP/641Ou4XFxcjFRVxcacxDAn/ZiRGOYkhjmJYU7KI9w8Hzt2DCqVCoacFrrocTxVHYWFhcHKygrjxo0r9bYKCgpQqVIlI1RVsTEnMcxJP2YkhjmJYU5imJPyCDfPr7zySlnWQc+Av/76C3/88QcGDx6M2rVrl3p7aWlpT7woDz3EnMQwJ/2YkRjmJIY5iWFOyiPcPK9evbos66BnQHh4OFQqFSZMmGDqUoiIiIgMwi8MUrn4559/sGPHDoSEhKBBgwZG2aatra1RtlPRMScxzEk/ZiSGOYlhTmKYk/KweaZyMWPGDADApEmTjLZNZ2dno22rImNOYpiTfsxIDHMSw5zEMCflYfNMZe7KlStYt24dOnTogCZNmhhtu/Hx8UbbVkXGnMQwJ/2YkRjmJIY5iWFOysPmmcrczJkzodVqERoaaupSiIiIiErFLJrnxYsXIyQkBP7+/ggICMCIESNw7do1nTG5ubmYOnUqmjVrBn9/f3z00UdITk7WGRMfH49hw4bB19cXAQEBiIiIKHblnqNHjyIoKAje3t5o164dNm3aVKyeqKgotGnTBj4+PujVqxfOnDlj/ElXEP/++y9WrFiBFi1aoGXLlqYuh4iIiKhUzKJ5PnbsGPr164d169Zh+fLlKCgowNChQ5GVlSWPCQsLw++//4558+Zh9erVSExMxKhRo+T7CwsLMXz4cOTn52PNmjWYMWMGoqOjERkZKY+5ffs2hg8fjmbNmmHLli0YNGgQJk+ejIMHD8pjdu7cifDwcIwcORLR0dFo2LAhhg4dipSUlPIJw8zMnTsX+fn5CA0NNfp5vt3d3Y26vYqKOYlhTvoxIzHMSQxzEsOcFEgyQykpKZJarZaOHTsmSZIkpaenS15eXtKuXbvkMVeuXJHUarV06tQpSZIkaf/+/VLDhg2lpKQkeczPP/8sNWnSRMrNzZUkSZJmzpwpdenSRWdfn3zyiTRkyBD59549e0pTp06Vfy8sLJQCAwOlxYsXG2VuQUFBklqtloKCgoyyPVNKTk6WKleuLDVu3FjSarVG3/6DBw+Mvs2KiDmJYU76MSMxzEkMcxLDnJTHLI48/5dGowEAODk5AQBiY2ORn5+PFi1ayGPq1asHT09PnD59GgBw+vRpqNVquLq6ymMCAwORkZGBK1euyGMCAgJ09hUYGChvIy8vD3FxcTr7sbCwQIsWLXDq1Cmjz9PcRUZGIisrC5MmTSqTq0tmZmYafZsVEXMSw5z0Y0ZimJMY5iSGOSmP8EVSlEKr1SIsLAxNmjSBWq0GACQnJ8Pa2hpVqlTRGevi4oKkpCR5zKONMwD5d31jMjIykJOTg7S0NBQWFha7zryLi0uxNdillZeXh/j4eNjb28PBwQH37t2T7/P09ERqaipycnIAPHwTYWVlJS8dsbKyQvXq1ZGYmCiv6XZxcUFBQQHS0tIAPDxvpLOzs863eN3d3ZGRkSH/oTo6OsLW1lbOx8LCAh4eHkhOTkZeXh4AoFq1agCA+/fvAwBsbGzg6uqKK1euIDIyEnXr1kWPHj2g0WjkNz3GmlNBQQEyMzPLbU4JCQnQarUAADc3N+Tk5Bh9TmXxPGk0GmRnZ1eoOZXF86TRaBAfH1+h5mTs50mr1SItLa1CzaksnieNRoP8/PwKNaeyeJ6K/uYq0pzK4nnKysqSH1dR5lRWz1O5MfWh76f1xRdfSK1bt5bu3r0r37Z161bJy8ur2NiQkBBp5syZkiRJ0uTJk3WWX0iSJGVlZUlqtVrav3+/JEmS1L59e2nRokU6Y/bv3y+p1WopOztbSkhIkNRqtXTy5EmdMREREVLPnj2NMr+Ksmxj1qxZEgBpyZIlZbaP9PT0Mtt2RcKcxDAn/ZiRGOYkhjmJYU7KY5Qjz1qtFrGxsYiPj0dOTg569OhhjM0WM23aNOzfvx8//fQTPDw85NtdXV2Rn5+P9PR0naPPKSkpcHNzk8f896wYRWfjeHTMf8/QkZycDAcHB9ja2sLCwgKWlpbFvhyYkpJS7Ij1sywnJwdz586Fp6cnBg4cWGb74VWXxDAnMcxJP2YkhjmJYU5imJPylHrN8+rVqxEYGIg+ffpgzJgxxa4gl5aWhq5du6Jjx47FGlNRkiRh2rRpiImJwcqVK1GrVi2d+729vWFtbY3Dhw/Lt127dg3x8fHw8/MDAPj5+eHSpUs6je+hQ4fg4OCA+vXry2OOHDmis+1Dhw7J27CxsYGXl5fOfrRaLQ4fPgx/f3+D5lYRrVy5Enfv3sW4ceNQqVKlMttP0cdA9GTMSQxz0o8ZiWFOYpiTGOakPKVqnqdOnYqwsDCkpqbC3t6+xC+FOTk54aWXXsLNmzexe/dug/ezdetWzJkzB/b29khKSkJSUpK8VsfR0REhISGYMWMGjhw5gtjYWISGhsLf319ufAMDA1G/fn2MHz8eFy5cwMGDBzFv3jz069cPNjY2AIC+ffvi9u3bmDlzJq5evYqoqCjs2rUL7777rlzL4MGDsW7dOkRHR+Pq1auYMmUKsrOzERwcbNDcKpqCggJERETA2dkZw4YNM3U5REREREZl8LKNP/74A7/88gvs7e0RERGBtm3bIjAwsMTzHXft2hVbt27FoUOH0L9//6fe1y+//AIAGDBggM7t4eHhctMaGhoKCwsLfPzxx8jLy0NgYCC+/PJLeaylpSUWLVqEKVOmoE+fPrCzs0NQUBA+/vhjeUytWrWwePFihIeHY9WqVfDw8MD06dN1Lu7RuXNnpKamIjIyEklJSWjUqBGWLl3KZRv/37p163D9+nVMnToVDg4OZbovCwuzPFlMuWNOYpiTfsxIDHMSw5zEMCflUUmSJBnywBEjRuD333/HxIkTMWjQIACQm+fz58/rjNVoNHjllVdQs2ZN7N27t/RVV2DBwcGIi4uDl5dXiVc3VDKtVgtfX1/cuHEDN2/ehLOzs6lLIiIiIjIqg9/OFH35LiQkRO9YR0dHODg4GLzmmczDjh07EBsbiw8++KBcGme+nsQwJzHMST9mJIY5iWFOYpiT8hjcPD948EBuioV2ZGEhn6+PKh5JkvD111/DxsYGY8aMKZd9Fp0jkp6MOYlhTvoxIzHMSQxzEsOclMfg5tnBwQEZGRnIz8/XO/bBgwfQaDTyibCp4tm/fz+OHj2KwYMHl++JyomIiIjKkcHNs1qthiRJ+Oeff/SO3bFjByRJgre3t6G7I4ULDw+HhYUFxo8fX2775JsxMcxJDHPSjxmJYU5imJMY5qQ8BjfPHTp0gCRJ+O677564HOPChQuYN28eVCoVunTpYujuSMFOnDiBmJgY9O3bFy+88IKpyyEiIiIqMwY3z71790b9+vXlj+p///13FBYWAgBu3LiBv/76C9OnT0ffvn2h0Wjg6+uLTp06Ga1wUo7w8HAAwMSJE8t1v/fv3y/X/Zkr5iSGOenHjMQwJzHMSQxzUh6Dz/NsbW2NxYsX47333sPRo0dx7Ngx+b5Hm2RJkqBWqzF//vwSL6JC5u3cuXPYtGkTunXrBh8fH1OXQ0RERFSmSnXm7eeeew6bNm3CRx99hBo1akCSJJ2f6tWrY9SoUVizZg3c3NyMVTMpSEREBICHF6kpb0VXhqQnY05imJN+zEgMcxLDnMQwJ+Ux+CIpJbl37x4SExOh1Wrh6uqK5557zlibfmaY00VSbty4gfr16+P111/Hb7/9ZupyiIiIiMqcUa/56O7uDh8fH/j6+rJxfgbMnj0bhYWFmDRpkkn2n5CQYJL9mhvmJIY56ceMxDAnMcxJDHNSHl4wnQxy7949LFu2DC+//DLatm1rkhp40R0xzEkMc9KPGYlhTmKYkxjmpDxsnskg8+bNQ05ODiZNmsQvghIREdEzQ+hsG40aNTLKzlQqFc6dO2eUbZHpPHjwAN9//z0aNmyIHj16mKwOfglVDHMSw5z0Y0ZimJMY5iSGOSmP0JHn/55FozQ/ZP6+//57pKenY9KkSbCwMN2HFzk5OSbbtzlhTmKYk37MSAxzEsOcxDAn5RE68rxq1aqyroPMRFZWFr755hvUqVMHb7/9tklr0Wg0cHR0NGkN5oA5iWFO+jEjMcxJDHMSw5yUR6h5fvXVV8u6DjITy5YtQ3JyMqZMmQJra2tTl0NERERUrviFQRKWl5eHWbNmoXr16hgyZIipy4G9vb2pSzALzEkMc9KPGYlhTmKYkxjmpDxsnknYzz//jNu3b2PMmDGws7MzdTlwcHAwdQlmgTmJYU76MSMxzEkMcxLDnJSn1M2zJEn49ddf8fHHH6NNmzbw8/ODn58f2rRpg48//hi//vorz1FYARQWFmLGjBmoUqUKPvzwQ1OXA+DhuaZJP+Ykhjnpx4zEMCcxzEkMc1IeoTXPjxMfH49PPvkEZ8+eBQCds2nEx8fj7t27iImJgZeXF7799lteddCMRUdH4+LFiwgNDYWTk5OpyyEiIiIyCYObZ41Gg/79++Pu3buQJAn+/v5o3rw53N3dATx8p3T06FGcPHkSsbGxGDhwIDZv3sxvjJohSZIQHh4OOzs7jB492tTlEBEREZmMwc3zwoULER8fDycnJ8ybNw8BAQEljjty5AhGjx6N+Ph4LFq0CJ999pnBxZJp7NmzBydPnsRHH32E6tWrm7ocmaenp6lLMAvMSQxz0o8ZiWFOYpiTGOakPAaved67dy9UKhWmTp362MYZAJo3b46pU6dCkiTs2bPH0N2RCYWHh8PKygqffvqpqUvRkZqaauoSzAJzEsOc9GNGYpiTGOYkhjkpj8HNc0JCAqytrdG+fXu9Y9u1awcbGxsuejdDf/31Fw4cOID+/fujdu3api5HB6+6JIY5iWFO+jEjMcxJDHMSw5yUx+BlG1WqVEFubq7Q5ZktLS1RqVIlVKpUydDdkYmEh4dDpVJhwoQJpi6FiIiIyOQMPvLcpEkTZGRk4Pr163rHXr9+HRqNBk2bNjV0d2QC//zzD3bs2IGQkBA0bNjQ1OUUw7N+iGFOYpiTfsxIDHMSw5zEMCflMbh5fv/992FlZYWpU6ciLy/vsePy8vIwdepUWFlZYdiwYYbujkxgxowZAIBJkyaZuJKSWVmV6kyLzwzmJIY56ceMxDAnMcxJDHNSHoObZx8fH8ybNw9xcXHo3r07Nm7ciDt37iA/Px/5+fm4c+cONm7ciKCgIJw7dw6RkZHw8vIyZu1Uhq5cuYJ169ahQ4cOaNKkianLKVFKSoqpSzALzEkMc9KPGYlhTmKYkxjmpDxCb2caNWr0xPszMjIwefLkJ44ZOXIkVCoVzp07J14dmczMmTOh1WoVe9SZiIiIyBSEjjxLkmS0H0McP34cH3zwAQIDA9GgQQPs3btX5/6JEyeiQYMGOj9Dhw7VGfPgwQOMGzcOTZo0wcsvv4zQ0FBkZmbqjLlw4QLeeecd+Pj4oFWrVvjhhx+K1bJr1y507NgRPj4+6NatGw4cOGDQnJTs33//xYoVK9CiRQu8/vrrpi7nsfhRlhjmJIY56ceMxDAnMcxJDHNSHqFnZNWqVWVdxxNlZWWhQYMGCAkJwahRo0oc07JlS4SHh8u/29jY6Nz/6aefIikpCcuXL0d+fj5CQ0PxxRdfYM6cOQAeHj0fOnQoAgICMHXqVFy6dAmhoaGoUqUK+vTpAwA4efIkxo0bh7Fjx6J169bYtm0bRo4ciU2bNkGtVpfR7Mvf3Llz5YxUKpWpy3ksJV2wRcmYkxjmpB8zEsOcxDAnMcxJeYSa51dffbWs63iiVq1aoVWrVk8cY2NjAzc3txLvu3r1Kg4ePIgNGzbAx8cHADB58mQMGzYM48ePh7u7O7Zu3Yr8/HyEhYXBxsYGL774Is6fP4/ly5fLzfOqVavQsmVLvPfeewCATz75BIcOHcJPP/2EadOmGXHGppOSkoLFixejcePG6Ny5s6nLeaLExET+oyKAOYlhTvoxIzHMSQxzEsOclMfgLwwqzbFjxxAQEIAOHTrgyy+/xP379+X7Tp06hSpVqsiNMwC0aNECFhYWOHPmDADg9OnTePnll3WOWAcGBuL69etIS0uTx/z3aoqBgYE4ffp0Gc6sfM2fPx+ZmZmYNGmSoo86A0BBQYGpSzALzEkMc9KPGYlhTmKYkxjmpDwVYiFNy5Yt0a5dO9SsWRO3b9/G3Llz8f7772Pt2rWwtLREcnIynJ2ddR5jZWUFJycnJCUlAQCSk5NRs2ZNnTGurq7yfU5OTkhOTpZvK+Li4oLk5GSjzykvLw/x8fGwt7eHg4ODztUZPT09kZqaKl91yMnJCVZWVvI3cq2srFC9enUkJibKf3QuLi4oKCiQ3wjY2trC2dkZ8fHx8nYrV66Mb7/9FnXr1kWLFi2g0Whga2srZ2RhYQEPDw8kJyfLpyesVq0aAMhvVmxsbODq6oqEhARotVoAgJubG3JycqDRaADAaHMqKChAZmbmE+fk7u6OjIwMeX27o6Ojouck8jw97Zw0Gg2ys7Mr1JzK4nnSaDSIj4+vUHMy9vOk1WqRlpZWoeZUFs+TRqNBfn5+hZpTWTxPRX9zFWlOZfE8ZWVlyY+rKHMqq+epvKgkQ7/F9x8pKSlISEhAdnb2E78Y+Morr5RqPw0aNMCCBQvQtm3bx465ffs22rZtixUrViAgIACLFi1CdHQ0fv31V51xAQEB+Oijj/DOO+9gyJAhqFmzps7yiytXrqBLly7YuXMn6tWrB29vb8yYMQNdu3aVx0RFRWHBggU4dOhQqeZVJDg4GHFxcfDy8sKmTZuMsk1Rc+bMwaeffoolS5bg/fffL9d9GyI3N5dXrRTAnMQwJ/2YkRjmJIY5iWFOylPqI88//fQTVq9ejVu3bukdW16nqqtVqxaqVauGmzdvIiAgAK6urkhNTdUZU/TuqWidtKura7EjyEW/Fx1tLmlMSkpKsaPR5ignJwdz5syBp6cnBg4caOpyhBQUFPAfFAHMSQxz0o8ZiWFOYpiTGOakPKVa8zxmzBh8/fXXuHnzptBp6ooOv5e1hIQEPHjwQG6M/f39kZ6ejtjYWHnMkSNHoNVq0bhxYwCAn58fTpw4gfz8fHnMoUOH8Pzzz8uXxvTz88ORI0d09nXo0CH4+fmV8YzK3sqVK3H37l2MGzfObP5Iiz46oidjTmKYk37MSAxzEsOcxDAn5TG4ed6xYwd27doFBwcHREZGyl+ac3V1xblz53DgwAGEh4ejTp06qFatGlasWIELFy4YtK/MzEycP38e58+fBwDcuXMH58+fR3x8PDIzMxEREYHTp0/jzp07OHz4MEaMGIE6deqgZcuWAIB69eqhZcuW+Pzzz3HmzBn8/fff+Oqrr9ClSxe4u7sDALp16wZra2v873//w+XLl7Fz506sWrUKgwcPlusYOHAgDh48iB9//BFXr17F/PnzERsbi/79+xsaoyIUFBRg5syZcHZ25iXUiYiIiJ7A4GUbmzZtgkqlwujRo9G+fXud+ywsLODu7o6goCC0b98eAwYMkM+HXKdOnafeV2xsrM5SgqLzOQcFBWHKlCm4dOkSNm/eDI1Gg+rVq+O1117D6NGjdc6cMXv2bHz11VcYNGgQLCws0L59e52rIjo6OmLZsmWYNm0agoODUa1aNYwYMUI+TR0ANGnSBLNnz8a8efMwd+5c1K1bFwsWLDD7czyvW7cO165dw5QpU+Dg4GDqcoTZ2tqaugSzwJzEMCf9mJEY5iSGOYlhTspj8BcGW7Rogfv37+Po0aOoUqUKAKBhw4ZwcXHBX3/9pTP21KlTePvtt9GzZ09Mnz699FVXYOX9hUGtVgtfX19cv34dt27dKnZWEiIiIiL6PwYv20hPT4e9vb3cOAMPT22SlZVVbKy/vz/s7OyMdkYKMp4dO3YgNjYWH374odk1zo+eHocejzmJYU76MSMxzEkMcxLDnJTH4Oa5atWqxS6iUaVKFeTk5CA9Pb3Ex5TF+ZDJcJIkyVdUHDNmjKnLISIiIlI8g5vn/54IG3j4xTwAOHr0qM7YuLg4ZGdnw87OztDdURk4cOAAjhw5gsGDB5frycWJiIiIzJXBzbOXlxcA4OzZs/JtrVq1giRJiIiIwJkzZ5Cfn4+zZ89i4sSJUKlU8Pf3L33FZDRhYWGwsLDAZ599ZupSDFJ0phR6MuYkhjnpx4zEMCcxzEkMc1Ieg5vnokZ59+7d8m1vv/023N3dcefOHfTp0weNGzdG7969cfnyZVhaWuLDDz80StFUeidOnEBMTAz69u0rf2JgbjIyMkxdgllgTmKYk37MSAxzEsOcxDAn5SlV87xq1SoEBwfLt9nb22PlypXw8/PTuTiKp6cnvvvuO/j6+hqlaCq9otP9TZw40cSVGO7RJUP0eMxJDHPSjxmJYU5imJMY5qQ8Bp/n2crKCq+++mqx2+vWrYs1a9YgISEBd+/ehaOjI+rVq1fsy4VkOufPn8emTZvQrVs3+Pj4mLocIiIiIrNhcPOsj4eHBzw8PMpq81QKERERAIDQ0FATV1I6jo6Opi7BLDAnMcxJP2YkhjmJYU5imJPyGLxsIy8v76kfc+3aNUN3R0Zy8+ZNREVF4Y033kDz5s1NXU6p8KpLYpiTGOakHzMSw5zEMCcxzEl5DG6ee/Xq9VTN8Pr16xESEmLo7shIZs+ejYKCArM/6gwASUlJpi7BLDAnMcxJP2YkhjmJYU5imJPyGNw8X7x4ESEhIVi/fv0Tx2k0GowePRpffPEFcnJyDN0dGcG9e/ewdOlSNG3aFG3btjV1OURERERmx+Dm2c/PD9nZ2fjiiy8wevRoaDSaYmNOnjyJ7t27Y8+ePQCA9957z/BKqdTmzZuHnJwchIaGVogvcFpYGPzyfaYwJzHMST9mJIY5iWFOYpiT8qgkSZIMeWBhYSEiIyPxww8/QJIk1KhRA7NmzULTpk0hSRIWLFiARYsWoaCgAG5ubpg5cyYCAgKMXX+FExwcjLi4OHh5eWHTpk1G2+6DBw9Qp04deHp6Ii4ujn+MRERERAYwuIOytLTEmDFjsHz5cri5uSE+Ph6DBg3C3LlzMWDAACxYsAAFBQV44403sGXLFjbOJvb9998jPT0dEydOrDCNc3JysqlLMAvMSQxz0o8ZiWFOYpiTGOakPKXuopo1a4YtW7agTZs2KCgowA8//IATJ07AxsYGoaGhWLRoEZydnY1RKxkoKysL8+bNQ+3atfHOO++YuhyjMeSML88i5iSGOenHjMQwJzHMSQxzUh6jnOfZ3t4erq6uAABJkqBSqeDp6YnAwEBjbJ5KadmyZUhKSsL8+fNhbW1t6nKIiIiIzFapjzxfvnxZ56wb7du3h4ODA27cuCF0Ng4qW3l5eZg1axaqV6+OoUOHmroco6pWrZqpSzALzEkMc9KPGYlhTmKYkxjmpDylap5//vln9OrVC5cvX0aVKlUQGRmJyMhIREdHo3HjxnrPxkFl7+eff8bt27cxZswY2NnZmbocIiIiIrNmcPM8atQofPXVV8jJyUGTJk2wefNmtG/fHgBQs2ZN/Pzzzxg+fDhUKhX27NmD7t274++//zZa4aRfYWEhZsyYgSpVquDDDz80dTlGd//+fVOXYBaYkxjmpB8zEsOcxDAnMcxJeQxunvfu3QuVSoWRI0fip59+Qo0aNXTuLzobx48//ojq1avLZ+Og8rN582ZcvHgRo0aNgpOTk6nLISIiIjJ7BjfP7u7uWLVqFT766KMnnvqsefPm2LJlC1q3bo3CwkJDd0dPSZIkhIWFwdbWFqNHjzZ1OWXCxsbG1CWYBeYkhjnpx4zEMCcxzEkMc1Ieg8+2sWXLFlStWlVobNWqVbFw4UJERUUZujt6SjExMTh58iQ++ugjVK9e3dTllImiM7zQkzEnMcxJP2YkhjmJYU5imJPyGHzkWbRxflS/fv0M3R09pbCwMFhZWeHTTz81dSllJiEhwdQlmAXmJIY56ceMxDAnMcxJDHNSnopxqTnScejQIRw4cAD9+/dH7dq1TV1OmdFqtaYuwSwwJzHMST9mJIY5iWFOYpiT8hjlIikAkJKSgoSEBGRnZ0OSpMeOe+WVV4y1S3qM8PBwqFQqTJgwwdSlEBEREVUopW6ef/rpJ6xevRq3bt3SO1alUuHcuXOl3SU9wZkzZ7B9+3aEhISgYcOGpi6nTLm5uZm6BLPAnMQwJ/2YkRjmJIY5iWFOylOq5nnMmDHYvXv3E480P0p0HBluxowZAIBJkyaZuJKyl5OTw8uNC2BOYpiTfsxIDHMSw5zEMCflMXjN844dO7Br1y44ODggMjISp0+fBvDwW6Hnzp3DgQMHEB4ejjp16qBatWpYsWIFLly4YKy6qQRXrlzB2rVr0aFDBzRt2tTU5ZQ5XrVSDHMSw5z0Y0ZimJMY5iSGOSmPwc3zpk2boFKpMHr0aLRv3x62trb/t1ELC7i7uyMoKAibNm1CjRo1MHLkSNy8edMoRVPJZs6cCa1W+0wcdSYiIiIyBYOb5/PnzwMA3nrrLZ3b/7s0w97eHp9//jkyMzPxww8/GLSv48eP44MPPkBgYCAaNGiAvXv3Ftvnt99+i8DAQDRu3Bjvvvsubty4oTPmwYMHGDduHJo0aYKXX34ZoaGhyMzM1Blz4cIFvPPOO/Dx8UGrVq1KrHfXrl3o2LEjfHx80K1bNxw4cMCgORnbv//+i5UrV6JFixZ4/fXXTV1OubC3tzd1CWaBOYlhTvoxIzHMSQxzEsOclMfg5jk9PR329vaoUqWKfJuVlRWysrKKjfX394ednR0OHTpk0L6ysrLQoEEDfPnllyXe/8MPP2D16tWYMmUK1q1bBzs7OwwdOhS5ubnymE8//RRXrlzB8uXLsWjRIpw4cQJffPGFfH9GRgaGDh0KT09PbNq0CePHj8d3332HtWvXymNOnjyJcePGoWfPnti8eTPefPNNjBw5EpcuXTJoXsY0d+5c5OXlYdKkSVCpVKYup1w4ODiYugSzwJzEMCf9mJEY5iSGOYlhTspTqouk/LdJq1KlCnJycpCenl7iY5KTkw3aV6tWrTBmzBi0a9eu2H2SJGHVqlX48MMP0bZtWzRs2BAzZ85EYmKifIT66tWrOHjwIKZPnw5fX1+8/PLLmDx5Mnbs2IF79+4BALZu3Yr8/HyEhYXhxRdfRJcuXTBgwAAsX75c3teqVavQsmVLvPfee6hXrx4++eQTvPTSS/jpp58MmpexpKSkYPHixWjcuDG6dOli0lrKU9FzR0/GnMQwJ/2YkRjmJIY5iWFOymNw8+zu7o6MjAydpQ/16tUDABw9elRnbFxcHLKzs2FnZ2fo7h7rzp07SEpKQosWLeTbHB0d4evri1OnTgEATp06hSpVqsDHx0ce06JFC1hYWODMmTMAgNOnT+Pll1/WuYZ8YGAgrl+/jrS0NHlMQECAzv4DAwPlL0uayvz585GZmflMHXUmIiIiMgXhU9Vt3rwZlSpVQqdOnQAAXl5eOHfuHM6ePYvmzZsDeHiE+Pjx44iIiIC7uzsaNWqECxcuIDQ0FCqVCv7+/kafQFJSEgDAxcVF53YXFxf5SHdycjKcnZ117reysoKTk5P8+OTkZNSsWVNnTNH15JOTk+Hk5ITk5ORi15h/dD/GlJeXh/j4eNjb28PBwUHnnaenpydSU1ORk5ODjIwMREZG4oUXXkCLFi0QHx8PKysrVK9eHYmJiSgoKJDrLCgokN8I2NrawtnZGfHx8fJ2//uGyNHREba2tnJGFhYW8PDwQHJyMvLy8gAA1apVAwDcv38fAGBjYwNXV1ckJCTIV0Vyc3NDTk6O/I1hfXMCACcnJ1hZWSElJQUASpxTQUEBMjMzK9ScyuJ50mg0yM7OrlBzKovnSaPRID4+vkLNydjPk1arRVpaWoWaU1k8TxqNBvn5+RVqTmXxPBX9zVWkOZXF85SVlSU/rqLMqayep3IjCWrQoIEUGBgo/753716pQYMG0pdffinflpGRIb3++utSgwYNpIYNG8o/DRo0kLy8vKTTp0+L7u6x1Gq1FBMTI//+999/S2q1Wrp3757OuI8//lgaPXq0JEmStHDhQql9+/bFttW8eXMpKipKkiRJGjx4sPT555/r3H/58mVJrVZLV65ckSRJkry8vKRt27bpjPnpp5+kgICAUs+rSFBQkKRWq6WgoCCh8bNnz5YASEuWLDFaDURERERUsqdatiE9ciaNVq1aYdWqVQgODpZvs7e3x8qVK+Hn5wdJkuQfT09PfPfdd/D19TVa01+k6Mo7Re+WiqSkpMhHiV1dXZGamqpzf9G7p6LHu7q6FjuCXPT7o9v575hH91PecnNzMWfOHHh6emLgwIEmqcGU/vucUsmYkxjmpB8zEsOcxDAnMcxJeQy+wqCVlRVeffXVYrfXrVsXa9asQUJCAu7evQtHR0fUq1evzNbi1qxZE25ubjh8+DAaNWoE4OGZM/755x+8/fbbAB6e7SM9PR2xsbHw9vYGABw5cgRarRaNGzcGAPj5+WHevHnIz8+Xr+Rz6NAhPP/883BycpLHHDlyBO+++668/0OHDsHPz69M5qbPypUrcffuXcyZMweVKlUySQ2mVPRxEz0ZcxLDnPRjRmKYkxjmJIY5KY/BXxjUx8PDA/7+/qhfv36pG+fMzEycP39ePrf0nTt3cP78ecTHx0OlUmHgwIFYuHAh9u3bh4sXL2L8+PGoXr062rZtC+DhFxlbtmyJzz//HGfOnMHff/+Nr776Cl26dIG7uzsAoFu3brC2tsb//vc/XL58GTt37sSqVaswePBguY6BAwfi4MGD+PHHH3H16lXMnz8fsbGx6N+/f6nmZ4iCggJERETA2dkZw4YNK/f9ExERET2LDD7yXJ5iY2N1liWEh4cDAIKCgjBjxgy8//77yM7OxhdffIH09HQ0bdoUS5cu1TkaO3v2bHz11VcYNGgQLCws0L59e0yePFm+39HREcuWLcO0adMQHByMatWqYcSIEejTp488pkmTJpg9ezbmzZuHuXPnom7duliwYAHUanU5pKBr/fr1uHbtGqZMmfLMngOy6BMBejLmJIY56ceMxDAnMcxJDHNSHpUk/eeSgI/RsGFDuLq64s8//yzrmp5pwcHBiIuLg5eXFzZt2lTiGK1WC19fX1y/fh23bt0qdiaRZ0Vubu4zuVzlaTEnMcxJP2YkhjmJYU5imJPyPNWR55SUFHldsSFUKhXOnTtn8OPpoR07diA2Nhbjxo17Zhtn4OHrsVxPTWOmmJMY5qQfMxLDnMQwJzHMSXmeetmG4IFqKiOSJCEsLAw2NjYYO3asqcshIiIieqY8VfNsZ2eHIUOGlFUtJODAgQM4cuQIhg0b9sy/E7WyMosl+ybHnMQwJ/2YkRjmJIY5iWFOyvNUz0jlypUxatSosqqFBISHh8PCwgLjx483dSkmV716dVOXYBaYkxjmpB8zEsOcxDAnMcxJecrsVHVkfCdOnMCePXvQt29f1KtXz9TlmFxiYqKpSzALzEkMc9KPGYlhTmKYkxjmpDxsns1I0Sn6Jk6caOJKlKGgoMDUJZgF5iSGOenHjMQwJzHMSQxzUh42z2bi/PnziI6ORrdu3eDj42PqcoiIiIieSWyezURERAQkScKkSZNMXYpiuLi4mLoEs8CcxDAn/ZiRGOYkhjmJYU7Kw+bZDNy8eRNRUVF44403EBAQYOpyFIMfZYlhTmKYk37MSAxzEsOcxDAn5RFuni9cuMCrC5rI7NmzUVBQgNDQUFOXoihpaWmmLsEsMCcxzEk/ZiSGOYlhTmKYk/LwyLPC3bt3D0uXLkXTpk3Rtm1bU5dDRERE9Exj86xw3377LXJychAaGgqVSmXqchTF1tbW1CWYBeYkhjnpx4zEMCcxzEkMc1IelcTrbStKcHAw4uLi4OXlheXLl6N27drw9PREXFwcLCz4XoeIiIjIlNiNKdj333+P9PR0TJw4kY1zCeLj401dgllgTmKYk37MSAxzEsOcxDAn5WFHplBarRbffPMNateujXfeecfU5RARERERACtTF0AlS05ORlJSEubPnw9ra2tTl0NERERE4JpnxSla81y5cmXEx8fjxo0bsLOzM3VZilRYWAhLS0tTl6F4zEkMc9KPGYlhTmKYkxjmpDxctqFQtWrVwrfffsvG+QkyMjJMXYJZYE5imJN+zEgMcxLDnMQwJ+Vh86xQ169fR/fu3U1dhqJlZmaaugSzwJzEMCf9mJEY5iSGOYlhTsrD5lmh0tPT0b17d2RnZ5u6FCIiIiL6/9g8K1hMTAwb6CdwdHQ0dQlmgTmJYU76MSMxzEkMcxLDnJSHzbPCxcTEICwsDFlZWaYuRXF41SUxzEkMc9KPGYlhTmKYkxjmpDxsnhWuXbt2CA0NReXKlU1diuIkJSWZugSzwJzEMCf9mJEY5iSGOYlhTsrD5lnB2rVrhy1btvCMG0REREQKweZZoapUqcLGWQ9eslwMcxLDnPRjRmKYkxjmJIY5KQ+fEYWqV68eG2c9PDw8TF2CWWBOYpiTfsxIDHMSw5zEMCflYfOsUHynqV9ycrKpSzALzEkMc9KPGYlhTmKYkxjmpDzs0Mhs5eXlmboEs8CcxDAn/ZiRGOYkhjmJYU7Kw+aZiIiIiEhQhWie58+fjwYNGuj8dOzYUb4/NzcXU6dORbNmzeDv74+PPvqo2Mcg8fHxGDZsGHx9fREQEICIiAgUFBTojDl69CiCgoLg7e2Ndu3aYdOmTeUyPypZtWrVTF2CWWBOYpiTfsxIDHMSw5zEMCflsTJ1Acby4osvYvny5fLvlpaW8n+HhYXhwIEDmDdvHhwdHfHVV19h1KhRWLNmDQCgsLAQw4cPh6urK9asWYPExERMmDAB1tbWGDt2LADg9u3bGD58OPr27YvZs2fj8OHDmDx5Mtzc3NCyZcvynSwRERERmUSFOPIMPGyW3dzc5B9nZ2cAgEajwcaNGzFx4kQEBATA29sbYWFhOHXqFE6fPg0A+PPPP3HlyhXMmjULjRo1QqtWrTB69GhERUXJa43WrFmDmjVrYuLEiahXrx769++PDh06YMWKFSaaMd2/f9/UJZgF5iSGOenHjMQwJzHMSQxzUp4K0zzfvHkTgYGBePPNNzFu3DjEx8cDAGJjY5Gfn48WLVrIY+vVqwdPT0+5eT59+jTUajVcXV3lMYGBgcjIyMCVK1fkMQEBATr7DAwMlLdBRERERBVfhVi20bhxY4SHh+P5559HUlISFixYgH79+mHbtm1ITk6GtbU1qlSpovMYFxcX+ZKXycnJOo0zAPl3fWMyMjKQk5Nj9GvP5+XlIT4+Hvb29nBwcMC9e/fk+zw9PZGamoqcnBwAgJOTE6ysrJCSkgIAsLKyQvXq1ZGYmCiv23ZxcUFBQQHS0tIAALa2tnB2dpbfZACAu7s7MjIykJmZCQBwdHSEra2tnIGFhQU8PDyQnJwsH5EvWotV9M7YxsYGrq6uSEhIgFarBQC4ubkhJycHGo0GAIw2JwsLC2RmZlaoOZXF85SVlYXs7OwKNaeyeJ6ysrIQHx9foeZk7OfJysoKaWlpFWpOZfE8ZWVlIT8/v0LNqSyep6K/uYo0p7J4nor6gYo0p7J6nsqLSpIkqdz2Vk7S09PRunVrTJw4Eba2tpg0aRJiY2N1xvTs2RPNmjXDZ599hs8//xzx8fFYtmyZfH92djb8/PywZMkStGrVCh06dEBwcDCGDx8ujzlw4ACGDRuGf/75x2jNc3BwMOLi4uDl5cUvJBIREREpTIVZtvGoKlWqoG7durh16xZcXV2Rn5+P9PR0nTEpKSlwc3MD8PAI8n/PvlH0u74xDg4ORj/qTGISEhJMXYJZYE5imJN+zEgMcxLDnMQwJ+WpkM1zZmYmbt++DTc3N3h7e8Pa2hqHDx+W77927Rri4+Ph5+cHAPDz88OlS5fkjysA4NChQ3BwcED9+vXlMUeOHNHZz6FDh+RtUPkr+jiHnow5iWFO+jEjMcxJDHMSw5yUp0I0zxERETh27Bju3LmDkydPYtSoUbCwsEDXrl3h6OiIkJAQzJgxA0eOHEFsbCxCQ0Ph7+8vN76BgYGoX78+xo8fjwsXLuDgwYOYN28e+vXrBxsbGwBA3759cfv2bcycORNXr15FVFQUdu3ahXfffdd0EyciIiKiclUh1jyPGTMGx48fx4MHD+Ds7IymTZtizJgxqF27NoCHF0mZMWMGduzYgby8PAQGBuLLL7+Ul2QAwL///ospU6bg2LFjsLOzQ1BQEMaNGwcrq//7TuXRo0cRHh6OK1euwMPDAyNGjEBwcLBR58I1z+Ly8/NhbW1t6jIUjzmJYU76MSMxzEkMcxLDnJSnQjTPFQmbZ3EajQaOjo6mLkPxmJMY5qQfMxLDnMQwJzHMSXkqxLINejYVnbKGnow5iWFO+jEjMcxJDHMSw5yUh80zEREREZEgNs9ktuzt7U1dgllgTmKYk37MSAxzEsOcxDAn5WHzTGbLwcHB1CWYBeYkhjnpx4zEMCcxzEkMc1IeNs9kth69LCc9HnMSw5z0Y0ZimJMY5iSGOSkPm2ciIiIiIkFsnomIiIiIBLF5JrPl6elp6hLMAnMSw5z0Y0ZimJMY5iSGOSkPm2cyW6mpqaYuwSwwJzHMST9mJIY5iWFOYpiT8rB5JrOVk5Nj6hLMAnMSw5z0Y0ZimJMY5iSGOSkPm2ciIiIiIkFsnslsOTk5mboEs8CcxDAn/ZiRGOYkhjmJYU7Kw+aZzJaVlZWpSzALzEkMc9KPGYlhTmKYkxjmpDxsnslspaSkmLoEs8CcxDAn/ZiRGOYkhjmJYU7Kw+aZiIiIiEgQm2cyW/woSwxzEsOc9GNGYpiTGOYkhjkpD5tnMlvVq1c3dQlmgTmJYU76MSMxzEkMcxLDnJSHzTOZrcTERFOXYBaYkxjmpB8zEsOcxDAnMcxJedg8k9kqKCgwdQlmgTmJYU76MSMxzEkMcxLDnJSHzTMRERERkSA2z2S2XFxcTF2CWWBOYpiTfsxIDHMSw5zEMCflYfNMZosfZYlhTmKYk37MSAxzEsOcxDAn5WHzTGYrLS3N1CWYBeYkhjnpx4zEMCcxzEkMc1IeNs9ERERERILYPJPZsrW1NXUJZoE5iWFO+jEjMcxJDHMSw5yUh80zmS1nZ2dTl2AWmJMY5qQfMxLDnMQwJzHMSXnYPJPZio+PN3UJZoE5iWFO+jEjMcxJDHMSw5yUh80zEREREZEgNs9ERERERILYPBsoKioKbdq0gY+PD3r16oUzZ86YuqRnjru7u6lLMAvMSQxz0o8ZiWFOYpiTGOakPGyeDbBz506Eh4dj5MiRiI6ORsOGDTF06FCkpKSYurRnSkZGhqlLMAvMSQxz0o8ZiWFOYpiTGOakPGyeDbB8+XL07t0bISEhqF+/PqZOnQpbW1ts3LjR1KU9UzIzM01dgllgTmKYk37MSAxzEsOcxDAn5bEydQHmJi8vD3FxcRg+fLh8m4WFBVq0aIFTp06Vevt37twBAFy9ehXBwcGl3l5FlpeXBxsbG1OXoXjMSQxz0o8ZiWFOYpiTGOYk7vnnn8ecOXPKfD9snp/S/fv3UVhYCBcXF53bXVxccO3atVJvPzc3FwCQk5ODuLi4Um+PiIiIiIyHzbPCODs7IzU1FZUqVULNmjVNXQ4RERGRWXj++efLZT9snp9StWrVYGlpWezLgSkpKXB1dS319n///fdSb4OIiIiIyga/MPiUbGxs4OXlhcOHD8u3abVaHD58GP7+/iasjIiIiIjKGo88G2Dw4MGYMGECvL290bhxY6xcuRLZ2dn8gh8RERFRBcfm2QCdO3dGamoqIiMjkZSUhEaNGmHp0qVGWbZBRERERMqlkiRJMnURRERERETmgGueiYiIiIgEsXkmIiIiIhLE5pmIiIiISBCbZyIiIiIiQWyeiYiIiIgEsXkmIiIiIhLE5pmIiIiISBCbZyIiIiIiQWyeiYiIiIgEsXkmIiIiIhLE5pmIiIiISBCbZyIiIiIiQWyejWzx4sUICQmBv78/AgICMGLECFy7dk1nTG5uLqZOnYpmzZrB398fH330EZKTk+X7L1y4gLFjx6JVq1Zo3LgxOnXqhJUrV+ps4+jRo2jQoEGxn6SkpHKZZ2mVV04AkJeXh2+++QatW7eGt7c32rRpgw0bNpT5HI2hvHKaOHFiia+nLl26lMs8S6s8X09bt27FW2+9BV9fXwQGBmLSpEm4f/9+mc/RGMozp6ioKHTq1AmNGzdGhw4dsHnz5rKentEYI6f79+9j6NChCAwMhLe3N1q1aoVp06YhIyNDZztHjx5FUFAQvL290a5dO2zatKlc5mgM5ZVTYmIixo0bhw4dOqBhw4b4+uuvy22OxlBeOe3ZsweDBw9G8+bN0aRJE/Tp0wcHDx4st3mWVnnldOLECfTt2xfNmjVD48aN0bFjR6xYseLpipXIqIYMGSJt3LhRunTpknT+/Hnp/fffl9544w0pMzNTHvPFF19IrVq1kg4dOiSdPXtW6t27t9SnTx/5/vXr10tfffWVdPToUenWrVvS5s2bpcaNG0urV6+Wxxw5ckRSq9XStWvXpMTERPmnsLCwXOdrqPLKSZIk6YMPPpB69eol/fXXX9Lt27elkydPSidOnCi3uZZGeeWUnp6u8zq6e/eu9Oqrr0qRkZHlOl9DlVdOJ06ckBo2bCitXLlSunXrlnT8+HGpS5cu0siRI8t1voYqr5yioqIkf39/aceOHdKtW7ek7du3S35+ftK+ffvKdb6GMkZODx48kKKioqQzZ85Id+7ckQ4dOiR16NBBGjt2rDzm1q1bkq+vrxQeHi5duXJFWr16tdSoUSPpjz/+KNf5Gqq8crp9+7b01VdfSdHR0VL37t2l6dOnl+s8S6u8cpo+fbq0ZMkS6Z9//pGuX78uzZkzR/Ly8pLi4uLKdb6GKq+c4uLipG3btkmXLl2Sbt++LW3evFny9fWV1qxZI1wrm+cylpKSIqnVaunYsWOSJD1sUry8vKRdu3bJY65cuSKp1Wrp1KlTj93OlClTpAEDBsi/FzXPaWlpZVZ7eSqrnA4cOCA1bdpUun//flmVXq7KKqf/iomJkRo0aCDduXPHaLWXp7LKaenSpdKbb76pM2bVqlVSy5YtjTuBclJWOfXp00eaMWOGzpjw8HCpb9++xp1AOTFWTitXrpRef/11+feZM2dKXbp00RnzySefSEOGDDHuBMpJWeX0qP79+5td8/xf5ZFTkc6dO0vz5883St3lrTxzGjlypPTpp58K18ZlG2VMo9EAAJycnAAAsbGxyM/PR4sWLeQx9erVg6enJ06fPv3E7VStWrXY7T169EBgYCAGDx6Mv//+26i1l6eyyum3336Dt7c3li5dipYtW6JDhw6IiIhATk5OmcyjrJX166nIhg0b0KJFCzz33HNGqbu8lVVOfn5+SEhIwIEDByBJEpKTk/Hrr7+iVatWZTKPslZWOeXl5aFSpUo6YypVqoSzZ88iPz/feBMoJ8bI6d69e4iJicErr7wi33b69GkEBATojAsMDHxi1kpWVjlVNOWVk1arRWZm5hP/rVey8srp3LlzOHXqFF599VXh2tg8lyGtVouwsDA0adIEarUaAJCcnAxra2tUqVJFZ6yLi8tj1yufPHkSu3btQu/eveXb3NzcMHXqVERGRiIyMhIeHh4YOHAg4uLiym5CZaQsc7p9+zb+/vtvXL58GQsWLEBoaCh+/fVXTJ06tewmVEbKMqdH3bt3D3/88Qd69uxp3AmUk7LMqWnTppg1axY++eQTeHt747XXXoODgwO++OKLsptQGSnLnAIDA7FhwwbExsZCkiScPXsWGzZsQH5+vtmsDy9S2pzGjh0LX19fvP7667C3t9dZr5ucnAxXV1ed8a6ursjIyDC7N/hlmVNFUp45LVu2DFlZWejUqZPxJ1LGyiOn119/Hd7e3ggJCcE777yDXr16CdfH5rkMTZ06FZcvX8Y333xj8DYuXbqEESNGYOTIkQgMDJRvf+GFF9C3b194e3ujSZMmCA8Ph7+//9MveleAssxJkiSoVCrMnj0bjRs3RqtWrTBx4kRER0eb3f+cyjKnR23evBmOjo5o27atwfsxpbLM6cqVK/j6668xcuRIbNy4EUuXLsW///6LL7/80hill6uyzGnEiBFo2bIl+vTpAy8vL4wYMQI9evQAAFhYmNf/dkqb06RJk7Bp0yZ8//33uH37NsLDw41coTIwJzHlldO2bduwYMECzJs3Dy4uLqUp2STKI6eoqChs3LgRU6dOxapVq7B9+3bh7VsZVBXpNW3aNOzfvx8//fQTPDw85NtdXV2Rn5+P9PR0nXdPKSkpcHNz09nGlStX8O6776JPnz4YMWKE3n36+Pjg5MmTxptEOSjrnNzc3ODu7g5HR0f5tnr16kGSJCQkJKBu3bplMzEjK6/XkyRJ2LhxI7p37w4bG5uymUwZKuucFi9ejCZNmuC9994DADRs2BB2dnbo168fPvnkE1SvXr0MZ2c8ZZ2Tra0twsPDMW3aNPmxa9euhb29PZydnct2ckZkjJzc3Nzg5uaGevXqwcnJCf369cOIESNQvXp1uLq66pwpAHh4dM3BwQG2trZlOzkjKuucKoryymnHjh2YPHkyvv32W50lDuaivHKqVasWAKBBgwZITk7G/Pnz0bVrV6EazesQgBmQJAnTpk1DTEwMVq5cKT85Rby9vWFtbY3Dhw/Lt127dg3x8fHw8/OTb7t8+TIGDhyIHj16YMyYMUL7vnDhQrEXkFKVV05NmjRBYmIiMjMz5duuX78OCwsLnT9KpSrv19OxY8dw8+ZNs1uyUV455eTkFDtyamlpKdegdOX9erK2toaHhwcsLS2xc+dOtG7d2iyOPBsrp5K2CzxcEw48XEN/5MgRnTGHDh164jaUpLxyMnflmdP27dsxadIkzJkzB2+88YZR51HWTPl60mq1T/V9DB55NrKpU6di+/bt+P7772Fvby+vw3F0dIStrS0cHR0REhKCGTNmwMnJCQ4ODpg+fTr8/f3lJ//SpUsYNGiQ/EXAom1YWlrKR21WrFiBmjVr4sUXX0Rubi7Wr1+PI0eO4McffzTJvJ9WeeXUtWtXfP/995g0aRI+/vhj3L9/H7NmzUJISIhZHNkpr5yKbNiwAb6+vvIaM3NRXjm1bt0an3/+OX7++We0bNkSiYmJCAsLQ+PGjeHu7m6SuT+N8srp+vXrOHPmDHx9fZGeno7ly5fj8uXLmDFjhknm/bSMkdOBAweQnJwMHx8fVK5cGVeuXMHMmTPRpEkT1KxZEwDQt29fREVFYebMmQgJCcGRI0ewa9cuLF682FRTfyrllRMAnD9/HgCQmZmJ1NRUnD9/HtbW1qhfv365z/tplVdO27Ztw8SJExEaGgpfX195P0X7ULryyikqKgo1atTACy+8AAA4fvw4fvzxRwwYMEC4VpVkDodLzEiDBg1KvD08PBzBwcEAHp7ke8aMGdixYwfy8vIQGBiIL7/8Uj5qPH/+fHz33XfFtvHcc8/ht99+AwD88MMPWLduHe7duwc7Ozuo1WqMHDkSzZs3L6OZGVd55QQAV69exfTp03Hy5ElUrVoVnTp1wieffGIWzXN55qTRaBAYGIj//e9/j/0yoVKVZ06rV6/GmjVrcOfOHTg6OqJ58+b47LPPzKJ5Lq+crl69inHjxuH69euwsrJCs2bN8Omnn8r/s1I6Y+R05MgRzJs3D1euXEFeXh5q1KiBdu3aYdiwYTofOR89ehTh4eG4cuUKPDw8MGLECHkfSleeOZW0r//+bSpVeeU0YMAAHDt2rNh+goKCzOKNa3nltHr1aqxduxZ37tyBpaUlateujV69eqFv377Cn4yxeSYiIiIiEqT8xWdERERERArB5pmIiIiISBCbZyIiIiIiQWyeiYiIiIgEsXkmIiIiIhLE5pmIiIiISBCbZyIiIiIiQWyeiYiIiIgEsXkmIiIiIhLE5pmIyMxJkoTBgwejQYMGePPNN5GZman3MaNHj0aDBg3w2muvITU1tRyqJCKqGNg8ExGZOZVKhbCwMDg6OuLOnTuIiIh44vjt27dj9+7dAIDp06fD2dm5PMokIqoQ2DwTEVUANWrUwOTJkwEAa9euxYEDB0ocl5iYiK+++goAEBISgtatW5dbjUREFYFKkiTJ1EUQEZFxjBo1CjExMahevTq2b98OJycnnfuHDx+O/fv347nnnsPWrVvh4OBgokqJiMwTm2ciogokNTUVXbp0QWpqKrp27Yo5c+bI961fvx6TJ0+GSqXCypUr0axZMwDApUuXsHr1ahw9ehT37t2DhYUFatasiTZt2mDQoEElLuvIz8/HH3/8gf379yMuLg6JiYl48OABHB0d8dJLLyEoKAhdunSBSqUq9tijR49i4MCBAICLFy/i3LlzWLZsGY4fP46UlBQ0adIEq1evLqOEiIhKh80zEVEFs3fvXowcORIAMG/ePHTq1An//vsv3nrrLWRkZGDQoEEIDQ0FAPzwww+YO3cutFotAMDOzg4FBQXIz88HALi5uWHJkiV46aWXdPbxaAMMAA4ODpAkSefLih07dsQ333wDCwuLxz42MjIS48aNQ35+PhwcHJCfnw9fX182z0SkWGyeiYgqoIkTJyI6OhpVq1bFtm3b8Nlnn+HIkSOoV68eoqOjUalSJflIdOXKlTF8+HCEhITAzc0NhYWFOH/+PGbNmoUjR47Aw8MDO3fuhL29vbz9M2fOYMOGDejYsSMaN24sL/948OABtm7dim+//RYZGRn43//+p9NkA7rNc+XKlfHKK69gwoQJqFevHgDgxo0bqFu3bvkERUT0lNg8ExFVQBqNBt26dcPdu3fh4eGBhIQEWFlZYc2aNfDx8UFGRgZat26N9PR0LF26FC1btiy2jYKCAvTu3RtxcXGYNGkS3n33XeH97969G6NHj0bt2rURExOjc9+jzXPjxo2xZs0aWFpalmq+RETlhWfbICKqgBwdHREeHg6VSoWEhAQAD78s6OPjAwDYs2cP0tPT8dJLL5XYOAOAlZUVunbtCgD4888/n2r/b7zxBgDg1q1bSEpKeuy4oUOHsnEmIrNiZeoCiIiobAQEBODNN9/E3r174ezsjBEjRsj3nTx5EgBw9epVvPbaa4/dRk5ODgAgPj6+2H0ZGRlYs2YN9u/fj6tXr0Kj0chrpR+VkJAANze3ErffpEmTp5oTEZGpsXkmIqrAHB0dATz8IqCV1f/9k5+YmAgAyM3NRW5urt7tFDXRRa5fv453331XPqpdtA9HR0f5C4LJyckAgOzs7Mdu18XFRXAmRETKwOaZiOgZVFhYCADo3Lkzvvnmm6d+/KRJk5CQkIDnnnsO48ePR/PmzVG1alWd7RedoeNJX63hkg0iMjdsnomInkFFyyhKWo6hz927d3Hq1CkAwNy5c+Hn51dsTNFRZyKiioZfGCQiegYVrTUuusDJ07h796783/89/3ORQ4cOGV4cEZGCsXkmInoGdezYEVWqVEF+fj5mzJjxxKUVWq0W6enp8u9F66gB4MKFC8XGZ2RkYOHChcYtmIhIIdg8ExE9g6pUqSJfZXDHjh0YNmwY/vnnH/lKg1qtFlevXsWPP/6ILl264Pfff5cfW69ePXh6egIAQkNDERsbK9936tQpDBw4EGlpaeU4GyKi8sM1z0REz6igoCDk5OTg66+/xh9//IE//vgDNjY2/6+9O7RRIIrCMPoPjgkWiaEDHAYBDo2iABw1UAaZAphWRtIAlg4Iwa7YZBPcXbHZbPYc9cwTz33i5d60bZvn8/k2dq5pmq/zaDTK6XTK8XjM7XbLbrfLeDxO8jlZo23bnM/nby1VAfgrxDPAP7bf77NardL3fYZhyP1+z+PxyGQyyWw2y2KxyGazyXK5fLu3Xq9zuVzSdV2u12ter1em02m2220Oh0Pm8/kvvQjgZ1nPDQAARf48AwBAkXgGAIAi8QwAAEXiGQAAisQzAAAUiWcAACgSzwAAUCSeAQCgSDwDAECReAYAgCLxDAAAReIZAACKxDMAABR9AKJFIcIzlIlyAAAAAElFTkSuQmCC",
      "text/plain": [
       "<Figure size 765x450 with 1 Axes>"
      ]
     },
     "metadata": {},
     "output_type": "display_data"
    }
   ],
   "source": [
    "sns.set_theme(style=\"white\", context=\"talk\")\n",
    "\n",
    "# Line with diamond markers\n",
    "g = sns.relplot(\n",
    "    data=df, kind=\"line\",\n",
    "    x=\"Year\", y=\"Taxable Income\",\n",
    "    linewidth=1.2, color=\"black\",\n",
    "    marker=\"D\",                 # diamond marker\n",
    "    markersize=5,               # smaller, subtle size\n",
    "    height=4.5, aspect=1.7\n",
    ")\n",
    "\n",
    "# Refine axes\n",
    "ax = g.ax\n",
    "ax.set_xlim(df[\"Year\"].min(), df[\"Year\"].max()+1)\n",
    "ax.set_ylim(0, df[\"Taxable Income\"].max() * 1.1)\n",
    "\n",
    "ax.set_xlabel(\"Year\")\n",
    "ax.set_ylabel(\"Taxable Income\")\n",
    "ax.set_title(\"Projected Taxable Income\", fontsize=13, weight=\"medium\", pad=15)\n",
    "\n",
    "# Subtle grid + ticks\n",
    "ax.grid(True, which=\"major\", linestyle=\"--\", linewidth=0.6, alpha=0.6)\n",
    "ax.tick_params(axis=\"both\", which=\"major\", labelsize=10, direction=\"out\")\n",
    "\n",
    "plt.show()"
   ]
  }
 ],
 "metadata": {
  "colab": {
   "private_outputs": true,
   "provenance": []
  },
  "kernelspec": {
   "display_name": "Python 3 (ipykernel)",
   "language": "python",
   "name": "python3"
  },
  "language_info": {
   "codemirror_mode": {
    "name": "ipython",
    "version": 3
   },
   "file_extension": ".py",
   "mimetype": "text/x-python",
   "name": "python",
   "nbconvert_exporter": "python",
   "pygments_lexer": "ipython3",
   "version": "3.10.6"
  }
 },
 "nbformat": 4,
 "nbformat_minor": 4
}
