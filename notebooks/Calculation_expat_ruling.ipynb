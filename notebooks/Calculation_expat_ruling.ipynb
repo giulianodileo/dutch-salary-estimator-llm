{
<<<<<<< HEAD
 "cells": [
  {
   "cell_type": "markdown",
   "metadata": {
    "id": "TXmXdHN9YqOQ"
   },
   "source": [
    "# 1. Calculation methodology"
   ]
=======
  "cells": [
    {
      "cell_type": "markdown",
      "metadata": {
        "id": "TXmXdHN9YqOQ"
      },
      "source": [
        "# 1. Calculation methodology"
      ]
    },
    {
      "cell_type": "markdown",
      "metadata": {
        "id": "jmdgyGQXY3yY"
      },
      "source": [
        "## Salary brackets\n",
        "From 2024: For newcomers who became eligible from 1 January 2024 onward, the tax-exempt benefit now follows a laddered structure over the five-year period:\n",
        "\n",
        "**30% tax-free for the first 20 months**\n",
        "**20% tax-free for the next 20 months**\n",
        "**10% tax-free for the final 20 months**\n",
        "\n",
        "Applicants with a ruling in place before 2024 are grandfathered, meaning they continue to enjoy the full 30% tax-free allowance for up to five years under the old rules.But a reversal is already underway. Following widespread criticism, the government decided to reverse the 30-20-10 structure:\n",
        "\n",
        "From 1 January 2025 through 31 December 2026, all eligible expats (including new ones) will receive a **flat 30% tax-free allowance**, without scaling. Then, starting 1 January 2027, the allowance will be permanently **adjusted to a flat 27%**, with updated salary thresholds.\n",
        "\n",
        "The 2025 Tax Plan, including the amendments, still requires approval from the Dutch Parliament. Should the proposals be adopted, these changes may have implications for certain employees."
      ]
    },
    {
      "cell_type": "markdown",
      "metadata": {
        "id": "kwPBL0-uaAmT"
      },
      "source": [
        "## Maximum allowable salary for 30% ruling\n",
        "\n",
        "30% facility applies to amounts up to €233,000\n",
        "The tax-free allowance applies to salary amounts of up to €233,000 a year (amount for 2024).\n",
        "\n",
        "https://www.belastingdienst.nl/wps/wcm/connect/en/individuals/content/coming-to-work-in-the-netherlands-30-percent-facility\n"
      ]
    },
    {
      "cell_type": "markdown",
      "metadata": {
        "id": "I_kNzudfbMbN"
      },
      "source": [
        "## Expertise Requirements\n",
        "\n",
        "To qualify for the 30%-ruling, an incoming employee must possess specific expertise that is either not available or scarcely available in the Dutch labor market. This expertise requirement is primarily determined based on a salary norm.\n",
        "\n",
        "Your specific expertise is hardly found on the labour market in the Netherlands. You have a specific expertise if your annual salary, not including the tax-free allowance in the Netherlands, is more than the annual salary in the table.\n",
        "\n",
        "Table: specific expertise\n",
        "Year\tYour annual salary is more than\n",
        "**2025\t€46,660**\n",
        "2024\t€46,107\n",
        "2023\t€41,954\n",
        "\n",
        "You are younger than 30, and you have a Dutch academic master's degree\n",
        "Or you have obtained an equivalent title in another country. You have a specific expertise if your annual salary, not including the tax-free allowance in the Netherlands, is more than the annual salary in the table.\n",
        "Table: specific expertise for people younger than 30\n",
        "Year\tYour annual salary is more than\n",
        "**2025\t€35,468**\n",
        "2024\t€35,048\n",
        "2023\t€31,891\n",
        "\n",
        "https://www.belastingdienst.nl/wps/wcm/connect/en/individuals/content/coming-to-work-in-the-netherlands-30-percent-facility\n",
        "\n",
        "\n"
      ]
    },
    {
      "cell_type": "markdown",
      "metadata": {
        "id": "SR3LY9Lre65q"
      },
      "source": [
        "# 2.Data Schema"
      ]
    },
    {
      "cell_type": "markdown",
      "metadata": {
        "id": "9gHsH1d2fGYN"
      },
      "source": [
        "### Data Inputs\n",
        "\n",
        "Age: integer  \n",
        "Base_salary: Gross, expected to earn once relocated  \n",
        "Duration_years: Expected to remain in the Netherlands, if omitted  assumed 10 years  \n",
        "Start_Date: Date when expected to start the job\n",
        "Expertise: Boolean (if posseses specific expertise not available)  \n",
        "Master_dpl: Boolean (if possesses Dutch academic master degree)\n",
        "\n",
        "### Parameters\n",
        "Salary_cap: Maximum salary on which 30% ruling is applied  \n",
        "Salary_req_young: Salary requirements young professional\n",
        "Salary_expert: Salary for employee with specific expertise\n",
        "\n",
        "### Function\n",
        "\n",
        "Function will consume data inputs and parameters and will return a  \n",
        "dictionary of values for each subsequential year employee will work in  \n",
        "the Netherlands and the respective Gross Salary which will be taxed\n",
        "\n",
        "\n",
        "\n"
      ]
    },
    {
      "cell_type": "markdown",
      "metadata": {
        "id": "mOnzN66dfChq"
      },
      "source": [
        "\n",
        "\n",
        "---\n",
        "\n"
      ]
    },
    {
      "cell_type": "code",
      "execution_count": 12,
      "metadata": {
        "id": "270irvRFfB_P"
      },
      "outputs": [],
      "source": [
        "import pandas as pd\n",
        "import datetime\n",
        "\n",
        "from datetime import datetime, date, time, timedelta\n",
        "import matplotlib.pyplot as plt\n",
        "import seaborn as sns\n"
      ]
    },
    {
      "cell_type": "markdown",
      "metadata": {},
      "source": [
        "# 3.Code"
      ]
    },
    {
      "cell_type": "markdown",
      "metadata": {},
      "source": [
        "### Function calculating taxable income: return taxable income "
      ]
    },
    {
      "cell_type": "code",
      "execution_count": 27,
      "metadata": {
        "id": "eN5eiGnNkNXW"
      },
      "outputs": [],
      "source": [
        "def apply_ruling(base_salary: float, months_dur: int, year: int, year_seq: int):\n",
        "  # base_salary -> annual\n",
        "  # function derives gross salary net of 30% taxes\n",
        "  # months_dur -> months when 30% ruling will be applied\n",
        "  # year_seq: which year we deal with: 0 -> first, 1 -> intermeidate year, 2-> last, 3-> no 30% ruling\n",
        "\n",
        "    if year in (2025, 2026) and year_seq == 0:\n",
        "      # 30% ruling on months applied\n",
        "      gross_taxable = (base_salary - (base_salary * 0.3)) / 12 * months_dur\n",
        "    elif year in (2025, 2026) and year_seq == 1:\n",
        "      # in case 2025, 2025 not first year -> full year 30% ruling\n",
        "      gross_taxable = base_salary - (base_salary * 0.3)\n",
        "    elif year not in (2025, 2026) and year_seq == 1:\n",
        "      # in case 2026 or later and 27% ruling whole year\n",
        "      gross_taxable = base_salary - (base_salary * 0.27)\n",
        "    elif year not in (2025, 2026) and year_seq == 2:\n",
        "      # in case 2026 or later and 27% ruling part of the year\n",
        "      gross_taxable = ((base_salary - (base_salary * 0.27)) / 12 * months_dur) + (base_salary / 12 * (12 - months_dur))\n",
        "    else:\n",
        "      # no 30% ruling and year later than 2026\n",
        "      gross_taxable = base_salary\n",
        "\n",
        "    return gross_taxable"
      ]
    },
    {
      "cell_type": "markdown",
      "metadata": {},
      "source": [
        "### Function to adjust salary for high earners"
      ]
    },
    {
      "cell_type": "code",
      "execution_count": 14,
      "metadata": {},
      "outputs": [],
      "source": [
        "def adjust_highearner(my_dict, salary: int):\n",
        "# CONSUMES DICTIONARY WITH VALUES FOR HIGH EARNER, RETURNS MODIFIED DICT #\n",
        "# CALCULATES TAXABLE INCOME HIGH EARNER SALARY > 233k                    #\n",
        "##########################################################################\n",
        "\n",
        "    surplus = salary - 233000\n",
        "\n",
        "    for key in my_dict:\n",
        "        my_dict[key] = my_dict[key] + surplus\n",
        "        print(my_dict[key])\n",
        "\n",
        "    return None"
      ]
    },
    {
      "cell_type": "markdown",
      "metadata": {},
      "source": [
        "### Function calculates range of values for taxable income over many years based on user inputs"
      ]
    },
    {
      "cell_type": "code",
      "execution_count": 60,
      "metadata": {
        "id": "3b3s8Ehih9JV"
      },
      "outputs": [],
      "source": [
        "def expat_ruling_calc(age: int, salary: float, date_string: str, duration: int = 10,\n",
        "                      expertise: bool = False, master_dpl: bool = False):\n",
        "\n",
        "  # INITIATE KEY PARAMETERS\n",
        "  salary_cap = 233000\n",
        "  salary_req_young = 35468\n",
        "  salary_expert = 46660\n",
        "\n",
        "  # DETERMINE MONTHS REMAINING IN FIRST YEAR & LAST YEAR\n",
        "  # date_string = \"2024-12-25\"\n",
        "\n",
        "  start_date = datetime.strptime(date_string, \"%Y-%m-%d\")\n",
        "\n",
        "  # DETERMINE CURRENT YEAR\n",
        "  current_year = start_date.year\n",
        "\n",
        "  months_remaining_init = 12 - start_date.month + 1\n",
        "  months_remaining_final = 12 - months_remaining_init\n",
        "\n",
        "  # YEARS SEQUENCE\n",
        "  # CREATE A SEQUENCE OF YEARS EXPECTED TO BE EMPLOYED IN NL\n",
        "  # CREATE DICTIONARY TO KEEP VALUES IN\n",
        "\n",
        "  years_sequence = list(range(current_year, current_year + duration))\n",
        "  my_dict = {}\n",
        "  my_key = years_sequence\n",
        "\n",
        "  for key in my_key:\n",
        "    my_dict[key] = \"\"\n",
        "\n",
        "  # CHECK IF 30% RULING WILL APPLY\n",
        "\n",
        "  if age < 30 and expertise == True and master_dpl == True and salary >= salary_req_young:\n",
        "        Ruling_test = True\n",
        "  elif age >= 30 and expertise == True and salary >= salary_expert:\n",
        "        Ruling_test = True\n",
        "  else:\n",
        "        Ruling_test = False\n",
        "\n",
        "  # CALCULATION BASE\n",
        "  # base_salary -> salary used for calculating taxable income\n",
        "\n",
        "  base_salary = salary\n",
        "\n",
        "\n",
        "  if base_salary > salary_cap:\n",
        "        base_salary = salary_cap\n",
        "\n",
        "  keys_list = list(my_dict.keys())  # Get the tuple\n",
        "  keys = list(keys_list)  # Convert tuple to list: ['A', 'B', 'C']\n",
        "\n",
        "  # CHECKING IF THERE IS A BROKEN YEAR AND CALCULATING THESE PARTS #\n",
        "  ##################################################################\n",
        "\n",
        "  if Ruling_test == True:\n",
        "\n",
        "    year1 = apply_ruling(base_salary, months_remaining_init, int(keys_list[0]), 0)\n",
        "    my_dict[keys[0]] = year1\n",
        "\n",
        "  # if broken year ruling\n",
        "\n",
        "    if months_remaining_init == 12:\n",
        "        year5 = apply_ruling(base_salary, 12, int(keys_list[4]), 2)\n",
        "        my_dict[keys[4]] = year5\n",
        "    else:\n",
        "        year6 = apply_ruling(base_salary, months_remaining_final, int(keys_list[5]), 2)\n",
        "        my_dict[keys[5]] = year6\n",
        "\n",
        "    my_dict[keys[0]] = year1\n",
        "\n",
        "\n",
        "    # other years -not first and last years\n",
        "    # depends on full or broken year\n",
        "    if months_remaining_init == 12:\n",
        "        other_years_sequence = list(keys_list[1:5])\n",
        "    else:\n",
        "        other_years_sequence = list(keys_list[1:6])\n",
        "\n",
        "    print(other_years_sequence)\n",
        "\n",
        "    for key in other_years_sequence:\n",
        "      if key >= 2027:\n",
        "        # new 27% ruling\n",
        "        my_dict[key] = apply_ruling(base_salary, 12, int(key), 1)\n",
        "      else:\n",
        "        # apply 30% ruling\n",
        "        my_dict[key] = apply_ruling(base_salary, 12, int(key), 1)\n",
        "\n",
        "    # populating remainder of the dictionary - no ruling\n",
        "    if months_remaining_init == 12:\n",
        "        for key in keys_list[5:]:\n",
        "            my_dict[key] = float(base_salary)\n",
        "    else:\n",
        "        for key in keys_list[6:]:\n",
        "            my_dict[key] = float(base_salary)\n",
        "\n",
        " # check if the salary > 233K and adjust\n",
        "\n",
        "    res = {}\n",
        "    if salary > salary_cap:\n",
        "        res = adjust_highearner(my_dict, salary)\n",
        "        my_dict = res\n",
        "        return my_dict\n",
        "    else:\n",
        "        return my_dict\n",
        "\n",
        "  elif Ruling_test == True:\n",
        "  # ruling not applicable populate everything with gross salary\n",
        "    for key in keys_list:\n",
        "      my_dict[key] = float(base_salary)\n"
      ]
    },
    {
      "cell_type": "code",
      "execution_count": 62,
      "metadata": {},
      "outputs": [
        {
          "name": "stdout",
          "output_type": "stream",
          "text": [
            "[2026, 2027, 2028, 2029]\n"
          ]
        },
        {
          "data": {
            "text/plain": [
              "{2025: 70000.0,\n",
              " 2026: 70000.0,\n",
              " 2027: 73000.0,\n",
              " 2028: 73000.0,\n",
              " 2029: 73000.0,\n",
              " 2030: 100000.0,\n",
              " 2031: 100000.0,\n",
              " 2032: 100000.0,\n",
              " 2033: 100000.0,\n",
              " 2034: 100000.0}"
            ]
          },
          "execution_count": 62,
          "metadata": {},
          "output_type": "execute_result"
        }
      ],
      "source": [
        "my_dict = expat_ruling_calc(35, 100000, \"2025-01-01\", 10, True, True)\n",
        "my_dict"
      ]
    },
    {
      "cell_type": "markdown",
      "metadata": {},
      "source": [
        "### Functions to calculate tax and derive two deductables from tax"
      ]
    },
    {
      "cell_type": "code",
      "execution_count": 64,
      "metadata": {},
      "outputs": [],
      "source": [
        "def calc_tax(gross_salary: float) -> float:\n",
        "\n",
        "    # --- 1) Guardrail: input should be non-negative\n",
        "    if gross_salary < 0:\n",
        "        raise ValueError(\"gross_salary must be non-negative\")\n",
        "\n",
        "    # --- 2) Define the 2025 Box 1 brackets as (upper_limit, rate)\n",
        "    # Bracket 1: 0        .. 38,441  -> 35.82%\n",
        "    # Bracket 2: 38,441   .. 76,817  -> 37.48%\n",
        "    # Bracket 3: 76,817   .. +inf    -> 49.50%\n",
        "    # We implement these as cumulative upper bounds. The last one is infinity.\n",
        "    brackets: List[Tuple[float, float]] = [\n",
        "        (38_441.00, 0.3582),\n",
        "        (76_817.00, 0.3748),\n",
        "        (float(\"inf\"), 0.4950),\n",
        "    ]\n",
        "\n",
        "    # assume taxable income is gross salary\n",
        "    taxable_income = gross_salary\n",
        "\n",
        "    # Walk the brackets and accumulate tax per slice\n",
        "    tax = 0.0\n",
        "    lower_limit = 0.0\n",
        "\n",
        "    for upper_limit, rate in brackets:\n",
        "        # Income that falls inside THIS bracket:\n",
        "        #   from the current lower_limit up to the bracket's upper_limit,\n",
        "        #   but never exceeding taxable_income.\n",
        "        slice_amount = max(0.0, min(taxable_income, upper_limit) - lower_limit)\n",
        "        if slice_amount <= 0:\n",
        "            # No taxable income left for this or further brackets.\n",
        "            break\n",
        "        # Tax for this slice = slice_amount * rate\n",
        "        tax += slice_amount * rate\n",
        "        # Move the lower bound up to this bracket's upper limit\n",
        "        lower_limit = upper_limit\n",
        "        # If we've already taxed the entire taxable_income, stop early\n",
        "        if taxable_income <= upper_limit:\n",
        "            break\n",
        "\n",
        "    # Net income = full gross - tax\n",
        "    net_income = gross_salary - tax\n",
        "\n",
        "    # Return with cents precision\n",
        "    return round(tax, 2)\n"
      ]
    },
    {
      "cell_type": "code",
      "execution_count": 65,
      "metadata": {},
      "outputs": [],
      "source": [
        "def bereken_arbeidskorting(salaris):\n",
        "    \"\"\"\n",
        "    Berekent de arbeidskorting voor Nederland 2025 op basis van het brutosalaris.\n",
        "    De arbeidskorting heeft 4 fases:\n",
        "    - Fase 1 (€0 - €11.491): 0% korting\n",
        "    - Fase 2 (€11.491 - €24.821): Opbouw van 31,15%\n",
        "    - Fase 3 (€24.821 - €39.958): Plateau van €4.152\n",
        "    - Fase 4 (€39.958 - €124.934): Afbouw van 6%\n",
        "    - Boven €124.934: Geen arbeidskorting\n",
        "    Args:\n",
        "        salaris (float): Het bruto jaarsalaris in euro's\n",
        "    Returns:\n",
        "        float: De arbeidskorting in euro's\n",
        "    \"\"\"\n",
        "\n",
        "    # Grenzen en tarieven arbeidskorting 2025\n",
        "    GRENS_1 = 11491    # Ondergrens voor arbeidskorting\n",
        "    GRENS_2 = 24821    # Einde opbouwfase\n",
        "    GRENS_3 = 39958    # Einde plateau\n",
        "    GRENS_4 = 124934   # Bovengrens arbeidskorting\n",
        "\n",
        "    OPBOUW_TARIEF = 0.3115    # 31,15% opbouw in fase 2\n",
        "    MAX_KORTING = 4152        # Maximum arbeidskorting (plateau)\n",
        "    AFBOUW_TARIEF = 0.06      # 6% afbouw in fase 4\n",
        "\n",
        "    # Input validatie\n",
        "    if salaris < 0:\n",
        "        raise ValueError(\"Salaris kan niet negatief zijn\")\n",
        "\n",
        "    # Fase 1: €0 - €11.491 (geen korting)\n",
        "    if salaris <= GRENS_1:\n",
        "        return 0.0\n",
        "\n",
        "    # Fase 2: €11.491 - €24.821 (opbouw 31,15%)\n",
        "    elif salaris <= GRENS_2:\n",
        "        opbouw_bedrag = salaris - GRENS_1\n",
        "        korting = opbouw_bedrag * OPBOUW_TARIEF\n",
        "        return round(korting, 2)\n",
        "\n",
        "    # Fase 3: €24.821 - €39.958 (plateau €4.152)\n",
        "    elif salaris <= GRENS_3:\n",
        "        return MAX_KORTING\n",
        "\n",
        "    # Fase 4: €39.958 - €124.934 (afbouw 6%)\n",
        "    elif salaris <= GRENS_4:\n",
        "        afbouw_bedrag = salaris - GRENS_3\n",
        "        afbouw = afbouw_bedrag * AFBOUW_TARIEF\n",
        "        korting = MAX_KORTING - afbouw\n",
        "        return round(max(korting, 0), 2)  # Minimum 0\n",
        "\n",
        "    # Boven €124.934: geen arbeidskorting meer\n",
        "    else:\n",
        "        return 0.0\n"
      ]
    },
    {
      "cell_type": "code",
      "execution_count": 66,
      "metadata": {},
      "outputs": [],
      "source": [
        "def bereken_algemene_heffingskorting(salaris):\n",
        "    \"\"\"\n",
        "    Berekent de algemene heffingskorting voor Nederland 2025 op basis van het brutosalaris.\n",
        "    De algemene heffingskorting heeft 3 fases:\n",
        "    - Fase 1 (€0 - €24.812): Volledige korting van €3.362\n",
        "    - Fase 2 (€24.812 - €76.421): Afbouw van 6,007% per euro boven €24.812\n",
        "    - Fase 3 (boven €76.421): Geen algemene heffingskorting meer\n",
        "\n",
        "    Args:\n",
        "        salaris (float): Het bruto jaarsalaris in euro's\n",
        "    Returns:\n",
        "        float: De algemene heffingskorting in euro's\n",
        "    \"\"\"\n",
        "\n",
        "    # Grenzen en tarieven algemene heffingskorting 2025\n",
        "    MAXIMUM_KORTING = 3362      # Maximum algemene heffingskorting\n",
        "    AFBOUW_ONDERGRENS = 24812   # Vanaf dit bedrag begint afbouw\n",
        "    AFBOUW_BOVENGRENS = 76421   # Boven dit bedrag is er geen korting meer\n",
        "    AFBOUW_TARIEF = 0.06007     # 6,007% afbouw per euro boven de ondergrens\n",
        "\n",
        "    # Input validatie\n",
        "    if salaris < 0:\n",
        "        raise ValueError(\"Salaris kan niet negatief zijn\")\n",
        "\n",
        "    # Fase 1: €0 - €24.812 (volledige korting)\n",
        "    if salaris <= AFBOUW_ONDERGRENS:\n",
        "        return MAXIMUM_KORTING\n",
        "\n",
        "    # Fase 2: €24.812 - €76.421 (afbouw 6,007%)\n",
        "    elif salaris <= AFBOUW_BOVENGRENS:\n",
        "        afbouw_bedrag = salaris - AFBOUW_ONDERGRENS\n",
        "        afbouw = afbouw_bedrag * AFBOUW_TARIEF\n",
        "        korting = MAXIMUM_KORTING - afbouw\n",
        "        return round(max(korting, 0), 2)  # Minimum 0\n",
        "\n",
        "    # Fase 3: Boven €76.421 (geen korting meer)\n",
        "    else:\n",
        "        return 0.0\n"
      ]
    },
    {
      "cell_type": "markdown",
      "metadata": {},
      "source": [
        "### Addition of the fixed costs to the analysis"
      ]
    },
    {
      "cell_type": "code",
      "execution_count": 67,
      "metadata": {},
      "outputs": [],
      "source": [
        "fixed_costs = {\n",
        "    \"housing\": 1200,\n",
        "    \"utilities\": 300,\n",
        "    \"groceries\": 400,\n",
        "    \"transportation\": 150,\n",
        "    \"health_insurance\": 157,\n",
        "}"
      ]
    },
    {
      "cell_type": "code",
      "execution_count": 78,
      "metadata": {},
      "outputs": [
        {
          "name": "stdout",
          "output_type": "stream",
          "text": [
            "[2026, 2027, 2028, 2029, 2030]\n"
          ]
        },
        {
          "data": {
            "text/plain": [
              "{2025: 21000.0,\n",
              " 2026: 84000.0,\n",
              " 2027: 87600.0,\n",
              " 2028: 87600.0,\n",
              " 2029: 87600.0,\n",
              " 2030: 87600.0,\n",
              " 2031: 120000.0}"
            ]
          },
          "execution_count": 78,
          "metadata": {},
          "output_type": "execute_result"
        }
      ],
      "source": [
        "my_dict = expat_ruling_calc(35, 120000, \"2025-10-01\", 7, True, True)\n",
        "my_dict"
      ]
    },
    {
      "cell_type": "code",
      "execution_count": 79,
      "metadata": {},
      "outputs": [
        {
          "data": {
            "text/html": [
              "<div>\n",
              "<style scoped>\n",
              "    .dataframe tbody tr th:only-of-type {\n",
              "        vertical-align: middle;\n",
              "    }\n",
              "\n",
              "    .dataframe tbody tr th {\n",
              "        vertical-align: top;\n",
              "    }\n",
              "\n",
              "    .dataframe thead th {\n",
              "        text-align: right;\n",
              "    }\n",
              "</style>\n",
              "<table border=\"1\" class=\"dataframe\">\n",
              "  <thead>\n",
              "    <tr style=\"text-align: right;\">\n",
              "      <th></th>\n",
              "      <th>Year</th>\n",
              "      <th>Taxable Income</th>\n",
              "      <th>Fixed Costs</th>\n",
              "      <th>Tax</th>\n",
              "      <th>Arbeidskorting</th>\n",
              "      <th>Algemene Heffingskorting</th>\n",
              "      <th>Netto Disposable</th>\n",
              "      <th>Net Tax</th>\n",
              "    </tr>\n",
              "  </thead>\n",
              "  <tbody>\n",
              "    <tr>\n",
              "      <th>0</th>\n",
              "      <td>2025</td>\n",
              "      <td>21000.0</td>\n",
              "      <td>2207</td>\n",
              "      <td>-7522.0</td>\n",
              "      <td>2962.0</td>\n",
              "      <td>3362.0</td>\n",
              "      <td>17595.0</td>\n",
              "      <td>-13846.0</td>\n",
              "    </tr>\n",
              "    <tr>\n",
              "      <th>1</th>\n",
              "      <td>2026</td>\n",
              "      <td>84000.0</td>\n",
              "      <td>2207</td>\n",
              "      <td>-31708.0</td>\n",
              "      <td>1509.0</td>\n",
              "      <td>0.0</td>\n",
              "      <td>51594.0</td>\n",
              "      <td>-33217.0</td>\n",
              "    </tr>\n",
              "    <tr>\n",
              "      <th>2</th>\n",
              "      <td>2027</td>\n",
              "      <td>87600.0</td>\n",
              "      <td>2207</td>\n",
              "      <td>-33490.0</td>\n",
              "      <td>1293.0</td>\n",
              "      <td>0.0</td>\n",
              "      <td>53196.0</td>\n",
              "      <td>-34783.0</td>\n",
              "    </tr>\n",
              "    <tr>\n",
              "      <th>3</th>\n",
              "      <td>2028</td>\n",
              "      <td>87600.0</td>\n",
              "      <td>2207</td>\n",
              "      <td>-33490.0</td>\n",
              "      <td>1293.0</td>\n",
              "      <td>0.0</td>\n",
              "      <td>53196.0</td>\n",
              "      <td>-34783.0</td>\n",
              "    </tr>\n",
              "    <tr>\n",
              "      <th>4</th>\n",
              "      <td>2029</td>\n",
              "      <td>87600.0</td>\n",
              "      <td>2207</td>\n",
              "      <td>-33490.0</td>\n",
              "      <td>1293.0</td>\n",
              "      <td>0.0</td>\n",
              "      <td>53196.0</td>\n",
              "      <td>-34783.0</td>\n",
              "    </tr>\n",
              "    <tr>\n",
              "      <th>5</th>\n",
              "      <td>2030</td>\n",
              "      <td>87600.0</td>\n",
              "      <td>2207</td>\n",
              "      <td>-33490.0</td>\n",
              "      <td>1293.0</td>\n",
              "      <td>0.0</td>\n",
              "      <td>53196.0</td>\n",
              "      <td>-34783.0</td>\n",
              "    </tr>\n",
              "    <tr>\n",
              "      <th>6</th>\n",
              "      <td>2031</td>\n",
              "      <td>120000.0</td>\n",
              "      <td>2207</td>\n",
              "      <td>-49528.0</td>\n",
              "      <td>0.0</td>\n",
              "      <td>0.0</td>\n",
              "      <td>68265.0</td>\n",
              "      <td>-49528.0</td>\n",
              "    </tr>\n",
              "  </tbody>\n",
              "</table>\n",
              "</div>"
            ],
            "text/plain": [
              "   Year  Taxable Income  Fixed Costs      Tax  Arbeidskorting  \\\n",
              "0  2025         21000.0         2207  -7522.0          2962.0   \n",
              "1  2026         84000.0         2207 -31708.0          1509.0   \n",
              "2  2027         87600.0         2207 -33490.0          1293.0   \n",
              "3  2028         87600.0         2207 -33490.0          1293.0   \n",
              "4  2029         87600.0         2207 -33490.0          1293.0   \n",
              "5  2030         87600.0         2207 -33490.0          1293.0   \n",
              "6  2031        120000.0         2207 -49528.0             0.0   \n",
              "\n",
              "   Algemene Heffingskorting  Netto Disposable  Net Tax  \n",
              "0                    3362.0           17595.0 -13846.0  \n",
              "1                       0.0           51594.0 -33217.0  \n",
              "2                       0.0           53196.0 -34783.0  \n",
              "3                       0.0           53196.0 -34783.0  \n",
              "4                       0.0           53196.0 -34783.0  \n",
              "5                       0.0           53196.0 -34783.0  \n",
              "6                       0.0           68265.0 -49528.0  "
            ]
          },
          "execution_count": 79,
          "metadata": {},
          "output_type": "execute_result"
        }
      ],
      "source": [
        "# CONVERTING TO PANDA DATAFRAME AND ADDING OTHER PARAMETERS\n",
        "df = pd.DataFrame(list(my_dict.items()), columns=[\"Year\", \"Taxable Income\"])\n",
        "\n",
        "# ADDING FIXED COSTS FROM DICTIONARY\n",
        "fixed_costs_total = sum(fixed_costs.values()) if fixed_costs else 0\n",
        "df[\"Fixed Costs\"] = fixed_costs_total\n",
        "\n",
        "# CALCULATING TAX\n",
        "df[\"Tax\"] = round(-df[\"Taxable Income\"].apply(calc_tax), 0)\n",
        "\n",
        "# CALCULATING DEDUCTABLES\n",
        "df[\"Arbeidskorting\"] = round(df[\"Taxable Income\"].apply(bereken_arbeidskorting),0)\n",
        "df[\"Algemene Heffingskorting\"] = round(df[\"Taxable Income\"].apply(bereken_algemene_heffingskorting),0)\n",
        "\n",
        "# CALCULATING NETTO INCOME AFTER TAX & FIXED EXPENSES\n",
        "df[\"Netto Disposable\"] = df[\"Taxable Income\"] + (df[\"Tax\"] + df[\"Arbeidskorting\"] + df[\"Algemene Heffingskorting\"]) - df[\"Fixed Costs\"]\n",
        "\n",
        "# CALCULATING NET TAX\n",
        "df[\"Net Tax\"] = df[\"Tax\"] - (df[\"Arbeidskorting\"] + df[\"Algemene Heffingskorting\"])\n",
        "\n",
        "\n",
        "df"
      ]
    },
    {
      "cell_type": "markdown",
      "metadata": {},
      "source": [
        "### Graphs"
      ]
    },
    {
      "cell_type": "code",
      "execution_count": 77,
      "metadata": {},
      "outputs": [
        {
          "data": {
            "image/png": "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",
            "text/plain": [
              "<Figure size 1000x600 with 1 Axes>"
            ]
          },
          "metadata": {},
          "output_type": "display_data"
        }
      ],
      "source": [
        "# Prepare data\n",
        "plot_df = df[['Year', 'Netto Disposable', 'Fixed Costs', 'Net Tax']].copy()\n",
        "plot_df['Net Tax'] = plot_df['Net Tax'].abs()\n",
        "plot_df['Year'] = plot_df['Year'].astype(str)\n",
        "\n",
        "# Set style\n",
        "sns.set_theme(style=\"whitegrid\")\n",
        "\n",
        "# Use Blues sequential palette\n",
        "colors = sns.color_palette(\"Blues\", n_colors=3)  # 3 shades for 3 categories\n",
        "\n",
        "# Plot stacked bars\n",
        "fig, ax = plt.subplots(figsize=(10,6))\n",
        "\n",
        "bottom = None\n",
        "categories = ['Netto Disposable', 'Fixed Costs','Net Tax']\n",
        "for i, cat in enumerate(categories):\n",
        "    ax.bar(\n",
        "        plot_df['Year'],\n",
        "        plot_df[cat],\n",
        "        label=cat,\n",
        "        bottom=bottom,\n",
        "        color=colors[i]\n",
        "    )\n",
        "\n",
        "    # Annotate inside each segment\n",
        "    for x, y, b in zip(plot_df['Year'], plot_df[cat], bottom if bottom is not None else [0]*len(plot_df)):\n",
        "        if y > 0:\n",
        "            ax.text(\n",
        "                x, b + y/2, f\"{y:,.0f}\",\n",
        "                ha='center', va='center',\n",
        "                fontsize=9, color=\"black\",\n",
        "            )\n",
        "\n",
        "    bottom = plot_df[categories[:i+1]].sum(axis=1)\n",
        "\n",
        "# Titles & labels\n",
        "ax.set_title(\"Income Composition by Year\", fontsize=16)\n",
        "ax.set_ylabel(\"Amount (€)\", fontsize=12, weight='bold')\n",
        "ax.set_xlabel(\"Year\", fontsize=12,weight='bold')\n",
        "\n",
        "# Legend outside\n",
        "ax.legend(\n",
        "    title=\"Category\",\n",
        "    bbox_to_anchor=(1.02, 1),\n",
        "    loc='upper left',\n",
        "    borderaxespad=0,\n",
        "    frameon=False\n",
        ")\n",
        "\n",
        "sns.despine()\n",
        "plt.tight_layout()\n",
        "plt.show()\n"
      ]
    },
    {
      "cell_type": "code",
      "execution_count": null,
      "metadata": {},
      "outputs": [],
      "source": []
    }
  ],
  "metadata": {
    "colab": {
      "private_outputs": true,
      "provenance": []
    },
    "kernelspec": {
      "display_name": "dutch-salary-estimator-llm",
      "language": "python",
      "name": "python3"
    },
    "language_info": {
      "codemirror_mode": {
        "name": "ipython",
        "version": 3
      },
      "file_extension": ".py",
      "mimetype": "text/x-python",
      "name": "python",
      "nbconvert_exporter": "python",
      "pygments_lexer": "ipython3",
      "version": "3.10.6"
    }
>>>>>>> a543f12f13fa8a819edbcbee2caba34f1f85ebb1
  },
  {
   "cell_type": "markdown",
   "metadata": {
    "id": "jmdgyGQXY3yY"
   },
   "source": [
    "## Salary brackets\n",
    "From 2024: For newcomers who became eligible from 1 January 2024 onward, the tax-exempt benefit now follows a laddered structure over the five-year period:\n",
    "\n",
    "**30% tax-free for the first 20 months**\n",
    "**20% tax-free for the next 20 months**\n",
    "**10% tax-free for the final 20 months**\n",
    "\n",
    "Applicants with a ruling in place before 2024 are grandfathered, meaning they continue to enjoy the full 30% tax-free allowance for up to five years under the old rules.But a reversal is already underway. Following widespread criticism, the government decided to reverse the 30-20-10 structure:\n",
    "\n",
    "From 1 January 2025 through 31 December 2026, all eligible expats (including new ones) will receive a **flat 30% tax-free allowance**, without scaling. Then, starting 1 January 2027, the allowance will be permanently **adjusted to a flat 27%**, with updated salary thresholds.\n",
    "\n",
    "The 2025 Tax Plan, including the amendments, still requires approval from the Dutch Parliament. Should the proposals be adopted, these changes may have implications for certain employees."
   ]
  },
  {
   "cell_type": "markdown",
   "metadata": {
    "id": "kwPBL0-uaAmT"
   },
   "source": [
    "## Maximum allowable salary for 30% ruling\n",
    "\n",
    "30% facility applies to amounts up to €233,000\n",
    "The tax-free allowance applies to salary amounts of up to €233,000 a year (amount for 2024).\n",
    "\n",
    "https://www.belastingdienst.nl/wps/wcm/connect/en/individuals/content/coming-to-work-in-the-netherlands-30-percent-facility\n"
   ]
  },
  {
   "cell_type": "markdown",
   "metadata": {
    "id": "I_kNzudfbMbN"
   },
   "source": [
    "## Expertise Requirements\n",
    "\n",
    "To qualify for the 30%-ruling, an incoming employee must possess specific expertise that is either not available or scarcely available in the Dutch labor market. This expertise requirement is primarily determined based on a salary norm.\n",
    "\n",
    "Your specific expertise is hardly found on the labour market in the Netherlands. You have a specific expertise if your annual salary, not including the tax-free allowance in the Netherlands, is more than the annual salary in the table.\n",
    "\n",
    "Table: specific expertise\n",
    "Year\tYour annual salary is more than\n",
    "**2025\t€46,660**\n",
    "2024\t€46,107\n",
    "2023\t€41,954\n",
    "\n",
    "You are younger than 30, and you have a Dutch academic master's degree\n",
    "Or you have obtained an equivalent title in another country. You have a specific expertise if your annual salary, not including the tax-free allowance in the Netherlands, is more than the annual salary in the table.\n",
    "Table: specific expertise for people younger than 30\n",
    "Year\tYour annual salary is more than\n",
    "**2025\t€35,468**\n",
    "2024\t€35,048\n",
    "2023\t€31,891\n",
    "\n",
    "https://www.belastingdienst.nl/wps/wcm/connect/en/individuals/content/coming-to-work-in-the-netherlands-30-percent-facility\n",
    "\n",
    "\n"
   ]
  },
  {
   "cell_type": "markdown",
   "metadata": {
    "id": "SR3LY9Lre65q"
   },
   "source": [
    "# 2.Data Schema"
   ]
  },
  {
   "cell_type": "markdown",
   "metadata": {
    "id": "9gHsH1d2fGYN"
   },
   "source": [
    "### Data Inputs\n",
    "\n",
    "Age: integer  \n",
    "Base_salary: Gross, expected to earn once relocated  \n",
    "Duration_years: Expected to remain in the Netherlands, if omitted  assumed 10 years  \n",
    "Start_Date: Date when expected to start the job\n",
    "Expertise: Boolean (if posseses specific expertise not available)  \n",
    "Master_dpl: Boolean (if possesses Dutch academic master degree)\n",
    "\n",
    "### Parameters\n",
    "Salary_cap: Maximum salary on which 30% ruling is applied  \n",
    "Salary_req_young: Salary requirements young professional\n",
    "Salary_expert: Salary for employee with specific expertise\n",
    "\n",
    "### Function\n",
    "\n",
    "Function will consume data inputs and parameters and will return a  \n",
    "dictionary of values for each subsequential year employee will work in  \n",
    "the Netherlands and the respective Gross Salary which will be taxed\n",
    "\n",
    "\n",
    "\n"
   ]
  },
  {
   "cell_type": "markdown",
   "metadata": {
    "id": "mOnzN66dfChq"
   },
   "source": [
    "\n",
    "\n",
    "---\n",
    "\n"
   ]
  },
  {
   "cell_type": "code",
   "execution_count": 20,
   "metadata": {
    "id": "270irvRFfB_P"
   },
   "outputs": [],
   "source": [
    "import pandas as pd\n",
    "import datetime\n",
    "\n",
    "from datetime import datetime, date, time, timedelta\n",
    "import matplotlib.pyplot as plt\n",
    "import seaborn as sns\n"
   ]
  },
  {
   "cell_type": "code",
   "execution_count": 21,
   "metadata": {
    "id": "eN5eiGnNkNXW"
   },
   "outputs": [],
   "source": [
    "def apply_ruling(base_salary: float, months_dur: int, year: int, year_seq: int):\n",
    "  # base_salary -> annual\n",
    "  # function derives gross salary net of 30% taxes\n",
    "  # months_dur -> months when 30% ruling will be applied\n",
    "  # year_seq: which year we deal with: 0 -> first, 1 -> intermeidate year, 2-> last, 3-> no 30% ruling\n",
    "\n",
    "    if year in (2025, 2026) and year_seq == 0 and months_dur != 12:\n",
    "      # 30% ruling on months applied\n",
    "      gross_taxable = (base_salary - (base_salary * 0.3)) / 12 * months_dur\n",
    "    elif year in (2025, 2026) and year_seq == 1:\n",
    "      # in case 2025, 2025 not first year -> full year 30% ruling\n",
    "      gross_taxable = base_salary - (base_salary * 0.3)\n",
    "    elif year not in (2025, 2026) and year_seq == 1:\n",
    "      # in case 2026 or later and 27% ruling whole year\n",
    "      gross_taxable = base_salary - (base_salary * 0.27)\n",
    "    elif year not in (2025, 2026) and year_seq == 2:\n",
    "      # in case 2026 or later and 30% ruling part of the year\n",
    "      gross_taxable = ((base_salary - (base_salary * 0.3)) / 12 * months_dur) + (base_salary / 12 * (12 - months_dur))\n",
    "    else:\n",
    "      # no 30% ruling and year later than 2026\n",
    "      gross_taxable = base_salary\n",
    "\n",
    "    return gross_taxable"
   ]
  },
  {
   "cell_type": "code",
   "execution_count": 22,
   "metadata": {
    "id": "3SVmFxrokOTK"
   },
   "outputs": [],
   "source": [
    "# apply_ruling(55000, 3, 2025, 0)"
   ]
  },
  {
   "cell_type": "code",
   "execution_count": 23,
   "metadata": {
    "id": "3b3s8Ehih9JV"
   },
   "outputs": [],
   "source": [
    "def expat_ruling_calc(age: int, base_salary: float, date_string: str, duration: int = 10,\n",
    "                      expertise: bool = False, master_dpl: bool = False):\n",
    "\n",
    "  # INITIATE KEY PARAMETERS\n",
    "  salary_cap = 233000\n",
    "  salary_req_young = 35468\n",
    "  salary_expert = 46660\n",
    "\n",
    "  # DETERMINE MONTHS REMAINING IN FIRST YEAR & LAST YEAR\n",
    "  # date_string = \"2024-12-25\"\n",
    "\n",
    "  start_date = datetime.strptime(date_string, \"%Y-%m-%d\")\n",
    "\n",
    "  # DETERMINE CURRENT YEAR\n",
    "  current_year = start_date.year\n",
    "\n",
    "  months_remaining_init = 12 - start_date.month + 1\n",
    "  months_remaining_final = 12 - months_remaining_init\n",
    "\n",
    "  # YEARS SEQUENCE\n",
    "  # CREATE A SEQUENCE OF YEARS EXPECTED TO BE EMPLOYED IN NL\n",
    "  # CREATE DICTIONARY TO KEEP VALUES IN\n",
    "\n",
    "  years_sequence = list(range(current_year, current_year + duration))\n",
    "  my_dict = {}\n",
    "  my_key = years_sequence\n",
    "\n",
    "  for key in my_key:\n",
    "    my_dict[key] = \"\"\n",
    "\n",
    "  # CHECK IF 30% RULING WILL APPLY\n",
    "\n",
    "  if age < 30 and expertise == True and master_dpl == True and base_salary >= salary_req_young:\n",
    "        Ruling_test = True\n",
    "  elif age >= 30 and expertise == True and base_salary >= salary_expert:\n",
    "        Ruling_test = True\n",
    "  else:\n",
    "        Ruling_test = False\n",
    "\n",
    "  # CALCULATION BASE\n",
    "\n",
    "  if base_salary > salary_cap:\n",
    "    base_salary = salary_cap\n",
    "  else:\n",
    "    base_salary = base_salary\n",
    "\n",
    "  keys_list = list(my_dict.keys())  # Get the tuple\n",
    "  keys = list(keys_list)  # Convert tuple to list: ['A', 'B', 'C']\n",
    "\n",
    "  # CHECKING IF THERE IS A BROKEN YEAR AND CALCULATING THESE PARTS #\n",
    "  ##################################################################\n",
    "\n",
    "  if Ruling_test == True:\n",
    "    # months_remaining_init != 12 and Ruling_test == True:\n",
    "    # if start date not January\n",
    "\n",
    "    year1 = apply_ruling(base_salary, months_remaining_init, int(keys_list[0]), 0)\n",
    "    year5 = apply_ruling(base_salary, months_remaining_final, int(keys_list[4]), 2)\n",
    "    my_dict[keys[0]] = year1\n",
    "    my_dict[keys[4]] = year5\n",
    "\n",
    "    # other years -not first and last years\n",
    "    other_years_sequence = list(keys_list[1:4])\n",
    "\n",
    "    for key in other_years_sequence:\n",
    "      if key >= 2027:\n",
    "        # new 27% ruling\n",
    "        my_dict[key] = apply_ruling(base_salary, 12, int(key), 1)\n",
    "      else:\n",
    "        # apply 30% ruling\n",
    "        my_dict[key] = apply_ruling(base_salary, 12, int(key), 1)\n",
    "\n",
    "    # populating remainder of the dictionary - no ruling\n",
    "    for key in keys_list[5:]:\n",
    "      my_dict[key] = float(base_salary)\n",
    "\n",
    "    return my_dict\n",
    "\n",
    "  else:\n",
    "    # not applicable - not fulfilling conditions\n",
    "    # populating remainder of the dictionary - no ruling\n",
    "    for key in keys_list:\n",
    "      my_dict[key] = float(base_salary)\n",
    "\n",
    "    return my_dict\n"
   ]
  },
  {
   "cell_type": "code",
   "execution_count": 77,
   "metadata": {
    "id": "s1Ha2FDevJhL"
   },
   "outputs": [],
   "source": [
    "my_dict = expat_ruling_calc(25, 37000, \"2025-10-01\", 8, True, True)\n"
   ]
  },
  {
   "cell_type": "code",
   "execution_count": 78,
   "metadata": {},
   "outputs": [
    {
     "data": {
      "image/png": "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",
      "text/plain": [
       "<Figure size 765x450 with 1 Axes>"
      ]
     },
     "metadata": {},
     "output_type": "display_data"
    }
   ],
   "source": [
    "sns.set_theme(style=\"white\", context=\"talk\")\n",
    "\n",
    "# Line with diamond markers\n",
    "g = sns.relplot(\n",
    "    data=df, kind=\"line\",\n",
    "    x=\"Year\", y=\"Taxable Income\",\n",
    "    linewidth=1.2, color=\"black\",\n",
    "    marker=\"D\",                 # diamond marker\n",
    "    markersize=5,               # smaller, subtle size\n",
    "    height=4.5, aspect=1.7\n",
    ")\n",
    "\n",
    "# Refine axes\n",
    "ax = g.ax\n",
    "ax.set_xlim(df[\"Year\"].min(), df[\"Year\"].max()+1)\n",
    "ax.set_ylim(0, df[\"Taxable Income\"].max() * 1.1)\n",
    "\n",
    "ax.set_xlabel(\"Year\")\n",
    "ax.set_ylabel(\"Taxable Income\")\n",
    "ax.set_title(\"Projected Taxable Income\", fontsize=13, weight=\"medium\", pad=15)\n",
    "\n",
    "# Subtle grid + ticks\n",
    "ax.grid(True, which=\"major\", linestyle=\"--\", linewidth=0.6, alpha=0.6)\n",
    "ax.tick_params(axis=\"both\", which=\"major\", labelsize=10, direction=\"out\")\n",
    "\n",
    "plt.show()"
   ]
  }
 ],
 "metadata": {
  "colab": {
   "private_outputs": true,
   "provenance": []
  },
  "kernelspec": {
   "display_name": "Python 3 (ipykernel)",
   "language": "python",
   "name": "python3"
  },
  "language_info": {
   "codemirror_mode": {
    "name": "ipython",
    "version": 3
   },
   "file_extension": ".py",
   "mimetype": "text/x-python",
   "name": "python",
   "nbconvert_exporter": "python",
   "pygments_lexer": "ipython3",
   "version": "3.10.6"
  }
 },
 "nbformat": 4,
 "nbformat_minor": 4
}
